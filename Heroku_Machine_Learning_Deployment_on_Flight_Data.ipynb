{
  "nbformat": 4,
  "nbformat_minor": 0,
  "metadata": {
    "colab": {
      "name": "Heroku Machine Learning Deployment on Flight Data.ipynb",
      "provenance": [],
      "collapsed_sections": []
    },
    "kernelspec": {
      "name": "python3",
      "display_name": "Python 3"
    },
    "language_info": {
      "name": "python"
    }
  },
  "cells": [
    {
      "cell_type": "code",
      "execution_count": 1,
      "metadata": {
        "colab": {
          "base_uri": "https://localhost:8080/"
        },
        "id": "EV4kvG16pMyG",
        "outputId": "79866815-bed0-438a-908b-cefef2de647f"
      },
      "outputs": [
        {
          "output_type": "stream",
          "name": "stdout",
          "text": [
            "Collecting chart_studio\n",
            "  Downloading chart_studio-1.1.0-py3-none-any.whl (64 kB)\n",
            "\u001b[?25l\r\u001b[K     |█████                           | 10 kB 26.2 MB/s eta 0:00:01\r\u001b[K     |██████████▏                     | 20 kB 31.4 MB/s eta 0:00:01\r\u001b[K     |███████████████▎                | 30 kB 17.8 MB/s eta 0:00:01\r\u001b[K     |████████████████████▍           | 40 kB 6.4 MB/s eta 0:00:01\r\u001b[K     |█████████████████████████▍      | 51 kB 7.6 MB/s eta 0:00:01\r\u001b[K     |██████████████████████████████▌ | 61 kB 8.0 MB/s eta 0:00:01\r\u001b[K     |████████████████████████████████| 64 kB 2.2 MB/s \n",
            "\u001b[?25hCollecting retrying>=1.3.3\n",
            "  Downloading retrying-1.3.3.tar.gz (10 kB)\n",
            "Requirement already satisfied: six in /usr/local/lib/python3.7/dist-packages (from chart_studio) (1.15.0)\n",
            "Requirement already satisfied: plotly in /usr/local/lib/python3.7/dist-packages (from chart_studio) (5.5.0)\n",
            "Requirement already satisfied: requests in /usr/local/lib/python3.7/dist-packages (from chart_studio) (2.23.0)\n",
            "Requirement already satisfied: tenacity>=6.2.0 in /usr/local/lib/python3.7/dist-packages (from plotly->chart_studio) (8.0.1)\n",
            "Requirement already satisfied: certifi>=2017.4.17 in /usr/local/lib/python3.7/dist-packages (from requests->chart_studio) (2021.10.8)\n",
            "Requirement already satisfied: urllib3!=1.25.0,!=1.25.1,<1.26,>=1.21.1 in /usr/local/lib/python3.7/dist-packages (from requests->chart_studio) (1.24.3)\n",
            "Requirement already satisfied: chardet<4,>=3.0.2 in /usr/local/lib/python3.7/dist-packages (from requests->chart_studio) (3.0.4)\n",
            "Requirement already satisfied: idna<3,>=2.5 in /usr/local/lib/python3.7/dist-packages (from requests->chart_studio) (2.10)\n",
            "Building wheels for collected packages: retrying\n",
            "  Building wheel for retrying (setup.py) ... \u001b[?25l\u001b[?25hdone\n",
            "  Created wheel for retrying: filename=retrying-1.3.3-py3-none-any.whl size=11447 sha256=4c24d0ae182d7aa437e65bfe4c02a64d272068b97862fb8e21d1eaa9408afa0e\n",
            "  Stored in directory: /root/.cache/pip/wheels/f9/8d/8d/f6af3f7f9eea3553bc2fe6d53e4b287dad18b06a861ac56ddf\n",
            "Successfully built retrying\n",
            "Installing collected packages: retrying, chart-studio\n",
            "Successfully installed chart-studio-1.1.0 retrying-1.3.3\n"
          ]
        }
      ],
      "source": [
        "!pip install chart_studio"
      ]
    },
    {
      "cell_type": "code",
      "source": [
        "!pip install cufflinks"
      ],
      "metadata": {
        "colab": {
          "base_uri": "https://localhost:8080/"
        },
        "id": "_bzDrRrVzU_7",
        "outputId": "c566da0d-974a-4ac3-d321-1ec5782f4fd5"
      },
      "execution_count": 2,
      "outputs": [
        {
          "output_type": "stream",
          "name": "stdout",
          "text": [
            "Requirement already satisfied: cufflinks in /usr/local/lib/python3.7/dist-packages (0.17.3)\n",
            "Requirement already satisfied: ipython>=5.3.0 in /usr/local/lib/python3.7/dist-packages (from cufflinks) (5.5.0)\n",
            "Requirement already satisfied: ipywidgets>=7.0.0 in /usr/local/lib/python3.7/dist-packages (from cufflinks) (7.6.5)\n",
            "Requirement already satisfied: numpy>=1.9.2 in /usr/local/lib/python3.7/dist-packages (from cufflinks) (1.21.5)\n",
            "Requirement already satisfied: colorlover>=0.2.1 in /usr/local/lib/python3.7/dist-packages (from cufflinks) (0.3.0)\n",
            "Requirement already satisfied: setuptools>=34.4.1 in /usr/local/lib/python3.7/dist-packages (from cufflinks) (57.4.0)\n",
            "Requirement already satisfied: plotly>=4.1.1 in /usr/local/lib/python3.7/dist-packages (from cufflinks) (5.5.0)\n",
            "Requirement already satisfied: six>=1.9.0 in /usr/local/lib/python3.7/dist-packages (from cufflinks) (1.15.0)\n",
            "Requirement already satisfied: pandas>=0.19.2 in /usr/local/lib/python3.7/dist-packages (from cufflinks) (1.3.5)\n",
            "Requirement already satisfied: traitlets>=4.2 in /usr/local/lib/python3.7/dist-packages (from ipython>=5.3.0->cufflinks) (5.1.1)\n",
            "Requirement already satisfied: simplegeneric>0.8 in /usr/local/lib/python3.7/dist-packages (from ipython>=5.3.0->cufflinks) (0.8.1)\n",
            "Requirement already satisfied: decorator in /usr/local/lib/python3.7/dist-packages (from ipython>=5.3.0->cufflinks) (4.4.2)\n",
            "Requirement already satisfied: pygments in /usr/local/lib/python3.7/dist-packages (from ipython>=5.3.0->cufflinks) (2.6.1)\n",
            "Requirement already satisfied: prompt-toolkit<2.0.0,>=1.0.4 in /usr/local/lib/python3.7/dist-packages (from ipython>=5.3.0->cufflinks) (1.0.18)\n",
            "Requirement already satisfied: pexpect in /usr/local/lib/python3.7/dist-packages (from ipython>=5.3.0->cufflinks) (4.8.0)\n",
            "Requirement already satisfied: pickleshare in /usr/local/lib/python3.7/dist-packages (from ipython>=5.3.0->cufflinks) (0.7.5)\n",
            "Requirement already satisfied: nbformat>=4.2.0 in /usr/local/lib/python3.7/dist-packages (from ipywidgets>=7.0.0->cufflinks) (5.1.3)\n",
            "Requirement already satisfied: widgetsnbextension~=3.5.0 in /usr/local/lib/python3.7/dist-packages (from ipywidgets>=7.0.0->cufflinks) (3.5.2)\n",
            "Requirement already satisfied: jupyterlab-widgets>=1.0.0 in /usr/local/lib/python3.7/dist-packages (from ipywidgets>=7.0.0->cufflinks) (1.0.2)\n",
            "Requirement already satisfied: ipykernel>=4.5.1 in /usr/local/lib/python3.7/dist-packages (from ipywidgets>=7.0.0->cufflinks) (4.10.1)\n",
            "Requirement already satisfied: ipython-genutils~=0.2.0 in /usr/local/lib/python3.7/dist-packages (from ipywidgets>=7.0.0->cufflinks) (0.2.0)\n",
            "Requirement already satisfied: jupyter-client in /usr/local/lib/python3.7/dist-packages (from ipykernel>=4.5.1->ipywidgets>=7.0.0->cufflinks) (5.3.5)\n",
            "Requirement already satisfied: tornado>=4.0 in /usr/local/lib/python3.7/dist-packages (from ipykernel>=4.5.1->ipywidgets>=7.0.0->cufflinks) (5.1.1)\n",
            "Requirement already satisfied: jupyter-core in /usr/local/lib/python3.7/dist-packages (from nbformat>=4.2.0->ipywidgets>=7.0.0->cufflinks) (4.9.2)\n",
            "Requirement already satisfied: jsonschema!=2.5.0,>=2.4 in /usr/local/lib/python3.7/dist-packages (from nbformat>=4.2.0->ipywidgets>=7.0.0->cufflinks) (4.3.3)\n",
            "Requirement already satisfied: importlib-resources>=1.4.0 in /usr/local/lib/python3.7/dist-packages (from jsonschema!=2.5.0,>=2.4->nbformat>=4.2.0->ipywidgets>=7.0.0->cufflinks) (5.4.0)\n",
            "Requirement already satisfied: typing-extensions in /usr/local/lib/python3.7/dist-packages (from jsonschema!=2.5.0,>=2.4->nbformat>=4.2.0->ipywidgets>=7.0.0->cufflinks) (3.10.0.2)\n",
            "Requirement already satisfied: attrs>=17.4.0 in /usr/local/lib/python3.7/dist-packages (from jsonschema!=2.5.0,>=2.4->nbformat>=4.2.0->ipywidgets>=7.0.0->cufflinks) (21.4.0)\n",
            "Requirement already satisfied: pyrsistent!=0.17.0,!=0.17.1,!=0.17.2,>=0.14.0 in /usr/local/lib/python3.7/dist-packages (from jsonschema!=2.5.0,>=2.4->nbformat>=4.2.0->ipywidgets>=7.0.0->cufflinks) (0.18.1)\n",
            "Requirement already satisfied: importlib-metadata in /usr/local/lib/python3.7/dist-packages (from jsonschema!=2.5.0,>=2.4->nbformat>=4.2.0->ipywidgets>=7.0.0->cufflinks) (4.11.2)\n",
            "Requirement already satisfied: zipp>=3.1.0 in /usr/local/lib/python3.7/dist-packages (from importlib-resources>=1.4.0->jsonschema!=2.5.0,>=2.4->nbformat>=4.2.0->ipywidgets>=7.0.0->cufflinks) (3.7.0)\n",
            "Requirement already satisfied: python-dateutil>=2.7.3 in /usr/local/lib/python3.7/dist-packages (from pandas>=0.19.2->cufflinks) (2.8.2)\n",
            "Requirement already satisfied: pytz>=2017.3 in /usr/local/lib/python3.7/dist-packages (from pandas>=0.19.2->cufflinks) (2018.9)\n",
            "Requirement already satisfied: tenacity>=6.2.0 in /usr/local/lib/python3.7/dist-packages (from plotly>=4.1.1->cufflinks) (8.0.1)\n",
            "Requirement already satisfied: wcwidth in /usr/local/lib/python3.7/dist-packages (from prompt-toolkit<2.0.0,>=1.0.4->ipython>=5.3.0->cufflinks) (0.2.5)\n",
            "Requirement already satisfied: notebook>=4.4.1 in /usr/local/lib/python3.7/dist-packages (from widgetsnbextension~=3.5.0->ipywidgets>=7.0.0->cufflinks) (5.3.1)\n",
            "Requirement already satisfied: nbconvert in /usr/local/lib/python3.7/dist-packages (from notebook>=4.4.1->widgetsnbextension~=3.5.0->ipywidgets>=7.0.0->cufflinks) (5.6.1)\n",
            "Requirement already satisfied: jinja2 in /usr/local/lib/python3.7/dist-packages (from notebook>=4.4.1->widgetsnbextension~=3.5.0->ipywidgets>=7.0.0->cufflinks) (2.11.3)\n",
            "Requirement already satisfied: Send2Trash in /usr/local/lib/python3.7/dist-packages (from notebook>=4.4.1->widgetsnbextension~=3.5.0->ipywidgets>=7.0.0->cufflinks) (1.8.0)\n",
            "Requirement already satisfied: terminado>=0.8.1 in /usr/local/lib/python3.7/dist-packages (from notebook>=4.4.1->widgetsnbextension~=3.5.0->ipywidgets>=7.0.0->cufflinks) (0.13.3)\n",
            "Requirement already satisfied: pyzmq>=13 in /usr/local/lib/python3.7/dist-packages (from jupyter-client->ipykernel>=4.5.1->ipywidgets>=7.0.0->cufflinks) (22.3.0)\n",
            "Requirement already satisfied: ptyprocess in /usr/local/lib/python3.7/dist-packages (from terminado>=0.8.1->notebook>=4.4.1->widgetsnbextension~=3.5.0->ipywidgets>=7.0.0->cufflinks) (0.7.0)\n",
            "Requirement already satisfied: MarkupSafe>=0.23 in /usr/local/lib/python3.7/dist-packages (from jinja2->notebook>=4.4.1->widgetsnbextension~=3.5.0->ipywidgets>=7.0.0->cufflinks) (2.0.1)\n",
            "Requirement already satisfied: mistune<2,>=0.8.1 in /usr/local/lib/python3.7/dist-packages (from nbconvert->notebook>=4.4.1->widgetsnbextension~=3.5.0->ipywidgets>=7.0.0->cufflinks) (0.8.4)\n",
            "Requirement already satisfied: entrypoints>=0.2.2 in /usr/local/lib/python3.7/dist-packages (from nbconvert->notebook>=4.4.1->widgetsnbextension~=3.5.0->ipywidgets>=7.0.0->cufflinks) (0.4)\n",
            "Requirement already satisfied: bleach in /usr/local/lib/python3.7/dist-packages (from nbconvert->notebook>=4.4.1->widgetsnbextension~=3.5.0->ipywidgets>=7.0.0->cufflinks) (4.1.0)\n",
            "Requirement already satisfied: testpath in /usr/local/lib/python3.7/dist-packages (from nbconvert->notebook>=4.4.1->widgetsnbextension~=3.5.0->ipywidgets>=7.0.0->cufflinks) (0.6.0)\n",
            "Requirement already satisfied: defusedxml in /usr/local/lib/python3.7/dist-packages (from nbconvert->notebook>=4.4.1->widgetsnbextension~=3.5.0->ipywidgets>=7.0.0->cufflinks) (0.7.1)\n",
            "Requirement already satisfied: pandocfilters>=1.4.1 in /usr/local/lib/python3.7/dist-packages (from nbconvert->notebook>=4.4.1->widgetsnbextension~=3.5.0->ipywidgets>=7.0.0->cufflinks) (1.5.0)\n",
            "Requirement already satisfied: webencodings in /usr/local/lib/python3.7/dist-packages (from bleach->nbconvert->notebook>=4.4.1->widgetsnbextension~=3.5.0->ipywidgets>=7.0.0->cufflinks) (0.5.1)\n",
            "Requirement already satisfied: packaging in /usr/local/lib/python3.7/dist-packages (from bleach->nbconvert->notebook>=4.4.1->widgetsnbextension~=3.5.0->ipywidgets>=7.0.0->cufflinks) (21.3)\n",
            "Requirement already satisfied: pyparsing!=3.0.5,>=2.0.2 in /usr/local/lib/python3.7/dist-packages (from packaging->bleach->nbconvert->notebook>=4.4.1->widgetsnbextension~=3.5.0->ipywidgets>=7.0.0->cufflinks) (3.0.7)\n"
          ]
        }
      ]
    },
    {
      "cell_type": "code",
      "source": [
        "!pip install pyyaml==5.4.1"
      ],
      "metadata": {
        "colab": {
          "base_uri": "https://localhost:8080/"
        },
        "id": "wpVysXfR3Erb",
        "outputId": "40bb7d25-904b-4970-80f6-168f86dc6ba9"
      },
      "execution_count": 3,
      "outputs": [
        {
          "output_type": "stream",
          "name": "stdout",
          "text": [
            "Collecting pyyaml==5.4.1\n",
            "  Downloading PyYAML-5.4.1-cp37-cp37m-manylinux1_x86_64.whl (636 kB)\n",
            "\u001b[?25l\r\u001b[K     |▌                               | 10 kB 17.9 MB/s eta 0:00:01\r\u001b[K     |█                               | 20 kB 21.0 MB/s eta 0:00:01\r\u001b[K     |█▌                              | 30 kB 18.0 MB/s eta 0:00:01\r\u001b[K     |██                              | 40 kB 12.2 MB/s eta 0:00:01\r\u001b[K     |██▋                             | 51 kB 5.7 MB/s eta 0:00:01\r\u001b[K     |███                             | 61 kB 6.7 MB/s eta 0:00:01\r\u001b[K     |███▋                            | 71 kB 7.3 MB/s eta 0:00:01\r\u001b[K     |████▏                           | 81 kB 6.3 MB/s eta 0:00:01\r\u001b[K     |████▋                           | 92 kB 6.9 MB/s eta 0:00:01\r\u001b[K     |█████▏                          | 102 kB 7.4 MB/s eta 0:00:01\r\u001b[K     |█████▋                          | 112 kB 7.4 MB/s eta 0:00:01\r\u001b[K     |██████▏                         | 122 kB 7.4 MB/s eta 0:00:01\r\u001b[K     |██████▊                         | 133 kB 7.4 MB/s eta 0:00:01\r\u001b[K     |███████▏                        | 143 kB 7.4 MB/s eta 0:00:01\r\u001b[K     |███████▊                        | 153 kB 7.4 MB/s eta 0:00:01\r\u001b[K     |████████▎                       | 163 kB 7.4 MB/s eta 0:00:01\r\u001b[K     |████████▊                       | 174 kB 7.4 MB/s eta 0:00:01\r\u001b[K     |█████████▎                      | 184 kB 7.4 MB/s eta 0:00:01\r\u001b[K     |█████████▉                      | 194 kB 7.4 MB/s eta 0:00:01\r\u001b[K     |██████████▎                     | 204 kB 7.4 MB/s eta 0:00:01\r\u001b[K     |██████████▉                     | 215 kB 7.4 MB/s eta 0:00:01\r\u001b[K     |███████████▎                    | 225 kB 7.4 MB/s eta 0:00:01\r\u001b[K     |███████████▉                    | 235 kB 7.4 MB/s eta 0:00:01\r\u001b[K     |████████████▍                   | 245 kB 7.4 MB/s eta 0:00:01\r\u001b[K     |████████████▉                   | 256 kB 7.4 MB/s eta 0:00:01\r\u001b[K     |█████████████▍                  | 266 kB 7.4 MB/s eta 0:00:01\r\u001b[K     |██████████████                  | 276 kB 7.4 MB/s eta 0:00:01\r\u001b[K     |██████████████▍                 | 286 kB 7.4 MB/s eta 0:00:01\r\u001b[K     |███████████████                 | 296 kB 7.4 MB/s eta 0:00:01\r\u001b[K     |███████████████▍                | 307 kB 7.4 MB/s eta 0:00:01\r\u001b[K     |████████████████                | 317 kB 7.4 MB/s eta 0:00:01\r\u001b[K     |████████████████▌               | 327 kB 7.4 MB/s eta 0:00:01\r\u001b[K     |█████████████████               | 337 kB 7.4 MB/s eta 0:00:01\r\u001b[K     |█████████████████▌              | 348 kB 7.4 MB/s eta 0:00:01\r\u001b[K     |██████████████████              | 358 kB 7.4 MB/s eta 0:00:01\r\u001b[K     |██████████████████▌             | 368 kB 7.4 MB/s eta 0:00:01\r\u001b[K     |███████████████████             | 378 kB 7.4 MB/s eta 0:00:01\r\u001b[K     |███████████████████▋            | 389 kB 7.4 MB/s eta 0:00:01\r\u001b[K     |████████████████████            | 399 kB 7.4 MB/s eta 0:00:01\r\u001b[K     |████████████████████▋           | 409 kB 7.4 MB/s eta 0:00:01\r\u001b[K     |█████████████████████           | 419 kB 7.4 MB/s eta 0:00:01\r\u001b[K     |█████████████████████▋          | 430 kB 7.4 MB/s eta 0:00:01\r\u001b[K     |██████████████████████▏         | 440 kB 7.4 MB/s eta 0:00:01\r\u001b[K     |██████████████████████▋         | 450 kB 7.4 MB/s eta 0:00:01\r\u001b[K     |███████████████████████▏        | 460 kB 7.4 MB/s eta 0:00:01\r\u001b[K     |███████████████████████▊        | 471 kB 7.4 MB/s eta 0:00:01\r\u001b[K     |████████████████████████▏       | 481 kB 7.4 MB/s eta 0:00:01\r\u001b[K     |████████████████████████▊       | 491 kB 7.4 MB/s eta 0:00:01\r\u001b[K     |█████████████████████████▏      | 501 kB 7.4 MB/s eta 0:00:01\r\u001b[K     |█████████████████████████▊      | 512 kB 7.4 MB/s eta 0:00:01\r\u001b[K     |██████████████████████████▎     | 522 kB 7.4 MB/s eta 0:00:01\r\u001b[K     |██████████████████████████▊     | 532 kB 7.4 MB/s eta 0:00:01\r\u001b[K     |███████████████████████████▎    | 542 kB 7.4 MB/s eta 0:00:01\r\u001b[K     |███████████████████████████▉    | 552 kB 7.4 MB/s eta 0:00:01\r\u001b[K     |████████████████████████████▎   | 563 kB 7.4 MB/s eta 0:00:01\r\u001b[K     |████████████████████████████▉   | 573 kB 7.4 MB/s eta 0:00:01\r\u001b[K     |█████████████████████████████▍  | 583 kB 7.4 MB/s eta 0:00:01\r\u001b[K     |█████████████████████████████▉  | 593 kB 7.4 MB/s eta 0:00:01\r\u001b[K     |██████████████████████████████▍ | 604 kB 7.4 MB/s eta 0:00:01\r\u001b[K     |██████████████████████████████▉ | 614 kB 7.4 MB/s eta 0:00:01\r\u001b[K     |███████████████████████████████▍| 624 kB 7.4 MB/s eta 0:00:01\r\u001b[K     |████████████████████████████████| 634 kB 7.4 MB/s eta 0:00:01\r\u001b[K     |████████████████████████████████| 636 kB 7.4 MB/s \n",
            "\u001b[?25hInstalling collected packages: pyyaml\n",
            "  Attempting uninstall: pyyaml\n",
            "    Found existing installation: PyYAML 3.13\n",
            "    Uninstalling PyYAML-3.13:\n",
            "      Successfully uninstalled PyYAML-3.13\n",
            "Successfully installed pyyaml-5.4.1\n"
          ]
        }
      ]
    },
    {
      "cell_type": "code",
      "source": [
        "import matplotlib.pyplot as plt\n",
        "from chart_studio.plotly import plot,iplot \n",
        "import cufflinks as cf\n",
        "import seaborn as sns\n",
        "import matplotlib.pyplot as plt\n",
        "import pandas as pd\n",
        "import numpy as np\n",
        "\n",
        "%matplotlib inline\n",
        "\n"
      ],
      "metadata": {
        "id": "LztZTgMzzZNb",
        "colab": {
          "base_uri": "https://localhost:8080/"
        },
        "outputId": "f45a5172-5bef-4cb2-bea5-75ee629461a2"
      },
      "execution_count": 4,
      "outputs": [
        {
          "output_type": "stream",
          "name": "stderr",
          "text": [
            "/usr/local/lib/python3.7/dist-packages/distributed/config.py:20: YAMLLoadWarning:\n",
            "\n",
            "calling yaml.load() without Loader=... is deprecated, as the default Loader is unsafe. Please read https://msg.pyyaml.org/load for full details.\n",
            "\n"
          ]
        }
      ]
    },
    {
      "cell_type": "code",
      "source": [
        "df = pd.read_excel(\"/content/Data_Train.xlsx\")"
      ],
      "metadata": {
        "id": "-8_ZE7HZzrse"
      },
      "execution_count": 5,
      "outputs": []
    },
    {
      "cell_type": "code",
      "source": [
        "df.head()"
      ],
      "metadata": {
        "colab": {
          "base_uri": "https://localhost:8080/",
          "height": 285
        },
        "id": "Hd1QSC-tzvYG",
        "outputId": "ef15a1ae-7652-4f3b-c18f-6ae56e74c995"
      },
      "execution_count": 6,
      "outputs": [
        {
          "output_type": "execute_result",
          "data": {
            "text/plain": [
              "       Airline Date_of_Journey    Source Destination                  Route  \\\n",
              "0       IndiGo      24/03/2019  Banglore   New Delhi              BLR → DEL   \n",
              "1    Air India       1/05/2019   Kolkata    Banglore  CCU → IXR → BBI → BLR   \n",
              "2  Jet Airways       9/06/2019     Delhi      Cochin  DEL → LKO → BOM → COK   \n",
              "3       IndiGo      12/05/2019   Kolkata    Banglore        CCU → NAG → BLR   \n",
              "4       IndiGo      01/03/2019  Banglore   New Delhi        BLR → NAG → DEL   \n",
              "\n",
              "  Dep_Time  Arrival_Time Duration Total_Stops Additional_Info  Price  \n",
              "0    22:20  01:10 22 Mar   2h 50m    non-stop         No info   3897  \n",
              "1    05:50         13:15   7h 25m     2 stops         No info   7662  \n",
              "2    09:25  04:25 10 Jun      19h     2 stops         No info  13882  \n",
              "3    18:05         23:30   5h 25m      1 stop         No info   6218  \n",
              "4    16:50         21:35   4h 45m      1 stop         No info  13302  "
            ],
            "text/html": [
              "\n",
              "  <div id=\"df-bbb511e9-2782-46e7-a8f6-731e7e52d085\">\n",
              "    <div class=\"colab-df-container\">\n",
              "      <div>\n",
              "<style scoped>\n",
              "    .dataframe tbody tr th:only-of-type {\n",
              "        vertical-align: middle;\n",
              "    }\n",
              "\n",
              "    .dataframe tbody tr th {\n",
              "        vertical-align: top;\n",
              "    }\n",
              "\n",
              "    .dataframe thead th {\n",
              "        text-align: right;\n",
              "    }\n",
              "</style>\n",
              "<table border=\"1\" class=\"dataframe\">\n",
              "  <thead>\n",
              "    <tr style=\"text-align: right;\">\n",
              "      <th></th>\n",
              "      <th>Airline</th>\n",
              "      <th>Date_of_Journey</th>\n",
              "      <th>Source</th>\n",
              "      <th>Destination</th>\n",
              "      <th>Route</th>\n",
              "      <th>Dep_Time</th>\n",
              "      <th>Arrival_Time</th>\n",
              "      <th>Duration</th>\n",
              "      <th>Total_Stops</th>\n",
              "      <th>Additional_Info</th>\n",
              "      <th>Price</th>\n",
              "    </tr>\n",
              "  </thead>\n",
              "  <tbody>\n",
              "    <tr>\n",
              "      <th>0</th>\n",
              "      <td>IndiGo</td>\n",
              "      <td>24/03/2019</td>\n",
              "      <td>Banglore</td>\n",
              "      <td>New Delhi</td>\n",
              "      <td>BLR → DEL</td>\n",
              "      <td>22:20</td>\n",
              "      <td>01:10 22 Mar</td>\n",
              "      <td>2h 50m</td>\n",
              "      <td>non-stop</td>\n",
              "      <td>No info</td>\n",
              "      <td>3897</td>\n",
              "    </tr>\n",
              "    <tr>\n",
              "      <th>1</th>\n",
              "      <td>Air India</td>\n",
              "      <td>1/05/2019</td>\n",
              "      <td>Kolkata</td>\n",
              "      <td>Banglore</td>\n",
              "      <td>CCU → IXR → BBI → BLR</td>\n",
              "      <td>05:50</td>\n",
              "      <td>13:15</td>\n",
              "      <td>7h 25m</td>\n",
              "      <td>2 stops</td>\n",
              "      <td>No info</td>\n",
              "      <td>7662</td>\n",
              "    </tr>\n",
              "    <tr>\n",
              "      <th>2</th>\n",
              "      <td>Jet Airways</td>\n",
              "      <td>9/06/2019</td>\n",
              "      <td>Delhi</td>\n",
              "      <td>Cochin</td>\n",
              "      <td>DEL → LKO → BOM → COK</td>\n",
              "      <td>09:25</td>\n",
              "      <td>04:25 10 Jun</td>\n",
              "      <td>19h</td>\n",
              "      <td>2 stops</td>\n",
              "      <td>No info</td>\n",
              "      <td>13882</td>\n",
              "    </tr>\n",
              "    <tr>\n",
              "      <th>3</th>\n",
              "      <td>IndiGo</td>\n",
              "      <td>12/05/2019</td>\n",
              "      <td>Kolkata</td>\n",
              "      <td>Banglore</td>\n",
              "      <td>CCU → NAG → BLR</td>\n",
              "      <td>18:05</td>\n",
              "      <td>23:30</td>\n",
              "      <td>5h 25m</td>\n",
              "      <td>1 stop</td>\n",
              "      <td>No info</td>\n",
              "      <td>6218</td>\n",
              "    </tr>\n",
              "    <tr>\n",
              "      <th>4</th>\n",
              "      <td>IndiGo</td>\n",
              "      <td>01/03/2019</td>\n",
              "      <td>Banglore</td>\n",
              "      <td>New Delhi</td>\n",
              "      <td>BLR → NAG → DEL</td>\n",
              "      <td>16:50</td>\n",
              "      <td>21:35</td>\n",
              "      <td>4h 45m</td>\n",
              "      <td>1 stop</td>\n",
              "      <td>No info</td>\n",
              "      <td>13302</td>\n",
              "    </tr>\n",
              "  </tbody>\n",
              "</table>\n",
              "</div>\n",
              "      <button class=\"colab-df-convert\" onclick=\"convertToInteractive('df-bbb511e9-2782-46e7-a8f6-731e7e52d085')\"\n",
              "              title=\"Convert this dataframe to an interactive table.\"\n",
              "              style=\"display:none;\">\n",
              "        \n",
              "  <svg xmlns=\"http://www.w3.org/2000/svg\" height=\"24px\"viewBox=\"0 0 24 24\"\n",
              "       width=\"24px\">\n",
              "    <path d=\"M0 0h24v24H0V0z\" fill=\"none\"/>\n",
              "    <path d=\"M18.56 5.44l.94 2.06.94-2.06 2.06-.94-2.06-.94-.94-2.06-.94 2.06-2.06.94zm-11 1L8.5 8.5l.94-2.06 2.06-.94-2.06-.94L8.5 2.5l-.94 2.06-2.06.94zm10 10l.94 2.06.94-2.06 2.06-.94-2.06-.94-.94-2.06-.94 2.06-2.06.94z\"/><path d=\"M17.41 7.96l-1.37-1.37c-.4-.4-.92-.59-1.43-.59-.52 0-1.04.2-1.43.59L10.3 9.45l-7.72 7.72c-.78.78-.78 2.05 0 2.83L4 21.41c.39.39.9.59 1.41.59.51 0 1.02-.2 1.41-.59l7.78-7.78 2.81-2.81c.8-.78.8-2.07 0-2.86zM5.41 20L4 18.59l7.72-7.72 1.47 1.35L5.41 20z\"/>\n",
              "  </svg>\n",
              "      </button>\n",
              "      \n",
              "  <style>\n",
              "    .colab-df-container {\n",
              "      display:flex;\n",
              "      flex-wrap:wrap;\n",
              "      gap: 12px;\n",
              "    }\n",
              "\n",
              "    .colab-df-convert {\n",
              "      background-color: #E8F0FE;\n",
              "      border: none;\n",
              "      border-radius: 50%;\n",
              "      cursor: pointer;\n",
              "      display: none;\n",
              "      fill: #1967D2;\n",
              "      height: 32px;\n",
              "      padding: 0 0 0 0;\n",
              "      width: 32px;\n",
              "    }\n",
              "\n",
              "    .colab-df-convert:hover {\n",
              "      background-color: #E2EBFA;\n",
              "      box-shadow: 0px 1px 2px rgba(60, 64, 67, 0.3), 0px 1px 3px 1px rgba(60, 64, 67, 0.15);\n",
              "      fill: #174EA6;\n",
              "    }\n",
              "\n",
              "    [theme=dark] .colab-df-convert {\n",
              "      background-color: #3B4455;\n",
              "      fill: #D2E3FC;\n",
              "    }\n",
              "\n",
              "    [theme=dark] .colab-df-convert:hover {\n",
              "      background-color: #434B5C;\n",
              "      box-shadow: 0px 1px 3px 1px rgba(0, 0, 0, 0.15);\n",
              "      filter: drop-shadow(0px 1px 2px rgba(0, 0, 0, 0.3));\n",
              "      fill: #FFFFFF;\n",
              "    }\n",
              "  </style>\n",
              "\n",
              "      <script>\n",
              "        const buttonEl =\n",
              "          document.querySelector('#df-bbb511e9-2782-46e7-a8f6-731e7e52d085 button.colab-df-convert');\n",
              "        buttonEl.style.display =\n",
              "          google.colab.kernel.accessAllowed ? 'block' : 'none';\n",
              "\n",
              "        async function convertToInteractive(key) {\n",
              "          const element = document.querySelector('#df-bbb511e9-2782-46e7-a8f6-731e7e52d085');\n",
              "          const dataTable =\n",
              "            await google.colab.kernel.invokeFunction('convertToInteractive',\n",
              "                                                     [key], {});\n",
              "          if (!dataTable) return;\n",
              "\n",
              "          const docLinkHtml = 'Like what you see? Visit the ' +\n",
              "            '<a target=\"_blank\" href=https://colab.research.google.com/notebooks/data_table.ipynb>data table notebook</a>'\n",
              "            + ' to learn more about interactive tables.';\n",
              "          element.innerHTML = '';\n",
              "          dataTable['output_type'] = 'display_data';\n",
              "          await google.colab.output.renderOutput(dataTable, element);\n",
              "          const docLink = document.createElement('div');\n",
              "          docLink.innerHTML = docLinkHtml;\n",
              "          element.appendChild(docLink);\n",
              "        }\n",
              "      </script>\n",
              "    </div>\n",
              "  </div>\n",
              "  "
            ]
          },
          "metadata": {},
          "execution_count": 6
        }
      ]
    },
    {
      "cell_type": "code",
      "source": [
        "df.shape"
      ],
      "metadata": {
        "colab": {
          "base_uri": "https://localhost:8080/"
        },
        "id": "Ewpwb3it0Ixl",
        "outputId": "d1a4cf87-0173-4496-bdce-2ec9f7a629ca"
      },
      "execution_count": 7,
      "outputs": [
        {
          "output_type": "execute_result",
          "data": {
            "text/plain": [
              "(10683, 11)"
            ]
          },
          "metadata": {},
          "execution_count": 7
        }
      ]
    },
    {
      "cell_type": "code",
      "source": [
        ""
      ],
      "metadata": {
        "id": "OQN0DxXM0hSp"
      },
      "execution_count": 7,
      "outputs": []
    },
    {
      "cell_type": "markdown",
      "source": [
        "##EDA"
      ],
      "metadata": {
        "id": "Hx9cj4PU33Gz"
      }
    },
    {
      "cell_type": "code",
      "source": [
        "df.dtypes"
      ],
      "metadata": {
        "colab": {
          "base_uri": "https://localhost:8080/"
        },
        "id": "e8_IFefs0NeS",
        "outputId": "ad0be0f1-8431-4491-f140-7aeec2b467df"
      },
      "execution_count": 8,
      "outputs": [
        {
          "output_type": "execute_result",
          "data": {
            "text/plain": [
              "Airline            object\n",
              "Date_of_Journey    object\n",
              "Source             object\n",
              "Destination        object\n",
              "Route              object\n",
              "Dep_Time           object\n",
              "Arrival_Time       object\n",
              "Duration           object\n",
              "Total_Stops        object\n",
              "Additional_Info    object\n",
              "Price               int64\n",
              "dtype: object"
            ]
          },
          "metadata": {},
          "execution_count": 8
        }
      ]
    },
    {
      "cell_type": "code",
      "source": [
        "df.isna().sum()"
      ],
      "metadata": {
        "colab": {
          "base_uri": "https://localhost:8080/"
        },
        "id": "5i382kaE34RL",
        "outputId": "10640e03-7fdd-4b59-d137-1544a5206d34"
      },
      "execution_count": 9,
      "outputs": [
        {
          "output_type": "execute_result",
          "data": {
            "text/plain": [
              "Airline            0\n",
              "Date_of_Journey    0\n",
              "Source             0\n",
              "Destination        0\n",
              "Route              1\n",
              "Dep_Time           0\n",
              "Arrival_Time       0\n",
              "Duration           0\n",
              "Total_Stops        1\n",
              "Additional_Info    0\n",
              "Price              0\n",
              "dtype: int64"
            ]
          },
          "metadata": {},
          "execution_count": 9
        }
      ]
    },
    {
      "cell_type": "code",
      "source": [
        "#Removing the NaN values from the dataset\n",
        "\n",
        "df.dropna(how='any',inplace=True)\n",
        "df.isna().sum()"
      ],
      "metadata": {
        "colab": {
          "base_uri": "https://localhost:8080/"
        },
        "id": "b3CHLv2e4EWt",
        "outputId": "c3fe877b-6b18-4a1b-c958-efd6462998b8"
      },
      "execution_count": 10,
      "outputs": [
        {
          "output_type": "execute_result",
          "data": {
            "text/plain": [
              "Airline            0\n",
              "Date_of_Journey    0\n",
              "Source             0\n",
              "Destination        0\n",
              "Route              0\n",
              "Dep_Time           0\n",
              "Arrival_Time       0\n",
              "Duration           0\n",
              "Total_Stops        0\n",
              "Additional_Info    0\n",
              "Price              0\n",
              "dtype: int64"
            ]
          },
          "metadata": {},
          "execution_count": 10
        }
      ]
    },
    {
      "cell_type": "code",
      "source": [
        ""
      ],
      "metadata": {
        "id": "uYsaEQjo4OKV"
      },
      "execution_count": 10,
      "outputs": []
    },
    {
      "cell_type": "markdown",
      "source": [
        "##Feature Engineering\n",
        "\n",
        "Converting  Date_of_Journey to its appropriate format as datetime with regards to day and month"
      ],
      "metadata": {
        "id": "KDDmOjbJ4Wnq"
      }
    },
    {
      "cell_type": "code",
      "source": [
        "df.columns"
      ],
      "metadata": {
        "colab": {
          "base_uri": "https://localhost:8080/"
        },
        "id": "4Z3ktis14ZLr",
        "outputId": "14bc7c9a-00a4-4b5a-cf65-01e1532ead0e"
      },
      "execution_count": 11,
      "outputs": [
        {
          "output_type": "execute_result",
          "data": {
            "text/plain": [
              "Index(['Airline', 'Date_of_Journey', 'Source', 'Destination', 'Route',\n",
              "       'Dep_Time', 'Arrival_Time', 'Duration', 'Total_Stops',\n",
              "       'Additional_Info', 'Price'],\n",
              "      dtype='object')"
            ]
          },
          "metadata": {},
          "execution_count": 11
        }
      ]
    },
    {
      "cell_type": "code",
      "source": [
        "df['Date_of_Journey']= pd.to_datetime(df['Date_of_Journey'])\n",
        "df[\"Day_of_Journey\"]=pd.to_datetime(df['Date_of_Journey']).dt.day\n",
        "df[\"Month_of_Journey\"]=pd.to_datetime(df['Date_of_Journey']).dt.month"
      ],
      "metadata": {
        "id": "iTvtAcNU5UHT"
      },
      "execution_count": 12,
      "outputs": []
    },
    {
      "cell_type": "code",
      "source": [
        "df.head()"
      ],
      "metadata": {
        "colab": {
          "base_uri": "https://localhost:8080/",
          "height": 617
        },
        "id": "o8l2u5Qn575d",
        "outputId": "7cf0d964-e74c-477a-f4f7-ab944fa77ad4"
      },
      "execution_count": 13,
      "outputs": [
        {
          "output_type": "execute_result",
          "data": {
            "text/plain": [
              "       Airline Date_of_Journey    Source Destination                  Route  \\\n",
              "0       IndiGo      2019-03-24  Banglore   New Delhi              BLR → DEL   \n",
              "1    Air India      2019-01-05   Kolkata    Banglore  CCU → IXR → BBI → BLR   \n",
              "2  Jet Airways      2019-09-06     Delhi      Cochin  DEL → LKO → BOM → COK   \n",
              "3       IndiGo      2019-12-05   Kolkata    Banglore        CCU → NAG → BLR   \n",
              "4       IndiGo      2019-01-03  Banglore   New Delhi        BLR → NAG → DEL   \n",
              "\n",
              "  Dep_Time  Arrival_Time Duration Total_Stops Additional_Info  Price  \\\n",
              "0    22:20  01:10 22 Mar   2h 50m    non-stop         No info   3897   \n",
              "1    05:50         13:15   7h 25m     2 stops         No info   7662   \n",
              "2    09:25  04:25 10 Jun      19h     2 stops         No info  13882   \n",
              "3    18:05         23:30   5h 25m      1 stop         No info   6218   \n",
              "4    16:50         21:35   4h 45m      1 stop         No info  13302   \n",
              "\n",
              "   Day_of_Journey  Month_of_Journey  \n",
              "0              24                 3  \n",
              "1               5                 1  \n",
              "2               6                 9  \n",
              "3               5                12  \n",
              "4               3                 1  "
            ],
            "text/html": [
              "\n",
              "  <div id=\"df-553453cc-869c-4131-be0c-3308f186e70a\">\n",
              "    <div class=\"colab-df-container\">\n",
              "      <div>\n",
              "<style scoped>\n",
              "    .dataframe tbody tr th:only-of-type {\n",
              "        vertical-align: middle;\n",
              "    }\n",
              "\n",
              "    .dataframe tbody tr th {\n",
              "        vertical-align: top;\n",
              "    }\n",
              "\n",
              "    .dataframe thead th {\n",
              "        text-align: right;\n",
              "    }\n",
              "</style>\n",
              "<table border=\"1\" class=\"dataframe\">\n",
              "  <thead>\n",
              "    <tr style=\"text-align: right;\">\n",
              "      <th></th>\n",
              "      <th>Airline</th>\n",
              "      <th>Date_of_Journey</th>\n",
              "      <th>Source</th>\n",
              "      <th>Destination</th>\n",
              "      <th>Route</th>\n",
              "      <th>Dep_Time</th>\n",
              "      <th>Arrival_Time</th>\n",
              "      <th>Duration</th>\n",
              "      <th>Total_Stops</th>\n",
              "      <th>Additional_Info</th>\n",
              "      <th>Price</th>\n",
              "      <th>Day_of_Journey</th>\n",
              "      <th>Month_of_Journey</th>\n",
              "    </tr>\n",
              "  </thead>\n",
              "  <tbody>\n",
              "    <tr>\n",
              "      <th>0</th>\n",
              "      <td>IndiGo</td>\n",
              "      <td>2019-03-24</td>\n",
              "      <td>Banglore</td>\n",
              "      <td>New Delhi</td>\n",
              "      <td>BLR → DEL</td>\n",
              "      <td>22:20</td>\n",
              "      <td>01:10 22 Mar</td>\n",
              "      <td>2h 50m</td>\n",
              "      <td>non-stop</td>\n",
              "      <td>No info</td>\n",
              "      <td>3897</td>\n",
              "      <td>24</td>\n",
              "      <td>3</td>\n",
              "    </tr>\n",
              "    <tr>\n",
              "      <th>1</th>\n",
              "      <td>Air India</td>\n",
              "      <td>2019-01-05</td>\n",
              "      <td>Kolkata</td>\n",
              "      <td>Banglore</td>\n",
              "      <td>CCU → IXR → BBI → BLR</td>\n",
              "      <td>05:50</td>\n",
              "      <td>13:15</td>\n",
              "      <td>7h 25m</td>\n",
              "      <td>2 stops</td>\n",
              "      <td>No info</td>\n",
              "      <td>7662</td>\n",
              "      <td>5</td>\n",
              "      <td>1</td>\n",
              "    </tr>\n",
              "    <tr>\n",
              "      <th>2</th>\n",
              "      <td>Jet Airways</td>\n",
              "      <td>2019-09-06</td>\n",
              "      <td>Delhi</td>\n",
              "      <td>Cochin</td>\n",
              "      <td>DEL → LKO → BOM → COK</td>\n",
              "      <td>09:25</td>\n",
              "      <td>04:25 10 Jun</td>\n",
              "      <td>19h</td>\n",
              "      <td>2 stops</td>\n",
              "      <td>No info</td>\n",
              "      <td>13882</td>\n",
              "      <td>6</td>\n",
              "      <td>9</td>\n",
              "    </tr>\n",
              "    <tr>\n",
              "      <th>3</th>\n",
              "      <td>IndiGo</td>\n",
              "      <td>2019-12-05</td>\n",
              "      <td>Kolkata</td>\n",
              "      <td>Banglore</td>\n",
              "      <td>CCU → NAG → BLR</td>\n",
              "      <td>18:05</td>\n",
              "      <td>23:30</td>\n",
              "      <td>5h 25m</td>\n",
              "      <td>1 stop</td>\n",
              "      <td>No info</td>\n",
              "      <td>6218</td>\n",
              "      <td>5</td>\n",
              "      <td>12</td>\n",
              "    </tr>\n",
              "    <tr>\n",
              "      <th>4</th>\n",
              "      <td>IndiGo</td>\n",
              "      <td>2019-01-03</td>\n",
              "      <td>Banglore</td>\n",
              "      <td>New Delhi</td>\n",
              "      <td>BLR → NAG → DEL</td>\n",
              "      <td>16:50</td>\n",
              "      <td>21:35</td>\n",
              "      <td>4h 45m</td>\n",
              "      <td>1 stop</td>\n",
              "      <td>No info</td>\n",
              "      <td>13302</td>\n",
              "      <td>3</td>\n",
              "      <td>1</td>\n",
              "    </tr>\n",
              "  </tbody>\n",
              "</table>\n",
              "</div>\n",
              "      <button class=\"colab-df-convert\" onclick=\"convertToInteractive('df-553453cc-869c-4131-be0c-3308f186e70a')\"\n",
              "              title=\"Convert this dataframe to an interactive table.\"\n",
              "              style=\"display:none;\">\n",
              "        \n",
              "  <svg xmlns=\"http://www.w3.org/2000/svg\" height=\"24px\"viewBox=\"0 0 24 24\"\n",
              "       width=\"24px\">\n",
              "    <path d=\"M0 0h24v24H0V0z\" fill=\"none\"/>\n",
              "    <path d=\"M18.56 5.44l.94 2.06.94-2.06 2.06-.94-2.06-.94-.94-2.06-.94 2.06-2.06.94zm-11 1L8.5 8.5l.94-2.06 2.06-.94-2.06-.94L8.5 2.5l-.94 2.06-2.06.94zm10 10l.94 2.06.94-2.06 2.06-.94-2.06-.94-.94-2.06-.94 2.06-2.06.94z\"/><path d=\"M17.41 7.96l-1.37-1.37c-.4-.4-.92-.59-1.43-.59-.52 0-1.04.2-1.43.59L10.3 9.45l-7.72 7.72c-.78.78-.78 2.05 0 2.83L4 21.41c.39.39.9.59 1.41.59.51 0 1.02-.2 1.41-.59l7.78-7.78 2.81-2.81c.8-.78.8-2.07 0-2.86zM5.41 20L4 18.59l7.72-7.72 1.47 1.35L5.41 20z\"/>\n",
              "  </svg>\n",
              "      </button>\n",
              "      \n",
              "  <style>\n",
              "    .colab-df-container {\n",
              "      display:flex;\n",
              "      flex-wrap:wrap;\n",
              "      gap: 12px;\n",
              "    }\n",
              "\n",
              "    .colab-df-convert {\n",
              "      background-color: #E8F0FE;\n",
              "      border: none;\n",
              "      border-radius: 50%;\n",
              "      cursor: pointer;\n",
              "      display: none;\n",
              "      fill: #1967D2;\n",
              "      height: 32px;\n",
              "      padding: 0 0 0 0;\n",
              "      width: 32px;\n",
              "    }\n",
              "\n",
              "    .colab-df-convert:hover {\n",
              "      background-color: #E2EBFA;\n",
              "      box-shadow: 0px 1px 2px rgba(60, 64, 67, 0.3), 0px 1px 3px 1px rgba(60, 64, 67, 0.15);\n",
              "      fill: #174EA6;\n",
              "    }\n",
              "\n",
              "    [theme=dark] .colab-df-convert {\n",
              "      background-color: #3B4455;\n",
              "      fill: #D2E3FC;\n",
              "    }\n",
              "\n",
              "    [theme=dark] .colab-df-convert:hover {\n",
              "      background-color: #434B5C;\n",
              "      box-shadow: 0px 1px 3px 1px rgba(0, 0, 0, 0.15);\n",
              "      filter: drop-shadow(0px 1px 2px rgba(0, 0, 0, 0.3));\n",
              "      fill: #FFFFFF;\n",
              "    }\n",
              "  </style>\n",
              "\n",
              "      <script>\n",
              "        const buttonEl =\n",
              "          document.querySelector('#df-553453cc-869c-4131-be0c-3308f186e70a button.colab-df-convert');\n",
              "        buttonEl.style.display =\n",
              "          google.colab.kernel.accessAllowed ? 'block' : 'none';\n",
              "\n",
              "        async function convertToInteractive(key) {\n",
              "          const element = document.querySelector('#df-553453cc-869c-4131-be0c-3308f186e70a');\n",
              "          const dataTable =\n",
              "            await google.colab.kernel.invokeFunction('convertToInteractive',\n",
              "                                                     [key], {});\n",
              "          if (!dataTable) return;\n",
              "\n",
              "          const docLinkHtml = 'Like what you see? Visit the ' +\n",
              "            '<a target=\"_blank\" href=https://colab.research.google.com/notebooks/data_table.ipynb>data table notebook</a>'\n",
              "            + ' to learn more about interactive tables.';\n",
              "          element.innerHTML = '';\n",
              "          dataTable['output_type'] = 'display_data';\n",
              "          await google.colab.output.renderOutput(dataTable, element);\n",
              "          const docLink = document.createElement('div');\n",
              "          docLink.innerHTML = docLinkHtml;\n",
              "          element.appendChild(docLink);\n",
              "        }\n",
              "      </script>\n",
              "    </div>\n",
              "  </div>\n",
              "  "
            ]
          },
          "metadata": {},
          "execution_count": 13
        }
      ]
    },
    {
      "cell_type": "code",
      "source": [
        " # Dropping the Date_of_journey\n",
        "df.drop([\"Date_of_Journey\"],axis=1,inplace=True)"
      ],
      "metadata": {
        "id": "nM78nV4t59wt"
      },
      "execution_count": 14,
      "outputs": []
    },
    {
      "cell_type": "markdown",
      "source": [
        "\n",
        "Converting **'Dep_Time'** to its appropriate format as datetime with regards to hour and minute"
      ],
      "metadata": {
        "id": "g7Y1nS9z6UzW"
      }
    },
    {
      "cell_type": "code",
      "source": [
        "df['Dep_hr']=pd.to_datetime(df['Dep_Time']).dt.hour\n",
        "df['Dep_min']=pd.to_datetime(df['Dep_Time']).dt.minute"
      ],
      "metadata": {
        "id": "g53Yuoyc6N3X"
      },
      "execution_count": 15,
      "outputs": []
    },
    {
      "cell_type": "code",
      "source": [
        "#Dropping the 'Dep_Time'\n",
        "df.drop([\"Dep_Time\"],axis=1,inplace=True)"
      ],
      "metadata": {
        "id": "onZ7SzMA6xLV"
      },
      "execution_count": 16,
      "outputs": []
    },
    {
      "cell_type": "markdown",
      "source": [
        "Converting **'Arrival_Time'** to its appropriate format as datetime with regards to hour and minute"
      ],
      "metadata": {
        "id": "zG9ZGYrY68my"
      }
    },
    {
      "cell_type": "code",
      "source": [
        "df['Arrival_hr']=pd.to_datetime(df['Arrival_Time']).dt.hour\n",
        "df['Arrival_min']=pd.to_datetime(df['Arrival_Time']).dt.minute"
      ],
      "metadata": {
        "id": "XoymvI7L66Xn"
      },
      "execution_count": 17,
      "outputs": []
    },
    {
      "cell_type": "code",
      "source": [
        "#Dropping the 'Arrival_Time'\n",
        "df.drop([\"Arrival_Time\"],axis=1,inplace=True)\n"
      ],
      "metadata": {
        "id": "0kPeTPD47SIR"
      },
      "execution_count": 18,
      "outputs": []
    },
    {
      "cell_type": "markdown",
      "source": [
        "Converting **'Duration'** to its appropriate format"
      ],
      "metadata": {
        "id": "LtEDZ0JY7aKp"
      }
    },
    {
      "cell_type": "code",
      "source": [
        " duration=df['Duration'].str.split(' ',expand=True) #split duration datapoints based space ' '\n",
        " "
      ],
      "metadata": {
        "id": "0Df3SoLS7XeS"
      },
      "execution_count": 19,
      "outputs": []
    },
    {
      "cell_type": "code",
      "source": [
        "duration[1].fillna('00m',inplace=True) #fill all \"NAN\" with '00m'\n"
      ],
      "metadata": {
        "id": "WCHBF1xw9N2_"
      },
      "execution_count": 20,
      "outputs": []
    },
    {
      "cell_type": "code",
      "source": [
        "df['duration_hr']=duration[0].apply(lambda x:x[:-1])#select the item at index 0 and leave the last one ﴾in this case the 'h'﴿\n",
        "df['duration_min']=duration[1].apply(lambda x:x[:-1]) #select the item at index 1 and leave the last one ﴾in this case the 'm'﴿"
      ],
      "metadata": {
        "id": "vzL6j95i9pJf"
      },
      "execution_count": 21,
      "outputs": []
    },
    {
      "cell_type": "code",
      "source": [
        "\n",
        "df.head()"
      ],
      "metadata": {
        "colab": {
          "base_uri": "https://localhost:8080/",
          "height": 617
        },
        "id": "tvZF1jta84_l",
        "outputId": "a3fa5ecc-0f3c-4eef-cf12-a0ced875281b"
      },
      "execution_count": 22,
      "outputs": [
        {
          "output_type": "execute_result",
          "data": {
            "text/plain": [
              "       Airline    Source Destination                  Route Duration  \\\n",
              "0       IndiGo  Banglore   New Delhi              BLR → DEL   2h 50m   \n",
              "1    Air India   Kolkata    Banglore  CCU → IXR → BBI → BLR   7h 25m   \n",
              "2  Jet Airways     Delhi      Cochin  DEL → LKO → BOM → COK      19h   \n",
              "3       IndiGo   Kolkata    Banglore        CCU → NAG → BLR   5h 25m   \n",
              "4       IndiGo  Banglore   New Delhi        BLR → NAG → DEL   4h 45m   \n",
              "\n",
              "  Total_Stops Additional_Info  Price  Day_of_Journey  Month_of_Journey  \\\n",
              "0    non-stop         No info   3897              24                 3   \n",
              "1     2 stops         No info   7662               5                 1   \n",
              "2     2 stops         No info  13882               6                 9   \n",
              "3      1 stop         No info   6218               5                12   \n",
              "4      1 stop         No info  13302               3                 1   \n",
              "\n",
              "   Dep_hr  Dep_min  Arrival_hr  Arrival_min duration_hr duration_min  \n",
              "0      22       20           1           10           2           50  \n",
              "1       5       50          13           15           7           25  \n",
              "2       9       25           4           25          19           00  \n",
              "3      18        5          23           30           5           25  \n",
              "4      16       50          21           35           4           45  "
            ],
            "text/html": [
              "\n",
              "  <div id=\"df-e056fe36-c436-4440-9c2f-94ff8fc2ba9f\">\n",
              "    <div class=\"colab-df-container\">\n",
              "      <div>\n",
              "<style scoped>\n",
              "    .dataframe tbody tr th:only-of-type {\n",
              "        vertical-align: middle;\n",
              "    }\n",
              "\n",
              "    .dataframe tbody tr th {\n",
              "        vertical-align: top;\n",
              "    }\n",
              "\n",
              "    .dataframe thead th {\n",
              "        text-align: right;\n",
              "    }\n",
              "</style>\n",
              "<table border=\"1\" class=\"dataframe\">\n",
              "  <thead>\n",
              "    <tr style=\"text-align: right;\">\n",
              "      <th></th>\n",
              "      <th>Airline</th>\n",
              "      <th>Source</th>\n",
              "      <th>Destination</th>\n",
              "      <th>Route</th>\n",
              "      <th>Duration</th>\n",
              "      <th>Total_Stops</th>\n",
              "      <th>Additional_Info</th>\n",
              "      <th>Price</th>\n",
              "      <th>Day_of_Journey</th>\n",
              "      <th>Month_of_Journey</th>\n",
              "      <th>Dep_hr</th>\n",
              "      <th>Dep_min</th>\n",
              "      <th>Arrival_hr</th>\n",
              "      <th>Arrival_min</th>\n",
              "      <th>duration_hr</th>\n",
              "      <th>duration_min</th>\n",
              "    </tr>\n",
              "  </thead>\n",
              "  <tbody>\n",
              "    <tr>\n",
              "      <th>0</th>\n",
              "      <td>IndiGo</td>\n",
              "      <td>Banglore</td>\n",
              "      <td>New Delhi</td>\n",
              "      <td>BLR → DEL</td>\n",
              "      <td>2h 50m</td>\n",
              "      <td>non-stop</td>\n",
              "      <td>No info</td>\n",
              "      <td>3897</td>\n",
              "      <td>24</td>\n",
              "      <td>3</td>\n",
              "      <td>22</td>\n",
              "      <td>20</td>\n",
              "      <td>1</td>\n",
              "      <td>10</td>\n",
              "      <td>2</td>\n",
              "      <td>50</td>\n",
              "    </tr>\n",
              "    <tr>\n",
              "      <th>1</th>\n",
              "      <td>Air India</td>\n",
              "      <td>Kolkata</td>\n",
              "      <td>Banglore</td>\n",
              "      <td>CCU → IXR → BBI → BLR</td>\n",
              "      <td>7h 25m</td>\n",
              "      <td>2 stops</td>\n",
              "      <td>No info</td>\n",
              "      <td>7662</td>\n",
              "      <td>5</td>\n",
              "      <td>1</td>\n",
              "      <td>5</td>\n",
              "      <td>50</td>\n",
              "      <td>13</td>\n",
              "      <td>15</td>\n",
              "      <td>7</td>\n",
              "      <td>25</td>\n",
              "    </tr>\n",
              "    <tr>\n",
              "      <th>2</th>\n",
              "      <td>Jet Airways</td>\n",
              "      <td>Delhi</td>\n",
              "      <td>Cochin</td>\n",
              "      <td>DEL → LKO → BOM → COK</td>\n",
              "      <td>19h</td>\n",
              "      <td>2 stops</td>\n",
              "      <td>No info</td>\n",
              "      <td>13882</td>\n",
              "      <td>6</td>\n",
              "      <td>9</td>\n",
              "      <td>9</td>\n",
              "      <td>25</td>\n",
              "      <td>4</td>\n",
              "      <td>25</td>\n",
              "      <td>19</td>\n",
              "      <td>00</td>\n",
              "    </tr>\n",
              "    <tr>\n",
              "      <th>3</th>\n",
              "      <td>IndiGo</td>\n",
              "      <td>Kolkata</td>\n",
              "      <td>Banglore</td>\n",
              "      <td>CCU → NAG → BLR</td>\n",
              "      <td>5h 25m</td>\n",
              "      <td>1 stop</td>\n",
              "      <td>No info</td>\n",
              "      <td>6218</td>\n",
              "      <td>5</td>\n",
              "      <td>12</td>\n",
              "      <td>18</td>\n",
              "      <td>5</td>\n",
              "      <td>23</td>\n",
              "      <td>30</td>\n",
              "      <td>5</td>\n",
              "      <td>25</td>\n",
              "    </tr>\n",
              "    <tr>\n",
              "      <th>4</th>\n",
              "      <td>IndiGo</td>\n",
              "      <td>Banglore</td>\n",
              "      <td>New Delhi</td>\n",
              "      <td>BLR → NAG → DEL</td>\n",
              "      <td>4h 45m</td>\n",
              "      <td>1 stop</td>\n",
              "      <td>No info</td>\n",
              "      <td>13302</td>\n",
              "      <td>3</td>\n",
              "      <td>1</td>\n",
              "      <td>16</td>\n",
              "      <td>50</td>\n",
              "      <td>21</td>\n",
              "      <td>35</td>\n",
              "      <td>4</td>\n",
              "      <td>45</td>\n",
              "    </tr>\n",
              "  </tbody>\n",
              "</table>\n",
              "</div>\n",
              "      <button class=\"colab-df-convert\" onclick=\"convertToInteractive('df-e056fe36-c436-4440-9c2f-94ff8fc2ba9f')\"\n",
              "              title=\"Convert this dataframe to an interactive table.\"\n",
              "              style=\"display:none;\">\n",
              "        \n",
              "  <svg xmlns=\"http://www.w3.org/2000/svg\" height=\"24px\"viewBox=\"0 0 24 24\"\n",
              "       width=\"24px\">\n",
              "    <path d=\"M0 0h24v24H0V0z\" fill=\"none\"/>\n",
              "    <path d=\"M18.56 5.44l.94 2.06.94-2.06 2.06-.94-2.06-.94-.94-2.06-.94 2.06-2.06.94zm-11 1L8.5 8.5l.94-2.06 2.06-.94-2.06-.94L8.5 2.5l-.94 2.06-2.06.94zm10 10l.94 2.06.94-2.06 2.06-.94-2.06-.94-.94-2.06-.94 2.06-2.06.94z\"/><path d=\"M17.41 7.96l-1.37-1.37c-.4-.4-.92-.59-1.43-.59-.52 0-1.04.2-1.43.59L10.3 9.45l-7.72 7.72c-.78.78-.78 2.05 0 2.83L4 21.41c.39.39.9.59 1.41.59.51 0 1.02-.2 1.41-.59l7.78-7.78 2.81-2.81c.8-.78.8-2.07 0-2.86zM5.41 20L4 18.59l7.72-7.72 1.47 1.35L5.41 20z\"/>\n",
              "  </svg>\n",
              "      </button>\n",
              "      \n",
              "  <style>\n",
              "    .colab-df-container {\n",
              "      display:flex;\n",
              "      flex-wrap:wrap;\n",
              "      gap: 12px;\n",
              "    }\n",
              "\n",
              "    .colab-df-convert {\n",
              "      background-color: #E8F0FE;\n",
              "      border: none;\n",
              "      border-radius: 50%;\n",
              "      cursor: pointer;\n",
              "      display: none;\n",
              "      fill: #1967D2;\n",
              "      height: 32px;\n",
              "      padding: 0 0 0 0;\n",
              "      width: 32px;\n",
              "    }\n",
              "\n",
              "    .colab-df-convert:hover {\n",
              "      background-color: #E2EBFA;\n",
              "      box-shadow: 0px 1px 2px rgba(60, 64, 67, 0.3), 0px 1px 3px 1px rgba(60, 64, 67, 0.15);\n",
              "      fill: #174EA6;\n",
              "    }\n",
              "\n",
              "    [theme=dark] .colab-df-convert {\n",
              "      background-color: #3B4455;\n",
              "      fill: #D2E3FC;\n",
              "    }\n",
              "\n",
              "    [theme=dark] .colab-df-convert:hover {\n",
              "      background-color: #434B5C;\n",
              "      box-shadow: 0px 1px 3px 1px rgba(0, 0, 0, 0.15);\n",
              "      filter: drop-shadow(0px 1px 2px rgba(0, 0, 0, 0.3));\n",
              "      fill: #FFFFFF;\n",
              "    }\n",
              "  </style>\n",
              "\n",
              "      <script>\n",
              "        const buttonEl =\n",
              "          document.querySelector('#df-e056fe36-c436-4440-9c2f-94ff8fc2ba9f button.colab-df-convert');\n",
              "        buttonEl.style.display =\n",
              "          google.colab.kernel.accessAllowed ? 'block' : 'none';\n",
              "\n",
              "        async function convertToInteractive(key) {\n",
              "          const element = document.querySelector('#df-e056fe36-c436-4440-9c2f-94ff8fc2ba9f');\n",
              "          const dataTable =\n",
              "            await google.colab.kernel.invokeFunction('convertToInteractive',\n",
              "                                                     [key], {});\n",
              "          if (!dataTable) return;\n",
              "\n",
              "          const docLinkHtml = 'Like what you see? Visit the ' +\n",
              "            '<a target=\"_blank\" href=https://colab.research.google.com/notebooks/data_table.ipynb>data table notebook</a>'\n",
              "            + ' to learn more about interactive tables.';\n",
              "          element.innerHTML = '';\n",
              "          dataTable['output_type'] = 'display_data';\n",
              "          await google.colab.output.renderOutput(dataTable, element);\n",
              "          const docLink = document.createElement('div');\n",
              "          docLink.innerHTML = docLinkHtml;\n",
              "          element.appendChild(docLink);\n",
              "        }\n",
              "      </script>\n",
              "    </div>\n",
              "  </div>\n",
              "  "
            ]
          },
          "metadata": {},
          "execution_count": 22
        }
      ]
    },
    {
      "cell_type": "code",
      "source": [
        "df.drop(\"Duration\", inplace=True, axis=1)"
      ],
      "metadata": {
        "id": "pGjIU75yDyx0"
      },
      "execution_count": 23,
      "outputs": []
    },
    {
      "cell_type": "code",
      "source": [
        "df[\"Airline\"].value_counts()"
      ],
      "metadata": {
        "colab": {
          "base_uri": "https://localhost:8080/"
        },
        "id": "kB-5Ugc185EG",
        "outputId": "b11007ac-30dc-4dd3-f9b3-11699627cf45"
      },
      "execution_count": 24,
      "outputs": [
        {
          "output_type": "execute_result",
          "data": {
            "text/plain": [
              "Jet Airways                          3849\n",
              "IndiGo                               2053\n",
              "Air India                            1751\n",
              "Multiple carriers                    1196\n",
              "SpiceJet                              818\n",
              "Vistara                               479\n",
              "Air Asia                              319\n",
              "GoAir                                 194\n",
              "Multiple carriers Premium economy      13\n",
              "Jet Airways Business                    6\n",
              "Vistara Premium economy                 3\n",
              "Trujet                                  1\n",
              "Name: Airline, dtype: int64"
            ]
          },
          "metadata": {},
          "execution_count": 24
        }
      ]
    },
    {
      "cell_type": "markdown",
      "source": [
        "**Airline and Price** **Plot**"
      ],
      "metadata": {
        "id": "H_Poe9pQByp4"
      }
    },
    {
      "cell_type": "code",
      "source": [
        "import warnings\n",
        "warnings.filterwarnings(\"ignore\")\n",
        "\n",
        "Airprices=df.groupby('Airline')['Price'].mean().sort_values(ascending=False) \n",
        "plt.figure(figsize=(12,8))\n",
        "sns.barplot(Airprices.index,Airprices.values);\n",
        "plt.xticks(rotation=90);"
      ],
      "metadata": {
        "colab": {
          "base_uri": "https://localhost:8080/",
          "height": 664
        },
        "id": "x_VGjkIb85F4",
        "outputId": "dc3e7f02-2a3a-4edf-c10a-fda527d71bff"
      },
      "execution_count": 25,
      "outputs": [
        {
          "output_type": "display_data",
          "data": {
            "text/plain": [
              "<Figure size 864x576 with 1 Axes>"
            ],
            "image/png": "[encoded data removed]"
          },
          "metadata": {
            "needs_background": "light"
          }
        }
      ]
    },
    {
      "cell_type": "markdown",
      "source": [
        "Jet Airways Business has the highest price with Trujet having the lowest"
      ],
      "metadata": {
        "id": "0v39QuvFC-4I"
      }
    },
    {
      "cell_type": "code",
      "source": [
        "\n",
        "plt.figure(figsize=(25,8))\n",
        "sns.boxplot(y='Price',x='Airline',data= df.sort_values('Price',ascending=False)) \n",
        "plt.show()"
      ],
      "metadata": {
        "colab": {
          "base_uri": "https://localhost:8080/",
          "height": 397
        },
        "id": "Hgk5CDRK85Ms",
        "outputId": "7a63b7e0-3e24-4773-852a-f5aba945cdbd"
      },
      "execution_count": 26,
      "outputs": [
        {
          "output_type": "display_data",
          "data": {
            "text/plain": [
              "<Figure size 1800x576 with 1 Axes>"
            ],
            "image/png": "[encoded data removed]"
          },
          "metadata": {
            "needs_background": "light"
          }
        }
      ]
    },
    {
      "cell_type": "code",
      "source": [
        "### Checking the prices based on the number of stops\n",
        "\n",
        "df.groupby(['Airline','Total_Stops'])['Price'].agg(\"mean\").sort_values(ascending=False)"
      ],
      "metadata": {
        "colab": {
          "base_uri": "https://localhost:8080/"
        },
        "id": "eyOEoin385OP",
        "outputId": "58ec54f0-bc34-46ae-cbdb-63545f1b3645"
      },
      "execution_count": 27,
      "outputs": [
        {
          "output_type": "execute_result",
          "data": {
            "text/plain": [
              "Airline                            Total_Stops\n",
              "Jet Airways Business               1 stop         62844.250000\n",
              "                                   2 stops        49387.500000\n",
              "Air India                          4 stops        17686.000000\n",
              "Multiple carriers                  3 stops        17292.750000\n",
              "                                   2 stops        14809.395349\n",
              "Jet Airways                        2 stops        13387.247467\n",
              "                                   1 stop         12512.741223\n",
              "Air India                          3 stops        12208.054054\n",
              "                                   2 stops        12092.779101\n",
              "Multiple carriers Premium economy  1 stop         11418.846154\n",
              "Multiple carriers                  1 stop         10711.316157\n",
              "Vistara                            1 stop          9641.148837\n",
              "Air India                          1 stop          9041.509259\n",
              "Vistara Premium economy            non-stop        8962.333333\n",
              "IndiGo                             2 stops         7507.526316\n",
              "                                   1 stop          7104.717528\n",
              "Air Asia                           1 stop          7078.325581\n",
              "GoAir                              1 stop          6884.676471\n",
              "SpiceJet                           1 stop          6750.560811\n",
              "Air Asia                           2 stops         6341.888889\n",
              "Vistara                            non-stop        6293.954545\n",
              "Jet Airways                        non-stop        6175.078652\n",
              "Air India                          non-stop        5605.326139\n",
              "IndiGo                             non-stop        4731.174053\n",
              "GoAir                              non-stop        4726.173913\n",
              "Air Asia                           non-stop        4492.331492\n",
              "Trujet                             1 stop          4140.000000\n",
              "SpiceJet                           non-stop        3805.423881\n",
              "Name: Price, dtype: float64"
            ]
          },
          "metadata": {},
          "execution_count": 27
        }
      ]
    },
    {
      "cell_type": "code",
      "source": [
        "plt.figure(figsize=(18,10))\n",
        "ax=sns.barplot(x=df['Airline'],y=df['Price'],hue=df['Total_Stops'],palette=\"Set1\")\n",
        "ax.set_xticklabels(ax.get_xticklabels(),rotation=90)\n",
        "plt.show()"
      ],
      "metadata": {
        "colab": {
          "base_uri": "https://localhost:8080/",
          "height": 773
        },
        "id": "T7Oh9GwGD_LS",
        "outputId": "98f2cd61-2333-4396-b57b-4dc34628aaf0"
      },
      "execution_count": 28,
      "outputs": [
        {
          "output_type": "display_data",
          "data": {
            "text/plain": [
              "<Figure size 1296x720 with 1 Axes>"
            ],
            "image/png": "[encoded data removed]"
          },
          "metadata": {
            "needs_background": "light"
          }
        }
      ]
    },
    {
      "cell_type": "markdown",
      "source": [
        "One stop and two stpos Jet Airways Business is having the highest price"
      ],
      "metadata": {
        "id": "RXp3JgtcFJsq"
      }
    },
    {
      "cell_type": "code",
      "source": [
        ""
      ],
      "metadata": {
        "id": "jV0brDF-E82e"
      },
      "execution_count": 28,
      "outputs": []
    },
    {
      "cell_type": "markdown",
      "source": [
        "**Source and Price**"
      ],
      "metadata": {
        "id": "G81mZVrAFVBH"
      }
    },
    {
      "cell_type": "code",
      "source": [
        "\n",
        "df['Source'].value_counts()"
      ],
      "metadata": {
        "colab": {
          "base_uri": "https://localhost:8080/"
        },
        "id": "k8rHXllrFXbi",
        "outputId": "387425ae-28d4-40e5-e3fa-876711ce9d0e"
      },
      "execution_count": 29,
      "outputs": [
        {
          "output_type": "execute_result",
          "data": {
            "text/plain": [
              "Delhi       4536\n",
              "Kolkata     2871\n",
              "Banglore    2197\n",
              "Mumbai       697\n",
              "Chennai      381\n",
              "Name: Source, dtype: int64"
            ]
          },
          "metadata": {},
          "execution_count": 29
        }
      ]
    },
    {
      "cell_type": "code",
      "source": [
        "plt.figure(figsize=(15,10))\n",
        "sns.barplot(y='Price',x='Source',data=df.sort_values('Price',ascending=False)) \n",
        "plt.show()\n"
      ],
      "metadata": {
        "colab": {
          "base_uri": "https://localhost:8080/",
          "height": 606
        },
        "id": "A4EZ3GgdFX2b",
        "outputId": "200c1e1d-67e1-4bda-dc66-4e9995df7eec"
      },
      "execution_count": 30,
      "outputs": [
        {
          "output_type": "display_data",
          "data": {
            "text/plain": [
              "<Figure size 1080x720 with 1 Axes>"
            ],
            "image/png": "[encoded data removed]"
          },
          "metadata": {
            "needs_background": "light"
          }
        }
      ]
    },
    {
      "cell_type": "markdown",
      "source": [
        "**Destination adn Price**"
      ],
      "metadata": {
        "id": "vuBQFKo2FnFv"
      }
    },
    {
      "cell_type": "code",
      "source": [
        "\n",
        "plt.figure(figsize=(15,10)) \n",
        "sns.barplot(y='Price',x='Destination',data=df.sort_values('Price',ascending=False)) \n",
        "plt.show()"
      ],
      "metadata": {
        "colab": {
          "base_uri": "https://localhost:8080/",
          "height": 606
        },
        "id": "LLK8feHiFhtU",
        "outputId": "80ef4f82-d946-43d3-d4de-33d40c3800c7"
      },
      "execution_count": 31,
      "outputs": [
        {
          "output_type": "display_data",
          "data": {
            "text/plain": [
              "<Figure size 1080x720 with 1 Axes>"
            ],
            "image/png": "[encoded data removed]"
          },
          "metadata": {
            "needs_background": "light"
          }
        }
      ]
    },
    {
      "cell_type": "code",
      "source": [
        "## Dehli and and New Delhi are the same so replacing New Delhi with Delhi\n",
        "\n",
        "for i in df:\n",
        "  df.replace('New Delhi','Delhi',inplace=True)"
      ],
      "metadata": {
        "id": "NrLrr3hcFxaN"
      },
      "execution_count": 32,
      "outputs": []
    },
    {
      "cell_type": "code",
      "source": [
        "plt.figure(figsize=(20,12)) \n",
        "sns.heatmap(df.corr(),annot=True)"
      ],
      "metadata": {
        "colab": {
          "base_uri": "https://localhost:8080/",
          "height": 722
        },
        "id": "1ZAc3PMbGNRy",
        "outputId": "49dbc75c-7131-49bc-a4a8-616538f69251"
      },
      "execution_count": 33,
      "outputs": [
        {
          "output_type": "execute_result",
          "data": {
            "text/plain": [
              "<matplotlib.axes._subplots.AxesSubplot at 0x7f522053e050>"
            ]
          },
          "metadata": {},
          "execution_count": 33
        },
        {
          "output_type": "display_data",
          "data": {
            "text/plain": [
              "<Figure size 1440x864 with 2 Axes>"
            ],
            "image/png": "[encoded data removed]"
          },
          "metadata": {
            "needs_background": "light"
          }
        }
      ]
    },
    {
      "cell_type": "markdown",
      "source": [
        "\n",
        "The features are less correlated which is a good thing in order to avoid Multicollinearity"
      ],
      "metadata": {
        "id": "gGvLHEClHBAj"
      }
    },
    {
      "cell_type": "code",
      "source": [
        "#Handling Categorical Values\n",
        "df['Total_Stops']=df['Total_Stops'].map({'non­stop':0, '2 stops':2, '1 stop':1, '3 stops':3, '4 stops' :4})\n",
        "air_dummy=pd.get_dummies(df['Airline'],drop_first=True)\n",
        "\n",
        "source_dest_dummy=pd.get_dummies(df[['Source','Destination']],drop_first=True) \n",
        "df=pd.concat([air_dummy,source_dest_dummy,df],axis=1)"
      ],
      "metadata": {
        "id": "ThvEVFM9GQUS"
      },
      "execution_count": 34,
      "outputs": []
    },
    {
      "cell_type": "code",
      "source": [
        "df.drop(['Airline','Source','Destination'],inplace=True,axis=1)"
      ],
      "metadata": {
        "id": "ZMZafiJRHsz-"
      },
      "execution_count": 35,
      "outputs": []
    },
    {
      "cell_type": "code",
      "source": [
        "df.shape"
      ],
      "metadata": {
        "colab": {
          "base_uri": "https://localhost:8080/"
        },
        "id": "feQWy7L5Hv8n",
        "outputId": "97f6fc4e-079d-485f-cbbe-299203540e92"
      },
      "execution_count": 36,
      "outputs": [
        {
          "output_type": "execute_result",
          "data": {
            "text/plain": [
              "(10682, 31)"
            ]
          },
          "metadata": {},
          "execution_count": 36
        }
      ]
    },
    {
      "cell_type": "code",
      "source": [
        "df.head()"
      ],
      "metadata": {
        "colab": {
          "base_uri": "https://localhost:8080/",
          "height": 352
        },
        "id": "5e1-f_23HxIY",
        "outputId": "ba10e5b8-8c4c-404b-deae-99f328e58724"
      },
      "execution_count": 37,
      "outputs": [
        {
          "output_type": "execute_result",
          "data": {
            "text/plain": [
              "   Air India  GoAir  IndiGo  Jet Airways  Jet Airways Business  \\\n",
              "0          0      0       1            0                     0   \n",
              "1          1      0       0            0                     0   \n",
              "2          0      0       0            1                     0   \n",
              "3          0      0       1            0                     0   \n",
              "4          0      0       1            0                     0   \n",
              "\n",
              "   Multiple carriers  Multiple carriers Premium economy  SpiceJet  Trujet  \\\n",
              "0                  0                                  0         0       0   \n",
              "1                  0                                  0         0       0   \n",
              "2                  0                                  0         0       0   \n",
              "3                  0                                  0         0       0   \n",
              "4                  0                                  0         0       0   \n",
              "\n",
              "   Vistara  ...  Additional_Info  Price  Day_of_Journey  Month_of_Journey  \\\n",
              "0        0  ...          No info   3897              24                 3   \n",
              "1        0  ...          No info   7662               5                 1   \n",
              "2        0  ...          No info  13882               6                 9   \n",
              "3        0  ...          No info   6218               5                12   \n",
              "4        0  ...          No info  13302               3                 1   \n",
              "\n",
              "   Dep_hr  Dep_min  Arrival_hr  Arrival_min  duration_hr duration_min  \n",
              "0      22       20           1           10            2           50  \n",
              "1       5       50          13           15            7           25  \n",
              "2       9       25           4           25           19           00  \n",
              "3      18        5          23           30            5           25  \n",
              "4      16       50          21           35            4           45  \n",
              "\n",
              "[5 rows x 31 columns]"
            ],
            "text/html": [
              "\n",
              "  <div id=\"df-d6ebd79a-f9ca-4a93-8356-47abd536a77b\">\n",
              "    <div class=\"colab-df-container\">\n",
              "      <div>\n",
              "<style scoped>\n",
              "    .dataframe tbody tr th:only-of-type {\n",
              "        vertical-align: middle;\n",
              "    }\n",
              "\n",
              "    .dataframe tbody tr th {\n",
              "        vertical-align: top;\n",
              "    }\n",
              "\n",
              "    .dataframe thead th {\n",
              "        text-align: right;\n",
              "    }\n",
              "</style>\n",
              "<table border=\"1\" class=\"dataframe\">\n",
              "  <thead>\n",
              "    <tr style=\"text-align: right;\">\n",
              "      <th></th>\n",
              "      <th>Air India</th>\n",
              "      <th>GoAir</th>\n",
              "      <th>IndiGo</th>\n",
              "      <th>Jet Airways</th>\n",
              "      <th>Jet Airways Business</th>\n",
              "      <th>Multiple carriers</th>\n",
              "      <th>Multiple carriers Premium economy</th>\n",
              "      <th>SpiceJet</th>\n",
              "      <th>Trujet</th>\n",
              "      <th>Vistara</th>\n",
              "      <th>...</th>\n",
              "      <th>Additional_Info</th>\n",
              "      <th>Price</th>\n",
              "      <th>Day_of_Journey</th>\n",
              "      <th>Month_of_Journey</th>\n",
              "      <th>Dep_hr</th>\n",
              "      <th>Dep_min</th>\n",
              "      <th>Arrival_hr</th>\n",
              "      <th>Arrival_min</th>\n",
              "      <th>duration_hr</th>\n",
              "      <th>duration_min</th>\n",
              "    </tr>\n",
              "  </thead>\n",
              "  <tbody>\n",
              "    <tr>\n",
              "      <th>0</th>\n",
              "      <td>0</td>\n",
              "      <td>0</td>\n",
              "      <td>1</td>\n",
              "      <td>0</td>\n",
              "      <td>0</td>\n",
              "      <td>0</td>\n",
              "      <td>0</td>\n",
              "      <td>0</td>\n",
              "      <td>0</td>\n",
              "      <td>0</td>\n",
              "      <td>...</td>\n",
              "      <td>No info</td>\n",
              "      <td>3897</td>\n",
              "      <td>24</td>\n",
              "      <td>3</td>\n",
              "      <td>22</td>\n",
              "      <td>20</td>\n",
              "      <td>1</td>\n",
              "      <td>10</td>\n",
              "      <td>2</td>\n",
              "      <td>50</td>\n",
              "    </tr>\n",
              "    <tr>\n",
              "      <th>1</th>\n",
              "      <td>1</td>\n",
              "      <td>0</td>\n",
              "      <td>0</td>\n",
              "      <td>0</td>\n",
              "      <td>0</td>\n",
              "      <td>0</td>\n",
              "      <td>0</td>\n",
              "      <td>0</td>\n",
              "      <td>0</td>\n",
              "      <td>0</td>\n",
              "      <td>...</td>\n",
              "      <td>No info</td>\n",
              "      <td>7662</td>\n",
              "      <td>5</td>\n",
              "      <td>1</td>\n",
              "      <td>5</td>\n",
              "      <td>50</td>\n",
              "      <td>13</td>\n",
              "      <td>15</td>\n",
              "      <td>7</td>\n",
              "      <td>25</td>\n",
              "    </tr>\n",
              "    <tr>\n",
              "      <th>2</th>\n",
              "      <td>0</td>\n",
              "      <td>0</td>\n",
              "      <td>0</td>\n",
              "      <td>1</td>\n",
              "      <td>0</td>\n",
              "      <td>0</td>\n",
              "      <td>0</td>\n",
              "      <td>0</td>\n",
              "      <td>0</td>\n",
              "      <td>0</td>\n",
              "      <td>...</td>\n",
              "      <td>No info</td>\n",
              "      <td>13882</td>\n",
              "      <td>6</td>\n",
              "      <td>9</td>\n",
              "      <td>9</td>\n",
              "      <td>25</td>\n",
              "      <td>4</td>\n",
              "      <td>25</td>\n",
              "      <td>19</td>\n",
              "      <td>00</td>\n",
              "    </tr>\n",
              "    <tr>\n",
              "      <th>3</th>\n",
              "      <td>0</td>\n",
              "      <td>0</td>\n",
              "      <td>1</td>\n",
              "      <td>0</td>\n",
              "      <td>0</td>\n",
              "      <td>0</td>\n",
              "      <td>0</td>\n",
              "      <td>0</td>\n",
              "      <td>0</td>\n",
              "      <td>0</td>\n",
              "      <td>...</td>\n",
              "      <td>No info</td>\n",
              "      <td>6218</td>\n",
              "      <td>5</td>\n",
              "      <td>12</td>\n",
              "      <td>18</td>\n",
              "      <td>5</td>\n",
              "      <td>23</td>\n",
              "      <td>30</td>\n",
              "      <td>5</td>\n",
              "      <td>25</td>\n",
              "    </tr>\n",
              "    <tr>\n",
              "      <th>4</th>\n",
              "      <td>0</td>\n",
              "      <td>0</td>\n",
              "      <td>1</td>\n",
              "      <td>0</td>\n",
              "      <td>0</td>\n",
              "      <td>0</td>\n",
              "      <td>0</td>\n",
              "      <td>0</td>\n",
              "      <td>0</td>\n",
              "      <td>0</td>\n",
              "      <td>...</td>\n",
              "      <td>No info</td>\n",
              "      <td>13302</td>\n",
              "      <td>3</td>\n",
              "      <td>1</td>\n",
              "      <td>16</td>\n",
              "      <td>50</td>\n",
              "      <td>21</td>\n",
              "      <td>35</td>\n",
              "      <td>4</td>\n",
              "      <td>45</td>\n",
              "    </tr>\n",
              "  </tbody>\n",
              "</table>\n",
              "<p>5 rows × 31 columns</p>\n",
              "</div>\n",
              "      <button class=\"colab-df-convert\" onclick=\"convertToInteractive('df-d6ebd79a-f9ca-4a93-8356-47abd536a77b')\"\n",
              "              title=\"Convert this dataframe to an interactive table.\"\n",
              "              style=\"display:none;\">\n",
              "        \n",
              "  <svg xmlns=\"http://www.w3.org/2000/svg\" height=\"24px\"viewBox=\"0 0 24 24\"\n",
              "       width=\"24px\">\n",
              "    <path d=\"M0 0h24v24H0V0z\" fill=\"none\"/>\n",
              "    <path d=\"M18.56 5.44l.94 2.06.94-2.06 2.06-.94-2.06-.94-.94-2.06-.94 2.06-2.06.94zm-11 1L8.5 8.5l.94-2.06 2.06-.94-2.06-.94L8.5 2.5l-.94 2.06-2.06.94zm10 10l.94 2.06.94-2.06 2.06-.94-2.06-.94-.94-2.06-.94 2.06-2.06.94z\"/><path d=\"M17.41 7.96l-1.37-1.37c-.4-.4-.92-.59-1.43-.59-.52 0-1.04.2-1.43.59L10.3 9.45l-7.72 7.72c-.78.78-.78 2.05 0 2.83L4 21.41c.39.39.9.59 1.41.59.51 0 1.02-.2 1.41-.59l7.78-7.78 2.81-2.81c.8-.78.8-2.07 0-2.86zM5.41 20L4 18.59l7.72-7.72 1.47 1.35L5.41 20z\"/>\n",
              "  </svg>\n",
              "      </button>\n",
              "      \n",
              "  <style>\n",
              "    .colab-df-container {\n",
              "      display:flex;\n",
              "      flex-wrap:wrap;\n",
              "      gap: 12px;\n",
              "    }\n",
              "\n",
              "    .colab-df-convert {\n",
              "      background-color: #E8F0FE;\n",
              "      border: none;\n",
              "      border-radius: 50%;\n",
              "      cursor: pointer;\n",
              "      display: none;\n",
              "      fill: #1967D2;\n",
              "      height: 32px;\n",
              "      padding: 0 0 0 0;\n",
              "      width: 32px;\n",
              "    }\n",
              "\n",
              "    .colab-df-convert:hover {\n",
              "      background-color: #E2EBFA;\n",
              "      box-shadow: 0px 1px 2px rgba(60, 64, 67, 0.3), 0px 1px 3px 1px rgba(60, 64, 67, 0.15);\n",
              "      fill: #174EA6;\n",
              "    }\n",
              "\n",
              "    [theme=dark] .colab-df-convert {\n",
              "      background-color: #3B4455;\n",
              "      fill: #D2E3FC;\n",
              "    }\n",
              "\n",
              "    [theme=dark] .colab-df-convert:hover {\n",
              "      background-color: #434B5C;\n",
              "      box-shadow: 0px 1px 3px 1px rgba(0, 0, 0, 0.15);\n",
              "      filter: drop-shadow(0px 1px 2px rgba(0, 0, 0, 0.3));\n",
              "      fill: #FFFFFF;\n",
              "    }\n",
              "  </style>\n",
              "\n",
              "      <script>\n",
              "        const buttonEl =\n",
              "          document.querySelector('#df-d6ebd79a-f9ca-4a93-8356-47abd536a77b button.colab-df-convert');\n",
              "        buttonEl.style.display =\n",
              "          google.colab.kernel.accessAllowed ? 'block' : 'none';\n",
              "\n",
              "        async function convertToInteractive(key) {\n",
              "          const element = document.querySelector('#df-d6ebd79a-f9ca-4a93-8356-47abd536a77b');\n",
              "          const dataTable =\n",
              "            await google.colab.kernel.invokeFunction('convertToInteractive',\n",
              "                                                     [key], {});\n",
              "          if (!dataTable) return;\n",
              "\n",
              "          const docLinkHtml = 'Like what you see? Visit the ' +\n",
              "            '<a target=\"_blank\" href=https://colab.research.google.com/notebooks/data_table.ipynb>data table notebook</a>'\n",
              "            + ' to learn more about interactive tables.';\n",
              "          element.innerHTML = '';\n",
              "          dataTable['output_type'] = 'display_data';\n",
              "          await google.colab.output.renderOutput(dataTable, element);\n",
              "          const docLink = document.createElement('div');\n",
              "          docLink.innerHTML = docLinkHtml;\n",
              "          element.appendChild(docLink);\n",
              "        }\n",
              "      </script>\n",
              "    </div>\n",
              "  </div>\n",
              "  "
            ]
          },
          "metadata": {},
          "execution_count": 37
        }
      ]
    },
    {
      "cell_type": "code",
      "source": [
        ""
      ],
      "metadata": {
        "id": "Maw0Nb-YHytd"
      },
      "execution_count": 37,
      "outputs": []
    },
    {
      "cell_type": "markdown",
      "source": [
        "##Test Data|"
      ],
      "metadata": {
        "id": "Uvx2f70bICzS"
      }
    },
    {
      "cell_type": "code",
      "source": [
        "df_test= pd.read_excel(\"/content/Test_set.xlsx\")"
      ],
      "metadata": {
        "id": "asz2RAWnIGM4"
      },
      "execution_count": 38,
      "outputs": []
    },
    {
      "cell_type": "code",
      "source": [
        "df_test.head()"
      ],
      "metadata": {
        "colab": {
          "base_uri": "https://localhost:8080/",
          "height": 250
        },
        "id": "m3ps8KelIOoP",
        "outputId": "a84b400c-3003-4882-c0b6-4f8c32b382ba"
      },
      "execution_count": 39,
      "outputs": [
        {
          "output_type": "execute_result",
          "data": {
            "text/plain": [
              "             Airline Date_of_Journey    Source Destination            Route  \\\n",
              "0        Jet Airways       6/06/2019     Delhi      Cochin  DEL → BOM → COK   \n",
              "1             IndiGo      12/05/2019   Kolkata    Banglore  CCU → MAA → BLR   \n",
              "2        Jet Airways      21/05/2019     Delhi      Cochin  DEL → BOM → COK   \n",
              "3  Multiple carriers      21/05/2019     Delhi      Cochin  DEL → BOM → COK   \n",
              "4           Air Asia      24/06/2019  Banglore       Delhi        BLR → DEL   \n",
              "\n",
              "  Dep_Time  Arrival_Time Duration Total_Stops              Additional_Info  \n",
              "0    17:30  04:25 07 Jun  10h 55m      1 stop                      No info  \n",
              "1    06:20         10:20       4h      1 stop                      No info  \n",
              "2    19:15  19:00 22 May  23h 45m      1 stop  In-flight meal not included  \n",
              "3    08:00         21:00      13h      1 stop                      No info  \n",
              "4    23:55  02:45 25 Jun   2h 50m    non-stop                      No info  "
            ],
            "text/html": [
              "\n",
              "  <div id=\"df-c776dcde-c05a-4565-a1ed-f800e55a525d\">\n",
              "    <div class=\"colab-df-container\">\n",
              "      <div>\n",
              "<style scoped>\n",
              "    .dataframe tbody tr th:only-of-type {\n",
              "        vertical-align: middle;\n",
              "    }\n",
              "\n",
              "    .dataframe tbody tr th {\n",
              "        vertical-align: top;\n",
              "    }\n",
              "\n",
              "    .dataframe thead th {\n",
              "        text-align: right;\n",
              "    }\n",
              "</style>\n",
              "<table border=\"1\" class=\"dataframe\">\n",
              "  <thead>\n",
              "    <tr style=\"text-align: right;\">\n",
              "      <th></th>\n",
              "      <th>Airline</th>\n",
              "      <th>Date_of_Journey</th>\n",
              "      <th>Source</th>\n",
              "      <th>Destination</th>\n",
              "      <th>Route</th>\n",
              "      <th>Dep_Time</th>\n",
              "      <th>Arrival_Time</th>\n",
              "      <th>Duration</th>\n",
              "      <th>Total_Stops</th>\n",
              "      <th>Additional_Info</th>\n",
              "    </tr>\n",
              "  </thead>\n",
              "  <tbody>\n",
              "    <tr>\n",
              "      <th>0</th>\n",
              "      <td>Jet Airways</td>\n",
              "      <td>6/06/2019</td>\n",
              "      <td>Delhi</td>\n",
              "      <td>Cochin</td>\n",
              "      <td>DEL → BOM → COK</td>\n",
              "      <td>17:30</td>\n",
              "      <td>04:25 07 Jun</td>\n",
              "      <td>10h 55m</td>\n",
              "      <td>1 stop</td>\n",
              "      <td>No info</td>\n",
              "    </tr>\n",
              "    <tr>\n",
              "      <th>1</th>\n",
              "      <td>IndiGo</td>\n",
              "      <td>12/05/2019</td>\n",
              "      <td>Kolkata</td>\n",
              "      <td>Banglore</td>\n",
              "      <td>CCU → MAA → BLR</td>\n",
              "      <td>06:20</td>\n",
              "      <td>10:20</td>\n",
              "      <td>4h</td>\n",
              "      <td>1 stop</td>\n",
              "      <td>No info</td>\n",
              "    </tr>\n",
              "    <tr>\n",
              "      <th>2</th>\n",
              "      <td>Jet Airways</td>\n",
              "      <td>21/05/2019</td>\n",
              "      <td>Delhi</td>\n",
              "      <td>Cochin</td>\n",
              "      <td>DEL → BOM → COK</td>\n",
              "      <td>19:15</td>\n",
              "      <td>19:00 22 May</td>\n",
              "      <td>23h 45m</td>\n",
              "      <td>1 stop</td>\n",
              "      <td>In-flight meal not included</td>\n",
              "    </tr>\n",
              "    <tr>\n",
              "      <th>3</th>\n",
              "      <td>Multiple carriers</td>\n",
              "      <td>21/05/2019</td>\n",
              "      <td>Delhi</td>\n",
              "      <td>Cochin</td>\n",
              "      <td>DEL → BOM → COK</td>\n",
              "      <td>08:00</td>\n",
              "      <td>21:00</td>\n",
              "      <td>13h</td>\n",
              "      <td>1 stop</td>\n",
              "      <td>No info</td>\n",
              "    </tr>\n",
              "    <tr>\n",
              "      <th>4</th>\n",
              "      <td>Air Asia</td>\n",
              "      <td>24/06/2019</td>\n",
              "      <td>Banglore</td>\n",
              "      <td>Delhi</td>\n",
              "      <td>BLR → DEL</td>\n",
              "      <td>23:55</td>\n",
              "      <td>02:45 25 Jun</td>\n",
              "      <td>2h 50m</td>\n",
              "      <td>non-stop</td>\n",
              "      <td>No info</td>\n",
              "    </tr>\n",
              "  </tbody>\n",
              "</table>\n",
              "</div>\n",
              "      <button class=\"colab-df-convert\" onclick=\"convertToInteractive('df-c776dcde-c05a-4565-a1ed-f800e55a525d')\"\n",
              "              title=\"Convert this dataframe to an interactive table.\"\n",
              "              style=\"display:none;\">\n",
              "        \n",
              "  <svg xmlns=\"http://www.w3.org/2000/svg\" height=\"24px\"viewBox=\"0 0 24 24\"\n",
              "       width=\"24px\">\n",
              "    <path d=\"M0 0h24v24H0V0z\" fill=\"none\"/>\n",
              "    <path d=\"M18.56 5.44l.94 2.06.94-2.06 2.06-.94-2.06-.94-.94-2.06-.94 2.06-2.06.94zm-11 1L8.5 8.5l.94-2.06 2.06-.94-2.06-.94L8.5 2.5l-.94 2.06-2.06.94zm10 10l.94 2.06.94-2.06 2.06-.94-2.06-.94-.94-2.06-.94 2.06-2.06.94z\"/><path d=\"M17.41 7.96l-1.37-1.37c-.4-.4-.92-.59-1.43-.59-.52 0-1.04.2-1.43.59L10.3 9.45l-7.72 7.72c-.78.78-.78 2.05 0 2.83L4 21.41c.39.39.9.59 1.41.59.51 0 1.02-.2 1.41-.59l7.78-7.78 2.81-2.81c.8-.78.8-2.07 0-2.86zM5.41 20L4 18.59l7.72-7.72 1.47 1.35L5.41 20z\"/>\n",
              "  </svg>\n",
              "      </button>\n",
              "      \n",
              "  <style>\n",
              "    .colab-df-container {\n",
              "      display:flex;\n",
              "      flex-wrap:wrap;\n",
              "      gap: 12px;\n",
              "    }\n",
              "\n",
              "    .colab-df-convert {\n",
              "      background-color: #E8F0FE;\n",
              "      border: none;\n",
              "      border-radius: 50%;\n",
              "      cursor: pointer;\n",
              "      display: none;\n",
              "      fill: #1967D2;\n",
              "      height: 32px;\n",
              "      padding: 0 0 0 0;\n",
              "      width: 32px;\n",
              "    }\n",
              "\n",
              "    .colab-df-convert:hover {\n",
              "      background-color: #E2EBFA;\n",
              "      box-shadow: 0px 1px 2px rgba(60, 64, 67, 0.3), 0px 1px 3px 1px rgba(60, 64, 67, 0.15);\n",
              "      fill: #174EA6;\n",
              "    }\n",
              "\n",
              "    [theme=dark] .colab-df-convert {\n",
              "      background-color: #3B4455;\n",
              "      fill: #D2E3FC;\n",
              "    }\n",
              "\n",
              "    [theme=dark] .colab-df-convert:hover {\n",
              "      background-color: #434B5C;\n",
              "      box-shadow: 0px 1px 3px 1px rgba(0, 0, 0, 0.15);\n",
              "      filter: drop-shadow(0px 1px 2px rgba(0, 0, 0, 0.3));\n",
              "      fill: #FFFFFF;\n",
              "    }\n",
              "  </style>\n",
              "\n",
              "      <script>\n",
              "        const buttonEl =\n",
              "          document.querySelector('#df-c776dcde-c05a-4565-a1ed-f800e55a525d button.colab-df-convert');\n",
              "        buttonEl.style.display =\n",
              "          google.colab.kernel.accessAllowed ? 'block' : 'none';\n",
              "\n",
              "        async function convertToInteractive(key) {\n",
              "          const element = document.querySelector('#df-c776dcde-c05a-4565-a1ed-f800e55a525d');\n",
              "          const dataTable =\n",
              "            await google.colab.kernel.invokeFunction('convertToInteractive',\n",
              "                                                     [key], {});\n",
              "          if (!dataTable) return;\n",
              "\n",
              "          const docLinkHtml = 'Like what you see? Visit the ' +\n",
              "            '<a target=\"_blank\" href=https://colab.research.google.com/notebooks/data_table.ipynb>data table notebook</a>'\n",
              "            + ' to learn more about interactive tables.';\n",
              "          element.innerHTML = '';\n",
              "          dataTable['output_type'] = 'display_data';\n",
              "          await google.colab.output.renderOutput(dataTable, element);\n",
              "          const docLink = document.createElement('div');\n",
              "          docLink.innerHTML = docLinkHtml;\n",
              "          element.appendChild(docLink);\n",
              "        }\n",
              "      </script>\n",
              "    </div>\n",
              "  </div>\n",
              "  "
            ]
          },
          "metadata": {},
          "execution_count": 39
        }
      ]
    },
    {
      "cell_type": "code",
      "source": [
        "df_test.shape"
      ],
      "metadata": {
        "colab": {
          "base_uri": "https://localhost:8080/"
        },
        "id": "cdGn2YOFIQOa",
        "outputId": "4d4a7418-ae71-4c0e-9815-32df7a17cbc5"
      },
      "execution_count": 40,
      "outputs": [
        {
          "output_type": "execute_result",
          "data": {
            "text/plain": [
              "(2671, 10)"
            ]
          },
          "metadata": {},
          "execution_count": 40
        }
      ]
    },
    {
      "cell_type": "markdown",
      "source": [
        "Adjusting the testing data as the train data"
      ],
      "metadata": {
        "id": "GSh3DhRFIYLY"
      }
    },
    {
      "cell_type": "code",
      "source": [
        "df_test['Date_of_Journey']=pd.to_datetime(df_test['Date_of_Journey'])\n",
        "df_test['Day_of_Journey']=(df_test['Date_of_Journey']).dt.day\n",
        "df_test['Month_of_Journey']=(df_test['Date_of_Journey']).dt.month\n",
        "\n",
        "df_test['Dep_hr']=pd.to_datetime(df_test['Dep_Time']).dt.hour\n",
        "df_test['Dep_min']=pd.to_datetime(df_test['Dep_Time']).dt.minute\n",
        "\n",
        "\n",
        "df_test['Arrival_hr']=pd.to_datetime(df_test['Arrival_Time']).dt.hour\n",
        "df_test['Arrival_min']=pd.to_datetime(df_test['Arrival_Time']).dt.minute\n",
        "\n",
        "a=df_test['Duration'].str.split(' ',expand=True) \n",
        "a[1].fillna('00m',inplace=True) \n",
        "df_test['dur_hr']=a[0].apply(lambda x: x[:-1])\n",
        "df_test['dur_min']=a[1].apply(lambda x: x[:-1])\n",
        "\n",
        "df_test.drop(['Date_of_Journey','Duration','Arrival_Time','Dep_Time'],inplace=True,axis=1)\n",
        "\n",
        "df_test['Total_Stops']=df_test['Total_Stops'].map({'non­stop':0, '2 stops':2, '1 stop':1, '3 stops':3,'4 stops':4})\n",
        "\n",
        "air_dummy=pd.get_dummies(df_test['Airline'],drop_first=True) \n",
        "source_dest_dummy=pd.get_dummies(df_test[['Source','Destination']],drop_first=True)\n",
        "df_test=pd.concat([air_dummy,source_dest_dummy,df_test],axis=1)\n",
        "\n",
        "\n",
        "df_test.drop(['Airline','Source','Destination','Additional_Info',\"Route\"],inplace=True,axis=1)"
      ],
      "metadata": {
        "id": "xszAbksrIVuF"
      },
      "execution_count": 41,
      "outputs": []
    },
    {
      "cell_type": "code",
      "source": [
        "print(\"Shape of Train:\", df.shape)\n",
        "print(\"Shape of Test:\", df_test.shape)"
      ],
      "metadata": {
        "colab": {
          "base_uri": "https://localhost:8080/"
        },
        "id": "qDq155u9JXAf",
        "outputId": "8180ea90-16ee-4a3f-9cc1-383d8825c156"
      },
      "execution_count": 42,
      "outputs": [
        {
          "output_type": "stream",
          "name": "stdout",
          "text": [
            "Shape of Train: (10682, 31)\n",
            "Shape of Test: (2671, 28)\n"
          ]
        }
      ]
    },
    {
      "cell_type": "code",
      "source": [
        "df.columns"
      ],
      "metadata": {
        "colab": {
          "base_uri": "https://localhost:8080/"
        },
        "id": "I1ONoowUcnQz",
        "outputId": "01d511ed-52ac-42ee-d2b6-dd0c94a153ce"
      },
      "execution_count": 43,
      "outputs": [
        {
          "output_type": "execute_result",
          "data": {
            "text/plain": [
              "Index(['Air India', 'GoAir', 'IndiGo', 'Jet Airways', 'Jet Airways Business',\n",
              "       'Multiple carriers', 'Multiple carriers Premium economy', 'SpiceJet',\n",
              "       'Trujet', 'Vistara', 'Vistara Premium economy', 'Source_Chennai',\n",
              "       'Source_Delhi', 'Source_Kolkata', 'Source_Mumbai', 'Destination_Cochin',\n",
              "       'Destination_Delhi', 'Destination_Hyderabad', 'Destination_Kolkata',\n",
              "       'Route', 'Total_Stops', 'Additional_Info', 'Price', 'Day_of_Journey',\n",
              "       'Month_of_Journey', 'Dep_hr', 'Dep_min', 'Arrival_hr', 'Arrival_min',\n",
              "       'duration_hr', 'duration_min'],\n",
              "      dtype='object')"
            ]
          },
          "metadata": {},
          "execution_count": 43
        }
      ]
    },
    {
      "cell_type": "code",
      "source": [
        "x= df.drop(['Route', 'Price','Additional_Info'], axis=1)\n",
        "y= df[\"Price\"]"
      ],
      "metadata": {
        "id": "hTfb96pUcZGh"
      },
      "execution_count": 44,
      "outputs": []
    },
    {
      "cell_type": "code",
      "source": [
        "x.shape"
      ],
      "metadata": {
        "colab": {
          "base_uri": "https://localhost:8080/"
        },
        "id": "TtFQkHN0c5Tm",
        "outputId": "8857bb0d-cbba-4e24-e5ca-4fa97ec88833"
      },
      "execution_count": 45,
      "outputs": [
        {
          "output_type": "execute_result",
          "data": {
            "text/plain": [
              "(10682, 28)"
            ]
          },
          "metadata": {},
          "execution_count": 45
        }
      ]
    },
    {
      "cell_type": "code",
      "source": [
        "y.shape"
      ],
      "metadata": {
        "colab": {
          "base_uri": "https://localhost:8080/"
        },
        "id": "J7HeZlZUc74V",
        "outputId": "84f1adbf-dcb3-4777-aa96-bdd72fc99f4b"
      },
      "execution_count": 46,
      "outputs": [
        {
          "output_type": "execute_result",
          "data": {
            "text/plain": [
              "(10682,)"
            ]
          },
          "metadata": {},
          "execution_count": 46
        }
      ]
    },
    {
      "cell_type": "code",
      "source": [
        "x.fillna(0, inplace= True)"
      ],
      "metadata": {
        "id": "oB0jN5YCdLt7"
      },
      "execution_count": 47,
      "outputs": []
    },
    {
      "cell_type": "code",
      "source": [
        ""
      ],
      "metadata": {
        "id": "NHPrQTlkdMGz"
      },
      "execution_count": 47,
      "outputs": []
    },
    {
      "cell_type": "markdown",
      "source": [
        "##Model Building and Hyperparameter Tuning"
      ],
      "metadata": {
        "id": "CVRlmNsDMR9D"
      }
    },
    {
      "cell_type": "markdown",
      "source": [
        "###Extra Regressor"
      ],
      "metadata": {
        "id": "1Akrnd4lMlas"
      }
    },
    {
      "cell_type": "code",
      "source": [
        "from sklearn.ensemble import ExtraTreesRegressor\n",
        "ET_Model=ExtraTreesRegressor()\n",
        "ET_Model.fit(x,y)"
      ],
      "metadata": {
        "colab": {
          "base_uri": "https://localhost:8080/"
        },
        "id": "nuodgcZLMtyC",
        "outputId": "6d1dc1f6-23e3-46b8-a53f-d0dfaec21770"
      },
      "execution_count": 48,
      "outputs": [
        {
          "output_type": "execute_result",
          "data": {
            "text/plain": [
              "ExtraTreesRegressor()"
            ]
          },
          "metadata": {},
          "execution_count": 48
        }
      ]
    },
    {
      "cell_type": "code",
      "source": [
        "plt.figure(figsize=(18,10))\n",
        "sns.barplot(x=ET_Model.feature_importances_, y=x.columns, orient=\"h\")\n"
      ],
      "metadata": {
        "colab": {
          "base_uri": "https://localhost:8080/",
          "height": 588
        },
        "id": "JAx3QTUpdHau",
        "outputId": "4f3cf042-79bf-48d9-e27f-0953a18567ca"
      },
      "execution_count": 49,
      "outputs": [
        {
          "output_type": "execute_result",
          "data": {
            "text/plain": [
              "<matplotlib.axes._subplots.AxesSubplot at 0x7f521d2eb850>"
            ]
          },
          "metadata": {},
          "execution_count": 49
        },
        {
          "output_type": "display_data",
          "data": {
            "text/plain": [
              "<Figure size 1296x720 with 1 Axes>"
            ],
            "image/png": "[encoded data removed]"
          },
          "metadata": {
            "needs_background": "light"
          }
        }
      ]
    },
    {
      "cell_type": "code",
      "source": [
        "#splitting the dataset\n",
        "from sklearn.model_selection import train_test_split\n",
        "x_train, x_test, y_train, y_test = train_test_split(x, y, test_size = 0.2, random_state = 50)"
      ],
      "metadata": {
        "id": "ChL4x3YzeRh5"
      },
      "execution_count": 50,
      "outputs": []
    },
    {
      "cell_type": "code",
      "source": [
        "from sklearn.ensemble import ExtraTreesRegressor \n",
        "ET_Model=ExtraTreesRegressor(n_estimators = 120) \n",
        "ET_Model.fit(x_train,y_train)\n",
        "y_predict=ET_Model.predict(x_test)\n",
        "from sklearn.metrics import r2_score \n",
        "r2_score(y_test,y_predict)"
      ],
      "metadata": {
        "colab": {
          "base_uri": "https://localhost:8080/"
        },
        "id": "FCovMSAIgCQX",
        "outputId": "5619e655-bfb8-470d-b049-c2c14c4766b0"
      },
      "execution_count": 51,
      "outputs": [
        {
          "output_type": "execute_result",
          "data": {
            "text/plain": [
              "0.7695190283376385"
            ]
          },
          "metadata": {},
          "execution_count": 51
        }
      ]
    },
    {
      "cell_type": "code",
      "source": [
        ""
      ],
      "metadata": {
        "id": "hOJQMNBfgNLw"
      },
      "execution_count": 51,
      "outputs": []
    },
    {
      "cell_type": "markdown",
      "source": [
        "##Random Forest Regressor"
      ],
      "metadata": {
        "id": "a0b4u-z3iMUH"
      }
    },
    {
      "cell_type": "code",
      "source": [
        "from sklearn.ensemble import RandomForestRegressor \n",
        "RF_Model=RandomForestRegressor() \n",
        "RF_Model.fit(x_train,y_train)\n",
        "y_predict=RF_Model.predict(x_test) \n",
        "r2_score(y_test,y_predict)"
      ],
      "metadata": {
        "colab": {
          "base_uri": "https://localhost:8080/"
        },
        "id": "KGCeIHvyiO9t",
        "outputId": "f5479563-101d-4b53-b5fb-f4f30cd492b3"
      },
      "execution_count": 52,
      "outputs": [
        {
          "output_type": "execute_result",
          "data": {
            "text/plain": [
              "0.7931623970570693"
            ]
          },
          "metadata": {},
          "execution_count": 52
        }
      ]
    },
    {
      "cell_type": "code",
      "source": [
        "##Hypeparameter Tuning\n",
        "\n",
        "from sklearn.model_selection import RandomizedSearchCV\n",
        "\n",
        "n_estimators = [int(x) for x in np.linspace(start = 8, stop = 15, num = 5)] \n",
        "max_features = ['auto', 'sqrt']\n",
        "max_depth = [int(x) for x in np.linspace(6, 15, num = 5)]\n",
        "min_samples_split = [2, 5, 10, 15, 100]\n",
        "min_samples_leaf = [1, 2, 5, 10]\n",
        "\n",
        "params_grid={'n_estimators': n_estimators,\n",
        "               'max_features': max_features,\n",
        "               'max_depth': max_depth,\n",
        "               'min_samples_split': min_samples_split,\n",
        "               'min_samples_leaf': min_samples_leaf}\n",
        "\n",
        "grid= RandomizedSearchCV(RF_Model, params_grid,verbose=1)\n"
      ],
      "metadata": {
        "id": "OHjcefqDiY6P"
      },
      "execution_count": 53,
      "outputs": []
    },
    {
      "cell_type": "code",
      "source": [
        "grid.fit(x_train,y_train)"
      ],
      "metadata": {
        "colab": {
          "base_uri": "https://localhost:8080/"
        },
        "id": "dyoJU5kHmAEO",
        "outputId": "12d5b313-7fbc-42d7-85db-8e723cf51bbd"
      },
      "execution_count": 54,
      "outputs": [
        {
          "output_type": "stream",
          "name": "stdout",
          "text": [
            "Fitting 5 folds for each of 10 candidates, totalling 50 fits\n"
          ]
        },
        {
          "output_type": "execute_result",
          "data": {
            "text/plain": [
              "RandomizedSearchCV(estimator=RandomForestRegressor(),\n",
              "                   param_distributions={'max_depth': [6, 8, 10, 12, 15],\n",
              "                                        'max_features': ['auto', 'sqrt'],\n",
              "                                        'min_samples_leaf': [1, 2, 5, 10],\n",
              "                                        'min_samples_split': [2, 5, 10, 15,\n",
              "                                                              100],\n",
              "                                        'n_estimators': [8, 9, 11, 13, 15]},\n",
              "                   verbose=1)"
            ]
          },
          "metadata": {},
          "execution_count": 54
        }
      ]
    },
    {
      "cell_type": "code",
      "source": [
        "print(grid.best_params_)"
      ],
      "metadata": {
        "colab": {
          "base_uri": "https://localhost:8080/"
        },
        "id": "pHpEzMalmBaa",
        "outputId": "5eac7022-dbba-4d3e-d395-49b35e33186e"
      },
      "execution_count": 55,
      "outputs": [
        {
          "output_type": "stream",
          "name": "stdout",
          "text": [
            "{'n_estimators': 11, 'min_samples_split': 5, 'min_samples_leaf': 1, 'max_features': 'auto', 'max_depth': 12}\n"
          ]
        }
      ]
    },
    {
      "cell_type": "code",
      "source": [
        "rf_model= RandomForestRegressor(n_estimators= 8, min_samples_split= 10, min_samples_leaf= 10, max_features= 'auto', max_depth= 15\n",
        ")"
      ],
      "metadata": {
        "id": "B5pt_GgGtwSu"
      },
      "execution_count": 56,
      "outputs": []
    },
    {
      "cell_type": "code",
      "source": [
        "rf_model.fit(x_train,y_train)\n",
        "y_predict=rf_model.predict(x_test) \n",
        "r2_score(y_test,y_predict)"
      ],
      "metadata": {
        "colab": {
          "base_uri": "https://localhost:8080/"
        },
        "id": "BQrL-nXPtwgt",
        "outputId": "838605af-703a-457d-c900-97dcff636c23"
      },
      "execution_count": 57,
      "outputs": [
        {
          "output_type": "execute_result",
          "data": {
            "text/plain": [
              "0.7803506308383785"
            ]
          },
          "metadata": {},
          "execution_count": 57
        }
      ]
    },
    {
      "cell_type": "code",
      "source": [
        ""
      ],
      "metadata": {
        "id": "yOjMcvuItwjP"
      },
      "execution_count": 57,
      "outputs": []
    },
    {
      "cell_type": "code",
      "source": [
        "!pip install catboost"
      ],
      "metadata": {
        "colab": {
          "base_uri": "https://localhost:8080/"
        },
        "id": "pMYvdyHktwlu",
        "outputId": "53972f62-a00e-4d5f-85cd-3d93e3536d68"
      },
      "execution_count": 58,
      "outputs": [
        {
          "output_type": "stream",
          "name": "stdout",
          "text": [
            "Collecting catboost\n",
            "  Downloading catboost-1.0.4-cp37-none-manylinux1_x86_64.whl (76.1 MB)\n",
            "\u001b[K     |████████████████████████████████| 76.1 MB 53 kB/s \n",
            "\u001b[?25hRequirement already satisfied: pandas>=0.24.0 in /usr/local/lib/python3.7/dist-packages (from catboost) (1.3.5)\n",
            "Requirement already satisfied: six in /usr/local/lib/python3.7/dist-packages (from catboost) (1.15.0)\n",
            "Requirement already satisfied: scipy in /usr/local/lib/python3.7/dist-packages (from catboost) (1.4.1)\n",
            "Requirement already satisfied: plotly in /usr/local/lib/python3.7/dist-packages (from catboost) (5.5.0)\n",
            "Requirement already satisfied: graphviz in /usr/local/lib/python3.7/dist-packages (from catboost) (0.10.1)\n",
            "Requirement already satisfied: matplotlib in /usr/local/lib/python3.7/dist-packages (from catboost) (3.2.2)\n",
            "Requirement already satisfied: numpy>=1.16.0 in /usr/local/lib/python3.7/dist-packages (from catboost) (1.21.5)\n",
            "Requirement already satisfied: python-dateutil>=2.7.3 in /usr/local/lib/python3.7/dist-packages (from pandas>=0.24.0->catboost) (2.8.2)\n",
            "Requirement already satisfied: pytz>=2017.3 in /usr/local/lib/python3.7/dist-packages (from pandas>=0.24.0->catboost) (2018.9)\n",
            "Requirement already satisfied: cycler>=0.10 in /usr/local/lib/python3.7/dist-packages (from matplotlib->catboost) (0.11.0)\n",
            "Requirement already satisfied: kiwisolver>=1.0.1 in /usr/local/lib/python3.7/dist-packages (from matplotlib->catboost) (1.3.2)\n",
            "Requirement already satisfied: pyparsing!=2.0.4,!=2.1.2,!=2.1.6,>=2.0.1 in /usr/local/lib/python3.7/dist-packages (from matplotlib->catboost) (3.0.7)\n",
            "Requirement already satisfied: tenacity>=6.2.0 in /usr/local/lib/python3.7/dist-packages (from plotly->catboost) (8.0.1)\n",
            "Installing collected packages: catboost\n",
            "Successfully installed catboost-1.0.4\n"
          ]
        }
      ]
    },
    {
      "cell_type": "code",
      "source": [
        "from catboost import CatBoostRegressor\n",
        "cat=CatBoostRegressor()\n",
        "cat.fit(x_train,y_train)"
      ],
      "metadata": {
        "colab": {
          "base_uri": "https://localhost:8080/"
        },
        "id": "zo1v7tCgt2ea",
        "outputId": "f9dd5846-c3ff-40c8-a6e9-4c0b3f2c88b5"
      },
      "execution_count": 59,
      "outputs": [
        {
          "output_type": "stream",
          "name": "stdout",
          "text": [
            "Learning rate set to 0.057463\n",
            "0:\tlearn: 4465.7280757\ttotal: 48.4ms\tremaining: 48.4s\n",
            "1:\tlearn: 4317.7245126\ttotal: 50.6ms\tremaining: 25.3s\n",
            "2:\tlearn: 4167.9871081\ttotal: 53.1ms\tremaining: 17.6s\n",
            "3:\tlearn: 4030.4839609\ttotal: 55.7ms\tremaining: 13.9s\n",
            "4:\tlearn: 3906.4844760\ttotal: 59.3ms\tremaining: 11.8s\n",
            "5:\tlearn: 3785.4580402\ttotal: 61.3ms\tremaining: 10.2s\n",
            "6:\tlearn: 3673.8662552\ttotal: 63.1ms\tremaining: 8.95s\n",
            "7:\tlearn: 3582.0533069\ttotal: 67.1ms\tremaining: 8.32s\n",
            "8:\tlearn: 3495.5629367\ttotal: 70.1ms\tremaining: 7.72s\n",
            "9:\tlearn: 3404.7478335\ttotal: 73ms\tremaining: 7.23s\n",
            "10:\tlearn: 3325.1004431\ttotal: 75.2ms\tremaining: 6.76s\n",
            "11:\tlearn: 3254.1004651\ttotal: 77ms\tremaining: 6.34s\n",
            "12:\tlearn: 3184.6084064\ttotal: 78.9ms\tremaining: 5.99s\n",
            "13:\tlearn: 3122.3064005\ttotal: 80.9ms\tremaining: 5.7s\n",
            "14:\tlearn: 3067.6550706\ttotal: 82.7ms\tremaining: 5.43s\n",
            "15:\tlearn: 3014.5169632\ttotal: 84.6ms\tremaining: 5.2s\n",
            "16:\tlearn: 2962.4252595\ttotal: 86.4ms\tremaining: 4.99s\n",
            "17:\tlearn: 2920.1931240\ttotal: 88.3ms\tremaining: 4.82s\n",
            "18:\tlearn: 2877.4542155\ttotal: 90.1ms\tremaining: 4.65s\n",
            "19:\tlearn: 2836.6245798\ttotal: 91.8ms\tremaining: 4.5s\n",
            "20:\tlearn: 2795.6640990\ttotal: 93.7ms\tremaining: 4.37s\n",
            "21:\tlearn: 2762.1990538\ttotal: 95.5ms\tremaining: 4.24s\n",
            "22:\tlearn: 2727.9208771\ttotal: 97.4ms\tremaining: 4.14s\n",
            "23:\tlearn: 2696.1162679\ttotal: 99.3ms\tremaining: 4.04s\n",
            "24:\tlearn: 2667.2771566\ttotal: 101ms\tremaining: 3.94s\n",
            "25:\tlearn: 2643.7041952\ttotal: 103ms\tremaining: 3.86s\n",
            "26:\tlearn: 2620.3247888\ttotal: 105ms\tremaining: 3.77s\n",
            "27:\tlearn: 2598.7370952\ttotal: 107ms\tremaining: 3.7s\n",
            "28:\tlearn: 2574.8649008\ttotal: 108ms\tremaining: 3.63s\n",
            "29:\tlearn: 2552.8938076\ttotal: 110ms\tremaining: 3.56s\n",
            "30:\tlearn: 2535.4864413\ttotal: 112ms\tremaining: 3.5s\n",
            "31:\tlearn: 2516.7698332\ttotal: 114ms\tremaining: 3.44s\n",
            "32:\tlearn: 2498.8170112\ttotal: 116ms\tremaining: 3.38s\n",
            "33:\tlearn: 2486.8236752\ttotal: 117ms\tremaining: 3.34s\n",
            "34:\tlearn: 2477.3394868\ttotal: 119ms\tremaining: 3.29s\n",
            "35:\tlearn: 2464.0562980\ttotal: 121ms\tremaining: 3.24s\n",
            "36:\tlearn: 2448.5270397\ttotal: 123ms\tremaining: 3.2s\n",
            "37:\tlearn: 2436.8217449\ttotal: 125ms\tremaining: 3.16s\n",
            "38:\tlearn: 2424.4391048\ttotal: 127ms\tremaining: 3.12s\n",
            "39:\tlearn: 2415.6459023\ttotal: 128ms\tremaining: 3.08s\n",
            "40:\tlearn: 2406.0964751\ttotal: 130ms\tremaining: 3.05s\n",
            "41:\tlearn: 2393.8742177\ttotal: 132ms\tremaining: 3.01s\n",
            "42:\tlearn: 2382.4365188\ttotal: 134ms\tremaining: 2.98s\n",
            "43:\tlearn: 2370.4289366\ttotal: 136ms\tremaining: 2.95s\n",
            "44:\tlearn: 2359.2903311\ttotal: 138ms\tremaining: 2.92s\n",
            "45:\tlearn: 2353.6558567\ttotal: 139ms\tremaining: 2.89s\n",
            "46:\tlearn: 2345.4044111\ttotal: 141ms\tremaining: 2.86s\n",
            "47:\tlearn: 2335.5301779\ttotal: 143ms\tremaining: 2.84s\n",
            "48:\tlearn: 2330.7826322\ttotal: 145ms\tremaining: 2.81s\n",
            "49:\tlearn: 2321.1864216\ttotal: 147ms\tremaining: 2.79s\n",
            "50:\tlearn: 2313.2986029\ttotal: 149ms\tremaining: 2.77s\n",
            "51:\tlearn: 2307.6117185\ttotal: 151ms\tremaining: 2.75s\n",
            "52:\tlearn: 2301.3961730\ttotal: 153ms\tremaining: 2.73s\n",
            "53:\tlearn: 2294.3517169\ttotal: 154ms\tremaining: 2.7s\n",
            "54:\tlearn: 2286.6209598\ttotal: 156ms\tremaining: 2.68s\n",
            "55:\tlearn: 2278.8261647\ttotal: 158ms\tremaining: 2.67s\n",
            "56:\tlearn: 2274.1806199\ttotal: 160ms\tremaining: 2.64s\n",
            "57:\tlearn: 2267.5010929\ttotal: 162ms\tremaining: 2.63s\n",
            "58:\tlearn: 2261.4589527\ttotal: 163ms\tremaining: 2.61s\n",
            "59:\tlearn: 2255.9921223\ttotal: 165ms\tremaining: 2.59s\n",
            "60:\tlearn: 2249.4552343\ttotal: 167ms\tremaining: 2.57s\n",
            "61:\tlearn: 2244.6644634\ttotal: 169ms\tremaining: 2.56s\n",
            "62:\tlearn: 2238.9734365\ttotal: 171ms\tremaining: 2.54s\n",
            "63:\tlearn: 2234.9909927\ttotal: 173ms\tremaining: 2.53s\n",
            "64:\tlearn: 2231.1442896\ttotal: 175ms\tremaining: 2.51s\n",
            "65:\tlearn: 2226.5662708\ttotal: 176ms\tremaining: 2.5s\n",
            "66:\tlearn: 2219.7483791\ttotal: 178ms\tremaining: 2.48s\n",
            "67:\tlearn: 2216.2304285\ttotal: 180ms\tremaining: 2.47s\n",
            "68:\tlearn: 2213.0029269\ttotal: 182ms\tremaining: 2.46s\n",
            "69:\tlearn: 2209.9166932\ttotal: 184ms\tremaining: 2.45s\n",
            "70:\tlearn: 2203.9449162\ttotal: 186ms\tremaining: 2.43s\n",
            "71:\tlearn: 2197.3360911\ttotal: 190ms\tremaining: 2.44s\n",
            "72:\tlearn: 2193.1454818\ttotal: 192ms\tremaining: 2.44s\n",
            "73:\tlearn: 2191.3714829\ttotal: 195ms\tremaining: 2.44s\n",
            "74:\tlearn: 2187.2799783\ttotal: 197ms\tremaining: 2.43s\n",
            "75:\tlearn: 2184.9487788\ttotal: 199ms\tremaining: 2.42s\n",
            "76:\tlearn: 2180.5415792\ttotal: 201ms\tremaining: 2.41s\n",
            "77:\tlearn: 2174.7030474\ttotal: 203ms\tremaining: 2.39s\n",
            "78:\tlearn: 2171.6711621\ttotal: 204ms\tremaining: 2.38s\n",
            "79:\tlearn: 2168.7820825\ttotal: 206ms\tremaining: 2.37s\n",
            "80:\tlearn: 2166.3097499\ttotal: 208ms\tremaining: 2.36s\n",
            "81:\tlearn: 2163.5093344\ttotal: 210ms\tremaining: 2.35s\n",
            "82:\tlearn: 2160.6405708\ttotal: 212ms\tremaining: 2.34s\n",
            "83:\tlearn: 2155.5610777\ttotal: 213ms\tremaining: 2.33s\n",
            "84:\tlearn: 2151.1650726\ttotal: 215ms\tremaining: 2.31s\n",
            "85:\tlearn: 2149.7702700\ttotal: 217ms\tremaining: 2.31s\n",
            "86:\tlearn: 2146.0709542\ttotal: 219ms\tremaining: 2.3s\n",
            "87:\tlearn: 2142.8669614\ttotal: 221ms\tremaining: 2.29s\n",
            "88:\tlearn: 2140.2125861\ttotal: 222ms\tremaining: 2.28s\n",
            "89:\tlearn: 2136.8289963\ttotal: 224ms\tremaining: 2.27s\n",
            "90:\tlearn: 2134.4213461\ttotal: 226ms\tremaining: 2.26s\n",
            "91:\tlearn: 2130.2947106\ttotal: 228ms\tremaining: 2.25s\n",
            "92:\tlearn: 2125.6762707\ttotal: 230ms\tremaining: 2.24s\n",
            "93:\tlearn: 2121.9653594\ttotal: 232ms\tremaining: 2.23s\n",
            "94:\tlearn: 2116.8091629\ttotal: 234ms\tremaining: 2.23s\n",
            "95:\tlearn: 2115.5022262\ttotal: 236ms\tremaining: 2.22s\n",
            "96:\tlearn: 2112.9830571\ttotal: 237ms\tremaining: 2.21s\n",
            "97:\tlearn: 2109.5443737\ttotal: 239ms\tremaining: 2.2s\n",
            "98:\tlearn: 2105.7973532\ttotal: 241ms\tremaining: 2.19s\n",
            "99:\tlearn: 2101.2037661\ttotal: 243ms\tremaining: 2.19s\n",
            "100:\tlearn: 2096.1113779\ttotal: 245ms\tremaining: 2.18s\n",
            "101:\tlearn: 2094.0045045\ttotal: 247ms\tremaining: 2.18s\n",
            "102:\tlearn: 2091.3247216\ttotal: 249ms\tremaining: 2.17s\n",
            "103:\tlearn: 2086.9048284\ttotal: 251ms\tremaining: 2.16s\n",
            "104:\tlearn: 2082.7266963\ttotal: 253ms\tremaining: 2.16s\n",
            "105:\tlearn: 2079.8091016\ttotal: 255ms\tremaining: 2.15s\n",
            "106:\tlearn: 2075.5102216\ttotal: 257ms\tremaining: 2.15s\n",
            "107:\tlearn: 2073.4945720\ttotal: 259ms\tremaining: 2.14s\n",
            "108:\tlearn: 2069.3783146\ttotal: 261ms\tremaining: 2.13s\n",
            "109:\tlearn: 2065.3296881\ttotal: 263ms\tremaining: 2.13s\n",
            "110:\tlearn: 2063.9820739\ttotal: 267ms\tremaining: 2.14s\n",
            "111:\tlearn: 2060.6653369\ttotal: 269ms\tremaining: 2.13s\n",
            "112:\tlearn: 2058.9501335\ttotal: 270ms\tremaining: 2.12s\n",
            "113:\tlearn: 2056.4421971\ttotal: 272ms\tremaining: 2.12s\n",
            "114:\tlearn: 2055.3227016\ttotal: 274ms\tremaining: 2.11s\n",
            "115:\tlearn: 2050.9968075\ttotal: 276ms\tremaining: 2.1s\n",
            "116:\tlearn: 2047.7938564\ttotal: 278ms\tremaining: 2.1s\n",
            "117:\tlearn: 2044.4858936\ttotal: 280ms\tremaining: 2.09s\n",
            "118:\tlearn: 2041.0867610\ttotal: 282ms\tremaining: 2.08s\n",
            "119:\tlearn: 2040.2085227\ttotal: 283ms\tremaining: 2.08s\n",
            "120:\tlearn: 2038.0143889\ttotal: 285ms\tremaining: 2.07s\n",
            "121:\tlearn: 2035.1904591\ttotal: 287ms\tremaining: 2.07s\n",
            "122:\tlearn: 2033.3851679\ttotal: 289ms\tremaining: 2.06s\n",
            "123:\tlearn: 2030.1091356\ttotal: 291ms\tremaining: 2.06s\n",
            "124:\tlearn: 2029.5564205\ttotal: 293ms\tremaining: 2.05s\n",
            "125:\tlearn: 2026.1337658\ttotal: 295ms\tremaining: 2.05s\n",
            "126:\tlearn: 2025.0189836\ttotal: 297ms\tremaining: 2.04s\n",
            "127:\tlearn: 2021.9200815\ttotal: 299ms\tremaining: 2.04s\n",
            "128:\tlearn: 2019.5114583\ttotal: 301ms\tremaining: 2.03s\n",
            "129:\tlearn: 2017.2751331\ttotal: 302ms\tremaining: 2.02s\n",
            "130:\tlearn: 2015.0969983\ttotal: 305ms\tremaining: 2.02s\n",
            "131:\tlearn: 2013.0569794\ttotal: 306ms\tremaining: 2.02s\n",
            "132:\tlearn: 2010.2906436\ttotal: 309ms\tremaining: 2.01s\n",
            "133:\tlearn: 2007.6481717\ttotal: 311ms\tremaining: 2.01s\n",
            "134:\tlearn: 2002.9492022\ttotal: 312ms\tremaining: 2s\n",
            "135:\tlearn: 2002.1875658\ttotal: 314ms\tremaining: 2s\n",
            "136:\tlearn: 1998.9796537\ttotal: 316ms\tremaining: 1.99s\n",
            "137:\tlearn: 1996.2053889\ttotal: 318ms\tremaining: 1.98s\n",
            "138:\tlearn: 1992.7798962\ttotal: 320ms\tremaining: 1.98s\n",
            "139:\tlearn: 1990.1673673\ttotal: 322ms\tremaining: 1.98s\n",
            "140:\tlearn: 1988.2813410\ttotal: 325ms\tremaining: 1.98s\n",
            "141:\tlearn: 1985.9634337\ttotal: 327ms\tremaining: 1.98s\n",
            "142:\tlearn: 1984.9852760\ttotal: 329ms\tremaining: 1.97s\n",
            "143:\tlearn: 1981.5611632\ttotal: 331ms\tremaining: 1.97s\n",
            "144:\tlearn: 1980.3403023\ttotal: 333ms\tremaining: 1.96s\n",
            "145:\tlearn: 1979.1728709\ttotal: 334ms\tremaining: 1.96s\n",
            "146:\tlearn: 1977.9352153\ttotal: 336ms\tremaining: 1.95s\n",
            "147:\tlearn: 1976.1491781\ttotal: 338ms\tremaining: 1.95s\n",
            "148:\tlearn: 1973.2055101\ttotal: 340ms\tremaining: 1.94s\n",
            "149:\tlearn: 1972.6745770\ttotal: 342ms\tremaining: 1.94s\n",
            "150:\tlearn: 1971.0950286\ttotal: 343ms\tremaining: 1.93s\n",
            "151:\tlearn: 1967.9828151\ttotal: 345ms\tremaining: 1.93s\n",
            "152:\tlearn: 1966.0746288\ttotal: 347ms\tremaining: 1.92s\n",
            "153:\tlearn: 1964.4106851\ttotal: 349ms\tremaining: 1.92s\n",
            "154:\tlearn: 1961.8503286\ttotal: 351ms\tremaining: 1.91s\n",
            "155:\tlearn: 1959.7518765\ttotal: 353ms\tremaining: 1.91s\n",
            "156:\tlearn: 1957.0720669\ttotal: 355ms\tremaining: 1.91s\n",
            "157:\tlearn: 1956.0090587\ttotal: 357ms\tremaining: 1.9s\n",
            "158:\tlearn: 1952.8394795\ttotal: 359ms\tremaining: 1.9s\n",
            "159:\tlearn: 1950.8397618\ttotal: 360ms\tremaining: 1.89s\n",
            "160:\tlearn: 1949.3290804\ttotal: 362ms\tremaining: 1.89s\n",
            "161:\tlearn: 1946.4694596\ttotal: 364ms\tremaining: 1.88s\n",
            "162:\tlearn: 1944.3492457\ttotal: 366ms\tremaining: 1.88s\n",
            "163:\tlearn: 1941.8469579\ttotal: 368ms\tremaining: 1.88s\n",
            "164:\tlearn: 1940.3896175\ttotal: 370ms\tremaining: 1.87s\n",
            "165:\tlearn: 1937.7974607\ttotal: 372ms\tremaining: 1.87s\n",
            "166:\tlearn: 1935.7148974\ttotal: 374ms\tremaining: 1.86s\n",
            "167:\tlearn: 1932.3134674\ttotal: 376ms\tremaining: 1.86s\n",
            "168:\tlearn: 1930.5614717\ttotal: 377ms\tremaining: 1.85s\n",
            "169:\tlearn: 1929.4656497\ttotal: 379ms\tremaining: 1.85s\n",
            "170:\tlearn: 1927.7647084\ttotal: 385ms\tremaining: 1.87s\n",
            "171:\tlearn: 1926.5870153\ttotal: 389ms\tremaining: 1.87s\n",
            "172:\tlearn: 1925.5010876\ttotal: 392ms\tremaining: 1.87s\n",
            "173:\tlearn: 1924.0349513\ttotal: 394ms\tremaining: 1.87s\n",
            "174:\tlearn: 1921.8799425\ttotal: 398ms\tremaining: 1.88s\n",
            "175:\tlearn: 1919.9229413\ttotal: 400ms\tremaining: 1.87s\n",
            "176:\tlearn: 1919.0135109\ttotal: 402ms\tremaining: 1.87s\n",
            "177:\tlearn: 1917.0102157\ttotal: 403ms\tremaining: 1.86s\n",
            "178:\tlearn: 1914.5686236\ttotal: 405ms\tremaining: 1.86s\n",
            "179:\tlearn: 1912.4008242\ttotal: 407ms\tremaining: 1.85s\n",
            "180:\tlearn: 1909.3596736\ttotal: 409ms\tremaining: 1.85s\n",
            "181:\tlearn: 1906.4143993\ttotal: 411ms\tremaining: 1.85s\n",
            "182:\tlearn: 1905.0535079\ttotal: 412ms\tremaining: 1.84s\n",
            "183:\tlearn: 1902.8146373\ttotal: 414ms\tremaining: 1.84s\n",
            "184:\tlearn: 1901.7193607\ttotal: 416ms\tremaining: 1.83s\n",
            "185:\tlearn: 1899.7272699\ttotal: 418ms\tremaining: 1.83s\n",
            "186:\tlearn: 1898.5304244\ttotal: 420ms\tremaining: 1.83s\n",
            "187:\tlearn: 1897.0739098\ttotal: 422ms\tremaining: 1.82s\n",
            "188:\tlearn: 1894.5016873\ttotal: 424ms\tremaining: 1.82s\n",
            "189:\tlearn: 1892.5209273\ttotal: 426ms\tremaining: 1.81s\n",
            "190:\tlearn: 1890.9588410\ttotal: 428ms\tremaining: 1.81s\n",
            "191:\tlearn: 1889.7128491\ttotal: 430ms\tremaining: 1.81s\n",
            "192:\tlearn: 1888.8885955\ttotal: 431ms\tremaining: 1.8s\n",
            "193:\tlearn: 1888.0018393\ttotal: 433ms\tremaining: 1.8s\n",
            "194:\tlearn: 1887.0114729\ttotal: 435ms\tremaining: 1.79s\n",
            "195:\tlearn: 1886.1149584\ttotal: 437ms\tremaining: 1.79s\n",
            "196:\tlearn: 1885.0633608\ttotal: 439ms\tremaining: 1.79s\n",
            "197:\tlearn: 1883.5795929\ttotal: 440ms\tremaining: 1.78s\n",
            "198:\tlearn: 1881.4375386\ttotal: 442ms\tremaining: 1.78s\n",
            "199:\tlearn: 1880.6406972\ttotal: 445ms\tremaining: 1.78s\n",
            "200:\tlearn: 1879.1601652\ttotal: 447ms\tremaining: 1.78s\n",
            "201:\tlearn: 1878.3766642\ttotal: 449ms\tremaining: 1.77s\n",
            "202:\tlearn: 1874.8103918\ttotal: 450ms\tremaining: 1.77s\n",
            "203:\tlearn: 1873.2498095\ttotal: 452ms\tremaining: 1.76s\n",
            "204:\tlearn: 1872.0468481\ttotal: 454ms\tremaining: 1.76s\n",
            "205:\tlearn: 1869.6479288\ttotal: 456ms\tremaining: 1.76s\n",
            "206:\tlearn: 1867.8143121\ttotal: 458ms\tremaining: 1.75s\n",
            "207:\tlearn: 1865.5481925\ttotal: 460ms\tremaining: 1.75s\n",
            "208:\tlearn: 1863.4857240\ttotal: 462ms\tremaining: 1.75s\n",
            "209:\tlearn: 1862.5966715\ttotal: 464ms\tremaining: 1.74s\n",
            "210:\tlearn: 1860.7174603\ttotal: 466ms\tremaining: 1.74s\n",
            "211:\tlearn: 1860.0684077\ttotal: 468ms\tremaining: 1.74s\n",
            "212:\tlearn: 1859.5940507\ttotal: 470ms\tremaining: 1.73s\n",
            "213:\tlearn: 1859.1156181\ttotal: 471ms\tremaining: 1.73s\n",
            "214:\tlearn: 1857.8917707\ttotal: 473ms\tremaining: 1.73s\n",
            "215:\tlearn: 1854.9933960\ttotal: 475ms\tremaining: 1.73s\n",
            "216:\tlearn: 1854.4600622\ttotal: 477ms\tremaining: 1.72s\n",
            "217:\tlearn: 1853.3372131\ttotal: 479ms\tremaining: 1.72s\n",
            "218:\tlearn: 1853.0739862\ttotal: 481ms\tremaining: 1.71s\n",
            "219:\tlearn: 1850.9067699\ttotal: 483ms\tremaining: 1.71s\n",
            "220:\tlearn: 1850.7403740\ttotal: 484ms\tremaining: 1.71s\n",
            "221:\tlearn: 1850.4713084\ttotal: 486ms\tremaining: 1.7s\n",
            "222:\tlearn: 1849.4055094\ttotal: 488ms\tremaining: 1.7s\n",
            "223:\tlearn: 1847.9288404\ttotal: 490ms\tremaining: 1.7s\n",
            "224:\tlearn: 1847.2381811\ttotal: 492ms\tremaining: 1.69s\n",
            "225:\tlearn: 1847.0286416\ttotal: 493ms\tremaining: 1.69s\n",
            "226:\tlearn: 1845.0009660\ttotal: 495ms\tremaining: 1.69s\n",
            "227:\tlearn: 1843.8117526\ttotal: 497ms\tremaining: 1.68s\n",
            "228:\tlearn: 1842.1997498\ttotal: 499ms\tremaining: 1.68s\n",
            "229:\tlearn: 1842.0481530\ttotal: 501ms\tremaining: 1.68s\n",
            "230:\tlearn: 1838.9875108\ttotal: 503ms\tremaining: 1.67s\n",
            "231:\tlearn: 1838.6110226\ttotal: 505ms\tremaining: 1.67s\n",
            "232:\tlearn: 1838.5035448\ttotal: 506ms\tremaining: 1.67s\n",
            "233:\tlearn: 1838.3418898\ttotal: 508ms\tremaining: 1.66s\n",
            "234:\tlearn: 1838.2935627\ttotal: 509ms\tremaining: 1.66s\n",
            "235:\tlearn: 1836.0108776\ttotal: 511ms\tremaining: 1.66s\n",
            "236:\tlearn: 1835.3309100\ttotal: 513ms\tremaining: 1.65s\n",
            "237:\tlearn: 1835.2070778\ttotal: 515ms\tremaining: 1.65s\n",
            "238:\tlearn: 1834.7763708\ttotal: 516ms\tremaining: 1.64s\n",
            "239:\tlearn: 1832.7366678\ttotal: 518ms\tremaining: 1.64s\n",
            "240:\tlearn: 1830.9012081\ttotal: 520ms\tremaining: 1.64s\n",
            "241:\tlearn: 1830.4631658\ttotal: 522ms\tremaining: 1.63s\n",
            "242:\tlearn: 1829.1049385\ttotal: 524ms\tremaining: 1.63s\n",
            "243:\tlearn: 1827.2710450\ttotal: 526ms\tremaining: 1.63s\n",
            "244:\tlearn: 1825.5558309\ttotal: 527ms\tremaining: 1.63s\n",
            "245:\tlearn: 1824.1903451\ttotal: 529ms\tremaining: 1.62s\n",
            "246:\tlearn: 1823.0245569\ttotal: 531ms\tremaining: 1.62s\n",
            "247:\tlearn: 1821.0847283\ttotal: 533ms\tremaining: 1.62s\n",
            "248:\tlearn: 1819.4291339\ttotal: 535ms\tremaining: 1.61s\n",
            "249:\tlearn: 1819.2119762\ttotal: 537ms\tremaining: 1.61s\n",
            "250:\tlearn: 1817.1321301\ttotal: 539ms\tremaining: 1.61s\n",
            "251:\tlearn: 1816.9862715\ttotal: 540ms\tremaining: 1.6s\n",
            "252:\tlearn: 1815.5547028\ttotal: 542ms\tremaining: 1.6s\n",
            "253:\tlearn: 1814.3193797\ttotal: 544ms\tremaining: 1.6s\n",
            "254:\tlearn: 1814.2021359\ttotal: 546ms\tremaining: 1.59s\n",
            "255:\tlearn: 1811.9162371\ttotal: 547ms\tremaining: 1.59s\n",
            "256:\tlearn: 1811.0476624\ttotal: 549ms\tremaining: 1.59s\n",
            "257:\tlearn: 1809.1593357\ttotal: 551ms\tremaining: 1.58s\n",
            "258:\tlearn: 1809.0449007\ttotal: 553ms\tremaining: 1.58s\n",
            "259:\tlearn: 1807.7017705\ttotal: 555ms\tremaining: 1.58s\n",
            "260:\tlearn: 1807.5599805\ttotal: 556ms\tremaining: 1.57s\n",
            "261:\tlearn: 1805.6507767\ttotal: 558ms\tremaining: 1.57s\n",
            "262:\tlearn: 1804.1716346\ttotal: 560ms\tremaining: 1.57s\n",
            "263:\tlearn: 1802.4741327\ttotal: 562ms\tremaining: 1.57s\n",
            "264:\tlearn: 1801.1570167\ttotal: 564ms\tremaining: 1.56s\n",
            "265:\tlearn: 1799.3080056\ttotal: 566ms\tremaining: 1.56s\n",
            "266:\tlearn: 1797.9374610\ttotal: 567ms\tremaining: 1.56s\n",
            "267:\tlearn: 1795.8991266\ttotal: 569ms\tremaining: 1.55s\n",
            "268:\tlearn: 1794.8340144\ttotal: 571ms\tremaining: 1.55s\n",
            "269:\tlearn: 1793.0383335\ttotal: 573ms\tremaining: 1.55s\n",
            "270:\tlearn: 1791.9696124\ttotal: 582ms\tremaining: 1.57s\n",
            "271:\tlearn: 1791.8616554\ttotal: 584ms\tremaining: 1.56s\n",
            "272:\tlearn: 1790.4101349\ttotal: 586ms\tremaining: 1.56s\n",
            "273:\tlearn: 1789.3336525\ttotal: 588ms\tremaining: 1.56s\n",
            "274:\tlearn: 1788.4952927\ttotal: 590ms\tremaining: 1.55s\n",
            "275:\tlearn: 1788.3814588\ttotal: 592ms\tremaining: 1.55s\n",
            "276:\tlearn: 1787.1186933\ttotal: 594ms\tremaining: 1.55s\n",
            "277:\tlearn: 1786.3356947\ttotal: 595ms\tremaining: 1.55s\n",
            "278:\tlearn: 1786.1526517\ttotal: 597ms\tremaining: 1.54s\n",
            "279:\tlearn: 1785.1333957\ttotal: 599ms\tremaining: 1.54s\n",
            "280:\tlearn: 1784.0076210\ttotal: 601ms\tremaining: 1.54s\n",
            "281:\tlearn: 1782.2473166\ttotal: 603ms\tremaining: 1.53s\n",
            "282:\tlearn: 1782.0317952\ttotal: 604ms\tremaining: 1.53s\n",
            "283:\tlearn: 1780.6791621\ttotal: 606ms\tremaining: 1.53s\n",
            "284:\tlearn: 1779.2290150\ttotal: 608ms\tremaining: 1.52s\n",
            "285:\tlearn: 1777.9036426\ttotal: 610ms\tremaining: 1.52s\n",
            "286:\tlearn: 1777.6957933\ttotal: 612ms\tremaining: 1.52s\n",
            "287:\tlearn: 1776.7105990\ttotal: 613ms\tremaining: 1.52s\n",
            "288:\tlearn: 1775.8126421\ttotal: 615ms\tremaining: 1.51s\n",
            "289:\tlearn: 1774.2654787\ttotal: 617ms\tremaining: 1.51s\n",
            "290:\tlearn: 1774.1291799\ttotal: 621ms\tremaining: 1.51s\n",
            "291:\tlearn: 1774.1115402\ttotal: 623ms\tremaining: 1.51s\n",
            "292:\tlearn: 1772.8847764\ttotal: 624ms\tremaining: 1.51s\n",
            "293:\tlearn: 1771.5300747\ttotal: 626ms\tremaining: 1.5s\n",
            "294:\tlearn: 1770.2390578\ttotal: 628ms\tremaining: 1.5s\n",
            "295:\tlearn: 1768.1826448\ttotal: 630ms\tremaining: 1.5s\n",
            "296:\tlearn: 1768.1512755\ttotal: 631ms\tremaining: 1.49s\n",
            "297:\tlearn: 1768.0329528\ttotal: 633ms\tremaining: 1.49s\n",
            "298:\tlearn: 1766.7744361\ttotal: 635ms\tremaining: 1.49s\n",
            "299:\tlearn: 1765.7499793\ttotal: 637ms\tremaining: 1.49s\n",
            "300:\tlearn: 1764.8336746\ttotal: 639ms\tremaining: 1.48s\n",
            "301:\tlearn: 1763.9656060\ttotal: 641ms\tremaining: 1.48s\n",
            "302:\tlearn: 1762.4680593\ttotal: 643ms\tremaining: 1.48s\n",
            "303:\tlearn: 1761.8250392\ttotal: 644ms\tremaining: 1.48s\n",
            "304:\tlearn: 1761.2274411\ttotal: 649ms\tremaining: 1.48s\n",
            "305:\tlearn: 1760.0687037\ttotal: 651ms\tremaining: 1.48s\n",
            "306:\tlearn: 1759.0731914\ttotal: 653ms\tremaining: 1.47s\n",
            "307:\tlearn: 1757.5221095\ttotal: 655ms\tremaining: 1.47s\n",
            "308:\tlearn: 1756.3239315\ttotal: 660ms\tremaining: 1.48s\n",
            "309:\tlearn: 1756.2945560\ttotal: 662ms\tremaining: 1.47s\n",
            "310:\tlearn: 1755.8744273\ttotal: 667ms\tremaining: 1.48s\n",
            "311:\tlearn: 1755.8575863\ttotal: 669ms\tremaining: 1.47s\n",
            "312:\tlearn: 1755.2556875\ttotal: 671ms\tremaining: 1.47s\n",
            "313:\tlearn: 1753.4561591\ttotal: 673ms\tremaining: 1.47s\n",
            "314:\tlearn: 1752.0728329\ttotal: 674ms\tremaining: 1.47s\n",
            "315:\tlearn: 1751.1911504\ttotal: 676ms\tremaining: 1.46s\n",
            "316:\tlearn: 1749.9997407\ttotal: 678ms\tremaining: 1.46s\n",
            "317:\tlearn: 1748.7475122\ttotal: 680ms\tremaining: 1.46s\n",
            "318:\tlearn: 1746.7967667\ttotal: 682ms\tremaining: 1.46s\n",
            "319:\tlearn: 1746.7807749\ttotal: 684ms\tremaining: 1.45s\n",
            "320:\tlearn: 1745.8532432\ttotal: 685ms\tremaining: 1.45s\n",
            "321:\tlearn: 1745.8278267\ttotal: 687ms\tremaining: 1.45s\n",
            "322:\tlearn: 1745.0431317\ttotal: 689ms\tremaining: 1.44s\n",
            "323:\tlearn: 1743.8420783\ttotal: 691ms\tremaining: 1.44s\n",
            "324:\tlearn: 1742.8932883\ttotal: 693ms\tremaining: 1.44s\n",
            "325:\tlearn: 1741.1542220\ttotal: 695ms\tremaining: 1.44s\n",
            "326:\tlearn: 1740.0014580\ttotal: 697ms\tremaining: 1.43s\n",
            "327:\tlearn: 1738.9456619\ttotal: 698ms\tremaining: 1.43s\n",
            "328:\tlearn: 1738.8634142\ttotal: 700ms\tremaining: 1.43s\n",
            "329:\tlearn: 1738.0215279\ttotal: 702ms\tremaining: 1.43s\n",
            "330:\tlearn: 1738.0045672\ttotal: 703ms\tremaining: 1.42s\n",
            "331:\tlearn: 1736.8836345\ttotal: 705ms\tremaining: 1.42s\n",
            "332:\tlearn: 1734.9438421\ttotal: 707ms\tremaining: 1.42s\n",
            "333:\tlearn: 1733.7663980\ttotal: 709ms\tremaining: 1.41s\n",
            "334:\tlearn: 1733.7502070\ttotal: 711ms\tremaining: 1.41s\n",
            "335:\tlearn: 1731.9563686\ttotal: 713ms\tremaining: 1.41s\n",
            "336:\tlearn: 1730.6458723\ttotal: 715ms\tremaining: 1.41s\n",
            "337:\tlearn: 1729.5742529\ttotal: 717ms\tremaining: 1.4s\n",
            "338:\tlearn: 1728.1147530\ttotal: 719ms\tremaining: 1.4s\n",
            "339:\tlearn: 1726.8427007\ttotal: 721ms\tremaining: 1.4s\n",
            "340:\tlearn: 1725.5289298\ttotal: 722ms\tremaining: 1.4s\n",
            "341:\tlearn: 1725.5131812\ttotal: 724ms\tremaining: 1.39s\n",
            "342:\tlearn: 1724.5684496\ttotal: 727ms\tremaining: 1.39s\n",
            "343:\tlearn: 1723.4357272\ttotal: 728ms\tremaining: 1.39s\n",
            "344:\tlearn: 1722.4498462\ttotal: 730ms\tremaining: 1.39s\n",
            "345:\tlearn: 1721.3726857\ttotal: 732ms\tremaining: 1.38s\n",
            "346:\tlearn: 1720.8368740\ttotal: 734ms\tremaining: 1.38s\n",
            "347:\tlearn: 1719.7146510\ttotal: 736ms\tremaining: 1.38s\n",
            "348:\tlearn: 1719.7013755\ttotal: 738ms\tremaining: 1.38s\n",
            "349:\tlearn: 1717.9139412\ttotal: 740ms\tremaining: 1.37s\n",
            "350:\tlearn: 1716.6319333\ttotal: 742ms\tremaining: 1.37s\n",
            "351:\tlearn: 1715.3656102\ttotal: 744ms\tremaining: 1.37s\n",
            "352:\tlearn: 1714.1619117\ttotal: 745ms\tremaining: 1.37s\n",
            "353:\tlearn: 1713.1035883\ttotal: 747ms\tremaining: 1.36s\n",
            "354:\tlearn: 1712.4061526\ttotal: 749ms\tremaining: 1.36s\n",
            "355:\tlearn: 1710.1710065\ttotal: 751ms\tremaining: 1.36s\n",
            "356:\tlearn: 1709.0674602\ttotal: 753ms\tremaining: 1.36s\n",
            "357:\tlearn: 1707.7016278\ttotal: 755ms\tremaining: 1.35s\n",
            "358:\tlearn: 1707.0025113\ttotal: 757ms\tremaining: 1.35s\n",
            "359:\tlearn: 1706.1628396\ttotal: 759ms\tremaining: 1.35s\n",
            "360:\tlearn: 1706.1471778\ttotal: 760ms\tremaining: 1.35s\n",
            "361:\tlearn: 1705.1177194\ttotal: 763ms\tremaining: 1.34s\n",
            "362:\tlearn: 1705.0967421\ttotal: 764ms\tremaining: 1.34s\n",
            "363:\tlearn: 1704.4432779\ttotal: 766ms\tremaining: 1.34s\n",
            "364:\tlearn: 1704.4307330\ttotal: 768ms\tremaining: 1.33s\n",
            "365:\tlearn: 1703.9306631\ttotal: 771ms\tremaining: 1.33s\n",
            "366:\tlearn: 1703.4921726\ttotal: 774ms\tremaining: 1.33s\n",
            "367:\tlearn: 1702.6774969\ttotal: 777ms\tremaining: 1.33s\n",
            "368:\tlearn: 1701.7522479\ttotal: 779ms\tremaining: 1.33s\n",
            "369:\tlearn: 1700.7823371\ttotal: 781ms\tremaining: 1.33s\n",
            "370:\tlearn: 1700.7676271\ttotal: 783ms\tremaining: 1.33s\n",
            "371:\tlearn: 1700.7534364\ttotal: 784ms\tremaining: 1.32s\n",
            "372:\tlearn: 1699.8759752\ttotal: 786ms\tremaining: 1.32s\n",
            "373:\tlearn: 1699.1910794\ttotal: 788ms\tremaining: 1.32s\n",
            "374:\tlearn: 1698.2520099\ttotal: 790ms\tremaining: 1.32s\n",
            "375:\tlearn: 1698.2160086\ttotal: 791ms\tremaining: 1.31s\n",
            "376:\tlearn: 1697.3944714\ttotal: 793ms\tremaining: 1.31s\n",
            "377:\tlearn: 1696.2230769\ttotal: 795ms\tremaining: 1.31s\n",
            "378:\tlearn: 1695.1074029\ttotal: 797ms\tremaining: 1.3s\n",
            "379:\tlearn: 1693.8210413\ttotal: 799ms\tremaining: 1.3s\n",
            "380:\tlearn: 1692.8050738\ttotal: 801ms\tremaining: 1.3s\n",
            "381:\tlearn: 1692.2565361\ttotal: 803ms\tremaining: 1.3s\n",
            "382:\tlearn: 1690.7293836\ttotal: 804ms\tremaining: 1.29s\n",
            "383:\tlearn: 1689.4477046\ttotal: 806ms\tremaining: 1.29s\n",
            "384:\tlearn: 1689.4345475\ttotal: 808ms\tremaining: 1.29s\n",
            "385:\tlearn: 1688.3047188\ttotal: 810ms\tremaining: 1.29s\n",
            "386:\tlearn: 1687.3647544\ttotal: 812ms\tremaining: 1.28s\n",
            "387:\tlearn: 1686.8507705\ttotal: 813ms\tremaining: 1.28s\n",
            "388:\tlearn: 1685.8128703\ttotal: 815ms\tremaining: 1.28s\n",
            "389:\tlearn: 1684.8767186\ttotal: 817ms\tremaining: 1.28s\n",
            "390:\tlearn: 1683.4689024\ttotal: 819ms\tremaining: 1.27s\n",
            "391:\tlearn: 1682.5854198\ttotal: 821ms\tremaining: 1.27s\n",
            "392:\tlearn: 1681.7591755\ttotal: 823ms\tremaining: 1.27s\n",
            "393:\tlearn: 1680.9414964\ttotal: 825ms\tremaining: 1.27s\n",
            "394:\tlearn: 1680.2388543\ttotal: 827ms\tremaining: 1.27s\n",
            "395:\tlearn: 1678.9097571\ttotal: 828ms\tremaining: 1.26s\n",
            "396:\tlearn: 1678.3900821\ttotal: 830ms\tremaining: 1.26s\n",
            "397:\tlearn: 1677.7496669\ttotal: 832ms\tremaining: 1.26s\n",
            "398:\tlearn: 1676.2792415\ttotal: 834ms\tremaining: 1.26s\n",
            "399:\tlearn: 1675.1193211\ttotal: 836ms\tremaining: 1.25s\n",
            "400:\tlearn: 1674.4968940\ttotal: 838ms\tremaining: 1.25s\n",
            "401:\tlearn: 1673.3296305\ttotal: 840ms\tremaining: 1.25s\n",
            "402:\tlearn: 1672.0425386\ttotal: 842ms\tremaining: 1.25s\n",
            "403:\tlearn: 1671.2877021\ttotal: 843ms\tremaining: 1.24s\n",
            "404:\tlearn: 1670.3984515\ttotal: 845ms\tremaining: 1.24s\n",
            "405:\tlearn: 1669.8135354\ttotal: 847ms\tremaining: 1.24s\n",
            "406:\tlearn: 1669.0710780\ttotal: 849ms\tremaining: 1.24s\n",
            "407:\tlearn: 1668.3531795\ttotal: 851ms\tremaining: 1.24s\n",
            "408:\tlearn: 1667.5861979\ttotal: 853ms\tremaining: 1.23s\n",
            "409:\tlearn: 1666.7194736\ttotal: 855ms\tremaining: 1.23s\n",
            "410:\tlearn: 1666.7067321\ttotal: 857ms\tremaining: 1.23s\n",
            "411:\tlearn: 1665.5592947\ttotal: 859ms\tremaining: 1.23s\n",
            "412:\tlearn: 1665.1062650\ttotal: 861ms\tremaining: 1.22s\n",
            "413:\tlearn: 1663.9251329\ttotal: 862ms\tremaining: 1.22s\n",
            "414:\tlearn: 1663.9129314\ttotal: 864ms\tremaining: 1.22s\n",
            "415:\tlearn: 1663.9020208\ttotal: 866ms\tremaining: 1.22s\n",
            "416:\tlearn: 1663.1137638\ttotal: 867ms\tremaining: 1.21s\n",
            "417:\tlearn: 1662.3663975\ttotal: 869ms\tremaining: 1.21s\n",
            "418:\tlearn: 1661.1257343\ttotal: 871ms\tremaining: 1.21s\n",
            "419:\tlearn: 1659.6847457\ttotal: 873ms\tremaining: 1.21s\n",
            "420:\tlearn: 1659.6733069\ttotal: 875ms\tremaining: 1.2s\n",
            "421:\tlearn: 1658.6095493\ttotal: 876ms\tremaining: 1.2s\n",
            "422:\tlearn: 1658.1486583\ttotal: 878ms\tremaining: 1.2s\n",
            "423:\tlearn: 1657.5413374\ttotal: 880ms\tremaining: 1.2s\n",
            "424:\tlearn: 1656.8117753\ttotal: 882ms\tremaining: 1.19s\n",
            "425:\tlearn: 1655.9527989\ttotal: 884ms\tremaining: 1.19s\n",
            "426:\tlearn: 1655.8936752\ttotal: 885ms\tremaining: 1.19s\n",
            "427:\tlearn: 1655.8758078\ttotal: 887ms\tremaining: 1.19s\n",
            "428:\tlearn: 1655.3914614\ttotal: 889ms\tremaining: 1.18s\n",
            "429:\tlearn: 1654.8376252\ttotal: 891ms\tremaining: 1.18s\n",
            "430:\tlearn: 1653.6113151\ttotal: 893ms\tremaining: 1.18s\n",
            "431:\tlearn: 1653.6033846\ttotal: 894ms\tremaining: 1.18s\n",
            "432:\tlearn: 1652.7640563\ttotal: 896ms\tremaining: 1.17s\n",
            "433:\tlearn: 1652.0148406\ttotal: 898ms\tremaining: 1.17s\n",
            "434:\tlearn: 1651.2424217\ttotal: 900ms\tremaining: 1.17s\n",
            "435:\tlearn: 1649.0734823\ttotal: 902ms\tremaining: 1.17s\n",
            "436:\tlearn: 1647.9706188\ttotal: 905ms\tremaining: 1.17s\n",
            "437:\tlearn: 1647.2341570\ttotal: 907ms\tremaining: 1.16s\n",
            "438:\tlearn: 1646.1877825\ttotal: 910ms\tremaining: 1.16s\n",
            "439:\tlearn: 1645.6065801\ttotal: 911ms\tremaining: 1.16s\n",
            "440:\tlearn: 1645.5965036\ttotal: 913ms\tremaining: 1.16s\n",
            "441:\tlearn: 1644.9139282\ttotal: 915ms\tremaining: 1.16s\n",
            "442:\tlearn: 1644.3556189\ttotal: 917ms\tremaining: 1.15s\n",
            "443:\tlearn: 1642.8566374\ttotal: 919ms\tremaining: 1.15s\n",
            "444:\tlearn: 1641.8977234\ttotal: 921ms\tremaining: 1.15s\n",
            "445:\tlearn: 1640.8293383\ttotal: 922ms\tremaining: 1.15s\n",
            "446:\tlearn: 1640.0284111\ttotal: 924ms\tremaining: 1.14s\n",
            "447:\tlearn: 1639.3132156\ttotal: 926ms\tremaining: 1.14s\n",
            "448:\tlearn: 1638.4922836\ttotal: 928ms\tremaining: 1.14s\n",
            "449:\tlearn: 1637.4337962\ttotal: 930ms\tremaining: 1.14s\n",
            "450:\tlearn: 1636.7014453\ttotal: 932ms\tremaining: 1.13s\n",
            "451:\tlearn: 1636.6511828\ttotal: 933ms\tremaining: 1.13s\n",
            "452:\tlearn: 1635.6233911\ttotal: 935ms\tremaining: 1.13s\n",
            "453:\tlearn: 1634.8711916\ttotal: 938ms\tremaining: 1.13s\n",
            "454:\tlearn: 1634.3861321\ttotal: 940ms\tremaining: 1.13s\n",
            "455:\tlearn: 1633.8159915\ttotal: 942ms\tremaining: 1.12s\n",
            "456:\tlearn: 1632.9515111\ttotal: 944ms\tremaining: 1.12s\n",
            "457:\tlearn: 1632.4331189\ttotal: 946ms\tremaining: 1.12s\n",
            "458:\tlearn: 1631.5349362\ttotal: 948ms\tremaining: 1.12s\n",
            "459:\tlearn: 1631.5094682\ttotal: 949ms\tremaining: 1.11s\n",
            "460:\tlearn: 1630.4003218\ttotal: 952ms\tremaining: 1.11s\n",
            "461:\tlearn: 1630.3317461\ttotal: 953ms\tremaining: 1.11s\n",
            "462:\tlearn: 1629.7476035\ttotal: 955ms\tremaining: 1.11s\n",
            "463:\tlearn: 1629.7377301\ttotal: 957ms\tremaining: 1.1s\n",
            "464:\tlearn: 1628.9469568\ttotal: 959ms\tremaining: 1.1s\n",
            "465:\tlearn: 1628.3305339\ttotal: 960ms\tremaining: 1.1s\n",
            "466:\tlearn: 1627.9622402\ttotal: 968ms\tremaining: 1.1s\n",
            "467:\tlearn: 1627.4584095\ttotal: 971ms\tremaining: 1.1s\n",
            "468:\tlearn: 1626.7201754\ttotal: 973ms\tremaining: 1.1s\n",
            "469:\tlearn: 1625.8291620\ttotal: 974ms\tremaining: 1.1s\n",
            "470:\tlearn: 1625.3143091\ttotal: 976ms\tremaining: 1.1s\n",
            "471:\tlearn: 1625.3064883\ttotal: 978ms\tremaining: 1.09s\n",
            "472:\tlearn: 1624.3604748\ttotal: 980ms\tremaining: 1.09s\n",
            "473:\tlearn: 1623.7668557\ttotal: 981ms\tremaining: 1.09s\n",
            "474:\tlearn: 1623.1358202\ttotal: 983ms\tremaining: 1.09s\n",
            "475:\tlearn: 1622.6036447\ttotal: 985ms\tremaining: 1.08s\n",
            "476:\tlearn: 1621.9977671\ttotal: 987ms\tremaining: 1.08s\n",
            "477:\tlearn: 1620.9688352\ttotal: 989ms\tremaining: 1.08s\n",
            "478:\tlearn: 1620.3699773\ttotal: 991ms\tremaining: 1.08s\n",
            "479:\tlearn: 1618.4402758\ttotal: 993ms\tremaining: 1.07s\n",
            "480:\tlearn: 1617.6914441\ttotal: 995ms\tremaining: 1.07s\n",
            "481:\tlearn: 1617.0804956\ttotal: 997ms\tremaining: 1.07s\n",
            "482:\tlearn: 1616.0611491\ttotal: 999ms\tremaining: 1.07s\n",
            "483:\tlearn: 1615.4226003\ttotal: 1s\tremaining: 1.07s\n",
            "484:\tlearn: 1614.5169660\ttotal: 1s\tremaining: 1.06s\n",
            "485:\tlearn: 1614.5109412\ttotal: 1s\tremaining: 1.06s\n",
            "486:\tlearn: 1614.0107123\ttotal: 1s\tremaining: 1.06s\n",
            "487:\tlearn: 1613.3125650\ttotal: 1.01s\tremaining: 1.06s\n",
            "488:\tlearn: 1612.5890351\ttotal: 1.01s\tremaining: 1.06s\n",
            "489:\tlearn: 1612.5821869\ttotal: 1.02s\tremaining: 1.06s\n",
            "490:\tlearn: 1611.7075721\ttotal: 1.02s\tremaining: 1.06s\n",
            "491:\tlearn: 1611.6995357\ttotal: 1.02s\tremaining: 1.05s\n",
            "492:\tlearn: 1610.9232680\ttotal: 1.02s\tremaining: 1.05s\n",
            "493:\tlearn: 1610.1337532\ttotal: 1.02s\tremaining: 1.05s\n",
            "494:\tlearn: 1609.4175330\ttotal: 1.03s\tremaining: 1.05s\n",
            "495:\tlearn: 1608.9383681\ttotal: 1.03s\tremaining: 1.04s\n",
            "496:\tlearn: 1608.2953724\ttotal: 1.03s\tremaining: 1.04s\n",
            "497:\tlearn: 1607.7858441\ttotal: 1.03s\tremaining: 1.04s\n",
            "498:\tlearn: 1607.7807148\ttotal: 1.03s\tremaining: 1.04s\n",
            "499:\tlearn: 1607.2686253\ttotal: 1.04s\tremaining: 1.04s\n",
            "500:\tlearn: 1606.8892919\ttotal: 1.04s\tremaining: 1.03s\n",
            "501:\tlearn: 1606.8843002\ttotal: 1.04s\tremaining: 1.03s\n",
            "502:\tlearn: 1606.5514718\ttotal: 1.04s\tremaining: 1.03s\n",
            "503:\tlearn: 1605.7904876\ttotal: 1.04s\tremaining: 1.03s\n",
            "504:\tlearn: 1605.7830545\ttotal: 1.04s\tremaining: 1.02s\n",
            "505:\tlearn: 1604.3440633\ttotal: 1.05s\tremaining: 1.02s\n",
            "506:\tlearn: 1603.6724544\ttotal: 1.05s\tremaining: 1.02s\n",
            "507:\tlearn: 1603.1789620\ttotal: 1.05s\tremaining: 1.02s\n",
            "508:\tlearn: 1602.5317857\ttotal: 1.05s\tremaining: 1.01s\n",
            "509:\tlearn: 1601.6360651\ttotal: 1.05s\tremaining: 1.01s\n",
            "510:\tlearn: 1601.1168584\ttotal: 1.06s\tremaining: 1.01s\n",
            "511:\tlearn: 1600.1409990\ttotal: 1.06s\tremaining: 1.01s\n",
            "512:\tlearn: 1598.8076771\ttotal: 1.06s\tremaining: 1.01s\n",
            "513:\tlearn: 1598.1491184\ttotal: 1.06s\tremaining: 1s\n",
            "514:\tlearn: 1597.8626225\ttotal: 1.06s\tremaining: 1s\n",
            "515:\tlearn: 1597.6143825\ttotal: 1.06s\tremaining: 999ms\n",
            "516:\tlearn: 1596.4662235\ttotal: 1.07s\tremaining: 997ms\n",
            "517:\tlearn: 1595.7400145\ttotal: 1.07s\tremaining: 995ms\n",
            "518:\tlearn: 1595.0085465\ttotal: 1.07s\tremaining: 993ms\n",
            "519:\tlearn: 1594.2497150\ttotal: 1.07s\tremaining: 990ms\n",
            "520:\tlearn: 1594.2395205\ttotal: 1.07s\tremaining: 988ms\n",
            "521:\tlearn: 1594.2342023\ttotal: 1.07s\tremaining: 985ms\n",
            "522:\tlearn: 1593.7343689\ttotal: 1.08s\tremaining: 983ms\n",
            "523:\tlearn: 1593.2990136\ttotal: 1.08s\tremaining: 981ms\n",
            "524:\tlearn: 1593.2937802\ttotal: 1.08s\tremaining: 978ms\n",
            "525:\tlearn: 1592.4805278\ttotal: 1.08s\tremaining: 976ms\n",
            "526:\tlearn: 1591.3318756\ttotal: 1.08s\tremaining: 974ms\n",
            "527:\tlearn: 1590.7243695\ttotal: 1.09s\tremaining: 972ms\n",
            "528:\tlearn: 1590.6774548\ttotal: 1.09s\tremaining: 969ms\n",
            "529:\tlearn: 1590.2788358\ttotal: 1.09s\tremaining: 967ms\n",
            "530:\tlearn: 1589.4259231\ttotal: 1.09s\tremaining: 965ms\n",
            "531:\tlearn: 1588.7541581\ttotal: 1.09s\tremaining: 963ms\n",
            "532:\tlearn: 1588.7451407\ttotal: 1.09s\tremaining: 960ms\n",
            "533:\tlearn: 1588.1264081\ttotal: 1.1s\tremaining: 958ms\n",
            "534:\tlearn: 1587.4387665\ttotal: 1.1s\tremaining: 956ms\n",
            "535:\tlearn: 1586.7819922\ttotal: 1.1s\tremaining: 954ms\n",
            "536:\tlearn: 1585.9054589\ttotal: 1.1s\tremaining: 951ms\n",
            "537:\tlearn: 1585.1963465\ttotal: 1.1s\tremaining: 949ms\n",
            "538:\tlearn: 1584.4392699\ttotal: 1.11s\tremaining: 947ms\n",
            "539:\tlearn: 1583.7659773\ttotal: 1.11s\tremaining: 945ms\n",
            "540:\tlearn: 1583.0103901\ttotal: 1.11s\tremaining: 943ms\n",
            "541:\tlearn: 1583.0039170\ttotal: 1.11s\tremaining: 940ms\n",
            "542:\tlearn: 1582.7022752\ttotal: 1.11s\tremaining: 938ms\n",
            "543:\tlearn: 1582.0544539\ttotal: 1.12s\tremaining: 936ms\n",
            "544:\tlearn: 1581.7594818\ttotal: 1.12s\tremaining: 934ms\n",
            "545:\tlearn: 1581.3736958\ttotal: 1.12s\tremaining: 931ms\n",
            "546:\tlearn: 1580.7595848\ttotal: 1.12s\tremaining: 929ms\n",
            "547:\tlearn: 1580.2740085\ttotal: 1.12s\tremaining: 927ms\n",
            "548:\tlearn: 1578.8193755\ttotal: 1.13s\tremaining: 925ms\n",
            "549:\tlearn: 1578.6005630\ttotal: 1.13s\tremaining: 922ms\n",
            "550:\tlearn: 1578.5453546\ttotal: 1.13s\tremaining: 920ms\n",
            "551:\tlearn: 1578.1050902\ttotal: 1.13s\tremaining: 918ms\n",
            "552:\tlearn: 1577.7904733\ttotal: 1.13s\tremaining: 916ms\n",
            "553:\tlearn: 1577.0619164\ttotal: 1.14s\tremaining: 915ms\n",
            "554:\tlearn: 1576.3576558\ttotal: 1.14s\tremaining: 913ms\n",
            "555:\tlearn: 1575.6724075\ttotal: 1.14s\tremaining: 911ms\n",
            "556:\tlearn: 1575.2110090\ttotal: 1.14s\tremaining: 909ms\n",
            "557:\tlearn: 1574.5653154\ttotal: 1.14s\tremaining: 907ms\n",
            "558:\tlearn: 1573.1757996\ttotal: 1.15s\tremaining: 905ms\n",
            "559:\tlearn: 1572.6625118\ttotal: 1.15s\tremaining: 903ms\n",
            "560:\tlearn: 1571.8757508\ttotal: 1.15s\tremaining: 900ms\n",
            "561:\tlearn: 1571.2519723\ttotal: 1.15s\tremaining: 898ms\n",
            "562:\tlearn: 1570.6796646\ttotal: 1.15s\tremaining: 896ms\n",
            "563:\tlearn: 1570.1033613\ttotal: 1.16s\tremaining: 895ms\n",
            "564:\tlearn: 1568.9160185\ttotal: 1.16s\tremaining: 894ms\n",
            "565:\tlearn: 1568.5164751\ttotal: 1.16s\tremaining: 893ms\n",
            "566:\tlearn: 1567.9060385\ttotal: 1.17s\tremaining: 890ms\n",
            "567:\tlearn: 1567.4387661\ttotal: 1.17s\tremaining: 888ms\n",
            "568:\tlearn: 1567.0882239\ttotal: 1.17s\tremaining: 886ms\n",
            "569:\tlearn: 1566.3842950\ttotal: 1.17s\tremaining: 884ms\n",
            "570:\tlearn: 1565.4953245\ttotal: 1.17s\tremaining: 882ms\n",
            "571:\tlearn: 1564.3934508\ttotal: 1.18s\tremaining: 879ms\n",
            "572:\tlearn: 1563.5748092\ttotal: 1.18s\tremaining: 877ms\n",
            "573:\tlearn: 1562.6186216\ttotal: 1.18s\tremaining: 875ms\n",
            "574:\tlearn: 1562.3513167\ttotal: 1.18s\tremaining: 873ms\n",
            "575:\tlearn: 1561.5528548\ttotal: 1.18s\tremaining: 871ms\n",
            "576:\tlearn: 1560.7614094\ttotal: 1.18s\tremaining: 869ms\n",
            "577:\tlearn: 1560.0601166\ttotal: 1.19s\tremaining: 867ms\n",
            "578:\tlearn: 1559.2250822\ttotal: 1.19s\tremaining: 864ms\n",
            "579:\tlearn: 1558.3712240\ttotal: 1.19s\tremaining: 862ms\n",
            "580:\tlearn: 1558.3670241\ttotal: 1.19s\tremaining: 860ms\n",
            "581:\tlearn: 1557.7630464\ttotal: 1.19s\tremaining: 858ms\n",
            "582:\tlearn: 1557.1411342\ttotal: 1.2s\tremaining: 856ms\n",
            "583:\tlearn: 1556.5069356\ttotal: 1.2s\tremaining: 853ms\n",
            "584:\tlearn: 1556.0852295\ttotal: 1.2s\tremaining: 851ms\n",
            "585:\tlearn: 1555.9384033\ttotal: 1.2s\tremaining: 849ms\n",
            "586:\tlearn: 1555.4244309\ttotal: 1.2s\tremaining: 847ms\n",
            "587:\tlearn: 1554.9536885\ttotal: 1.21s\tremaining: 845ms\n",
            "588:\tlearn: 1554.5506445\ttotal: 1.21s\tremaining: 842ms\n",
            "589:\tlearn: 1553.7435996\ttotal: 1.21s\tremaining: 840ms\n",
            "590:\tlearn: 1553.1555125\ttotal: 1.21s\tremaining: 838ms\n",
            "591:\tlearn: 1552.7449043\ttotal: 1.21s\tremaining: 836ms\n",
            "592:\tlearn: 1552.5474571\ttotal: 1.21s\tremaining: 834ms\n",
            "593:\tlearn: 1551.9465083\ttotal: 1.22s\tremaining: 831ms\n",
            "594:\tlearn: 1551.9413036\ttotal: 1.22s\tremaining: 829ms\n",
            "595:\tlearn: 1551.2965977\ttotal: 1.22s\tremaining: 827ms\n",
            "596:\tlearn: 1550.7403946\ttotal: 1.22s\tremaining: 825ms\n",
            "597:\tlearn: 1550.1027460\ttotal: 1.22s\tremaining: 823ms\n",
            "598:\tlearn: 1550.0974462\ttotal: 1.23s\tremaining: 820ms\n",
            "599:\tlearn: 1549.4200649\ttotal: 1.23s\tremaining: 818ms\n",
            "600:\tlearn: 1548.9302156\ttotal: 1.23s\tremaining: 816ms\n",
            "601:\tlearn: 1548.5106045\ttotal: 1.23s\tremaining: 814ms\n",
            "602:\tlearn: 1548.2659990\ttotal: 1.23s\tremaining: 812ms\n",
            "603:\tlearn: 1547.9753359\ttotal: 1.23s\tremaining: 809ms\n",
            "604:\tlearn: 1547.0668429\ttotal: 1.24s\tremaining: 807ms\n",
            "605:\tlearn: 1546.7331903\ttotal: 1.24s\tremaining: 805ms\n",
            "606:\tlearn: 1546.2364320\ttotal: 1.24s\tremaining: 803ms\n",
            "607:\tlearn: 1544.9458626\ttotal: 1.24s\tremaining: 801ms\n",
            "608:\tlearn: 1544.1553853\ttotal: 1.24s\tremaining: 798ms\n",
            "609:\tlearn: 1543.5227193\ttotal: 1.25s\tremaining: 796ms\n",
            "610:\tlearn: 1543.1574970\ttotal: 1.25s\tremaining: 794ms\n",
            "611:\tlearn: 1542.4043828\ttotal: 1.25s\tremaining: 792ms\n",
            "612:\tlearn: 1542.4010298\ttotal: 1.25s\tremaining: 789ms\n",
            "613:\tlearn: 1542.0254656\ttotal: 1.25s\tremaining: 787ms\n",
            "614:\tlearn: 1542.0142688\ttotal: 1.25s\tremaining: 785ms\n",
            "615:\tlearn: 1541.2754754\ttotal: 1.25s\tremaining: 783ms\n",
            "616:\tlearn: 1540.7228919\ttotal: 1.26s\tremaining: 781ms\n",
            "617:\tlearn: 1540.0521529\ttotal: 1.26s\tremaining: 778ms\n",
            "618:\tlearn: 1539.2152924\ttotal: 1.26s\tremaining: 776ms\n",
            "619:\tlearn: 1538.7370095\ttotal: 1.26s\tremaining: 774ms\n",
            "620:\tlearn: 1537.7788906\ttotal: 1.26s\tremaining: 772ms\n",
            "621:\tlearn: 1537.2246212\ttotal: 1.27s\tremaining: 770ms\n",
            "622:\tlearn: 1536.7143343\ttotal: 1.27s\tremaining: 768ms\n",
            "623:\tlearn: 1536.7094272\ttotal: 1.27s\tremaining: 765ms\n",
            "624:\tlearn: 1536.3869153\ttotal: 1.27s\tremaining: 763ms\n",
            "625:\tlearn: 1536.3574037\ttotal: 1.27s\tremaining: 761ms\n",
            "626:\tlearn: 1535.8215118\ttotal: 1.27s\tremaining: 759ms\n",
            "627:\tlearn: 1535.2411121\ttotal: 1.28s\tremaining: 757ms\n",
            "628:\tlearn: 1535.2380104\ttotal: 1.28s\tremaining: 754ms\n",
            "629:\tlearn: 1534.6060462\ttotal: 1.28s\tremaining: 752ms\n",
            "630:\tlearn: 1534.1998505\ttotal: 1.28s\tremaining: 751ms\n",
            "631:\tlearn: 1533.6898229\ttotal: 1.29s\tremaining: 749ms\n",
            "632:\tlearn: 1533.0626316\ttotal: 1.29s\tremaining: 748ms\n",
            "633:\tlearn: 1532.5284708\ttotal: 1.29s\tremaining: 746ms\n",
            "634:\tlearn: 1531.9967798\ttotal: 1.29s\tremaining: 744ms\n",
            "635:\tlearn: 1531.7112832\ttotal: 1.3s\tremaining: 743ms\n",
            "636:\tlearn: 1531.3901547\ttotal: 1.3s\tremaining: 741ms\n",
            "637:\tlearn: 1530.7413788\ttotal: 1.3s\tremaining: 741ms\n",
            "638:\tlearn: 1530.1317663\ttotal: 1.31s\tremaining: 739ms\n",
            "639:\tlearn: 1529.6674057\ttotal: 1.31s\tremaining: 737ms\n",
            "640:\tlearn: 1529.5797087\ttotal: 1.31s\tremaining: 735ms\n",
            "641:\tlearn: 1529.3125262\ttotal: 1.31s\tremaining: 733ms\n",
            "642:\tlearn: 1528.4290349\ttotal: 1.32s\tremaining: 731ms\n",
            "643:\tlearn: 1527.7665498\ttotal: 1.32s\tremaining: 729ms\n",
            "644:\tlearn: 1527.4089215\ttotal: 1.32s\tremaining: 727ms\n",
            "645:\tlearn: 1526.7499370\ttotal: 1.32s\tremaining: 725ms\n",
            "646:\tlearn: 1526.3467652\ttotal: 1.33s\tremaining: 723ms\n",
            "647:\tlearn: 1526.3267501\ttotal: 1.33s\tremaining: 721ms\n",
            "648:\tlearn: 1525.9131676\ttotal: 1.33s\tremaining: 719ms\n",
            "649:\tlearn: 1525.6620120\ttotal: 1.33s\tremaining: 717ms\n",
            "650:\tlearn: 1525.6590803\ttotal: 1.33s\tremaining: 715ms\n",
            "651:\tlearn: 1524.8513039\ttotal: 1.34s\tremaining: 718ms\n",
            "652:\tlearn: 1524.5334338\ttotal: 1.36s\tremaining: 721ms\n",
            "653:\tlearn: 1524.5301906\ttotal: 1.36s\tremaining: 723ms\n",
            "654:\tlearn: 1524.5271545\ttotal: 1.37s\tremaining: 721ms\n",
            "655:\tlearn: 1523.9203047\ttotal: 1.37s\tremaining: 721ms\n",
            "656:\tlearn: 1522.9386881\ttotal: 1.38s\tremaining: 721ms\n",
            "657:\tlearn: 1522.5753418\ttotal: 1.39s\tremaining: 721ms\n",
            "658:\tlearn: 1522.2894435\ttotal: 1.39s\tremaining: 720ms\n",
            "659:\tlearn: 1521.9275188\ttotal: 1.39s\tremaining: 718ms\n",
            "660:\tlearn: 1521.4955870\ttotal: 1.4s\tremaining: 716ms\n",
            "661:\tlearn: 1520.7148004\ttotal: 1.4s\tremaining: 714ms\n",
            "662:\tlearn: 1519.9998460\ttotal: 1.4s\tremaining: 712ms\n",
            "663:\tlearn: 1519.7088348\ttotal: 1.4s\tremaining: 710ms\n",
            "664:\tlearn: 1519.0729125\ttotal: 1.41s\tremaining: 708ms\n",
            "665:\tlearn: 1518.7245451\ttotal: 1.41s\tremaining: 707ms\n",
            "666:\tlearn: 1518.3028210\ttotal: 1.41s\tremaining: 705ms\n",
            "667:\tlearn: 1517.8963755\ttotal: 1.41s\tremaining: 702ms\n",
            "668:\tlearn: 1517.2885171\ttotal: 1.42s\tremaining: 701ms\n",
            "669:\tlearn: 1516.9046846\ttotal: 1.42s\tremaining: 698ms\n",
            "670:\tlearn: 1516.5022226\ttotal: 1.42s\tremaining: 697ms\n",
            "671:\tlearn: 1515.9625154\ttotal: 1.42s\tremaining: 695ms\n",
            "672:\tlearn: 1515.3536848\ttotal: 1.43s\tremaining: 693ms\n",
            "673:\tlearn: 1515.0966709\ttotal: 1.43s\tremaining: 691ms\n",
            "674:\tlearn: 1514.9806153\ttotal: 1.43s\tremaining: 688ms\n",
            "675:\tlearn: 1514.4884471\ttotal: 1.43s\tremaining: 687ms\n",
            "676:\tlearn: 1514.1330009\ttotal: 1.43s\tremaining: 684ms\n",
            "677:\tlearn: 1513.8630534\ttotal: 1.44s\tremaining: 682ms\n",
            "678:\tlearn: 1513.2397942\ttotal: 1.44s\tremaining: 680ms\n",
            "679:\tlearn: 1512.9611693\ttotal: 1.44s\tremaining: 678ms\n",
            "680:\tlearn: 1512.9582960\ttotal: 1.44s\tremaining: 676ms\n",
            "681:\tlearn: 1512.9537739\ttotal: 1.44s\tremaining: 674ms\n",
            "682:\tlearn: 1512.6098269\ttotal: 1.45s\tremaining: 673ms\n",
            "683:\tlearn: 1512.3345003\ttotal: 1.45s\tremaining: 671ms\n",
            "684:\tlearn: 1511.4072115\ttotal: 1.46s\tremaining: 671ms\n",
            "685:\tlearn: 1510.8253731\ttotal: 1.46s\tremaining: 670ms\n",
            "686:\tlearn: 1510.0110239\ttotal: 1.47s\tremaining: 670ms\n",
            "687:\tlearn: 1509.5392213\ttotal: 1.48s\tremaining: 669ms\n",
            "688:\tlearn: 1508.9889445\ttotal: 1.48s\tremaining: 669ms\n",
            "689:\tlearn: 1508.5729999\ttotal: 1.49s\tremaining: 668ms\n",
            "690:\tlearn: 1508.2083591\ttotal: 1.49s\tremaining: 667ms\n",
            "691:\tlearn: 1508.2039384\ttotal: 1.5s\tremaining: 666ms\n",
            "692:\tlearn: 1507.6940263\ttotal: 1.5s\tremaining: 665ms\n",
            "693:\tlearn: 1507.6896705\ttotal: 1.51s\tremaining: 664ms\n",
            "694:\tlearn: 1507.2664677\ttotal: 1.51s\tremaining: 664ms\n",
            "695:\tlearn: 1506.7337350\ttotal: 1.52s\tremaining: 663ms\n",
            "696:\tlearn: 1506.0049773\ttotal: 1.52s\tremaining: 662ms\n",
            "697:\tlearn: 1505.8498603\ttotal: 1.53s\tremaining: 662ms\n",
            "698:\tlearn: 1505.1210197\ttotal: 1.54s\tremaining: 662ms\n",
            "699:\tlearn: 1504.8431871\ttotal: 1.54s\tremaining: 661ms\n",
            "700:\tlearn: 1504.0961695\ttotal: 1.55s\tremaining: 661ms\n",
            "701:\tlearn: 1503.6307857\ttotal: 1.55s\tremaining: 659ms\n",
            "702:\tlearn: 1503.4967588\ttotal: 1.56s\tremaining: 659ms\n",
            "703:\tlearn: 1503.0202683\ttotal: 1.56s\tremaining: 658ms\n",
            "704:\tlearn: 1502.5236424\ttotal: 1.57s\tremaining: 657ms\n",
            "705:\tlearn: 1501.7091477\ttotal: 1.58s\tremaining: 658ms\n",
            "706:\tlearn: 1501.2245641\ttotal: 1.58s\tremaining: 657ms\n",
            "707:\tlearn: 1500.9280075\ttotal: 1.59s\tremaining: 656ms\n",
            "708:\tlearn: 1500.6968915\ttotal: 1.59s\tremaining: 655ms\n",
            "709:\tlearn: 1500.1111378\ttotal: 1.6s\tremaining: 653ms\n",
            "710:\tlearn: 1498.9263314\ttotal: 1.6s\tremaining: 651ms\n",
            "711:\tlearn: 1498.5003139\ttotal: 1.6s\tremaining: 649ms\n",
            "712:\tlearn: 1498.1782580\ttotal: 1.6s\tremaining: 646ms\n",
            "713:\tlearn: 1497.8717321\ttotal: 1.61s\tremaining: 644ms\n",
            "714:\tlearn: 1497.3174835\ttotal: 1.61s\tremaining: 642ms\n",
            "715:\tlearn: 1496.5960033\ttotal: 1.61s\tremaining: 639ms\n",
            "716:\tlearn: 1496.3579503\ttotal: 1.61s\tremaining: 637ms\n",
            "717:\tlearn: 1495.9380334\ttotal: 1.61s\tremaining: 634ms\n",
            "718:\tlearn: 1495.6767789\ttotal: 1.62s\tremaining: 632ms\n",
            "719:\tlearn: 1494.9828119\ttotal: 1.62s\tremaining: 630ms\n",
            "720:\tlearn: 1494.6367972\ttotal: 1.62s\tremaining: 627ms\n",
            "721:\tlearn: 1493.9308821\ttotal: 1.62s\tremaining: 625ms\n",
            "722:\tlearn: 1493.4155117\ttotal: 1.63s\tremaining: 623ms\n",
            "723:\tlearn: 1492.8999298\ttotal: 1.63s\tremaining: 620ms\n",
            "724:\tlearn: 1492.5529815\ttotal: 1.63s\tremaining: 618ms\n",
            "725:\tlearn: 1492.5503532\ttotal: 1.63s\tremaining: 615ms\n",
            "726:\tlearn: 1491.9711517\ttotal: 1.63s\tremaining: 613ms\n",
            "727:\tlearn: 1491.7256780\ttotal: 1.63s\tremaining: 610ms\n",
            "728:\tlearn: 1491.2995945\ttotal: 1.64s\tremaining: 608ms\n",
            "729:\tlearn: 1490.7823761\ttotal: 1.64s\tremaining: 606ms\n",
            "730:\tlearn: 1490.6915808\ttotal: 1.64s\tremaining: 604ms\n",
            "731:\tlearn: 1490.2825795\ttotal: 1.64s\tremaining: 601ms\n",
            "732:\tlearn: 1489.8096143\ttotal: 1.64s\tremaining: 599ms\n",
            "733:\tlearn: 1489.0787327\ttotal: 1.65s\tremaining: 597ms\n",
            "734:\tlearn: 1488.6848412\ttotal: 1.65s\tremaining: 594ms\n",
            "735:\tlearn: 1488.2467965\ttotal: 1.65s\tremaining: 592ms\n",
            "736:\tlearn: 1487.7673546\ttotal: 1.65s\tremaining: 590ms\n",
            "737:\tlearn: 1487.2625927\ttotal: 1.65s\tremaining: 587ms\n",
            "738:\tlearn: 1487.0717932\ttotal: 1.66s\tremaining: 585ms\n",
            "739:\tlearn: 1486.6336424\ttotal: 1.66s\tremaining: 582ms\n",
            "740:\tlearn: 1486.6297844\ttotal: 1.66s\tremaining: 580ms\n",
            "741:\tlearn: 1486.2286436\ttotal: 1.66s\tremaining: 578ms\n",
            "742:\tlearn: 1485.6756219\ttotal: 1.66s\tremaining: 575ms\n",
            "743:\tlearn: 1485.0652870\ttotal: 1.67s\tremaining: 573ms\n",
            "744:\tlearn: 1484.2598052\ttotal: 1.67s\tremaining: 571ms\n",
            "745:\tlearn: 1483.2192624\ttotal: 1.67s\tremaining: 568ms\n",
            "746:\tlearn: 1483.1848552\ttotal: 1.67s\tremaining: 566ms\n",
            "747:\tlearn: 1482.7831431\ttotal: 1.67s\tremaining: 563ms\n",
            "748:\tlearn: 1482.4419482\ttotal: 1.67s\tremaining: 561ms\n",
            "749:\tlearn: 1482.4395726\ttotal: 1.68s\tremaining: 559ms\n",
            "750:\tlearn: 1482.1383432\ttotal: 1.68s\tremaining: 556ms\n",
            "751:\tlearn: 1481.6705720\ttotal: 1.68s\tremaining: 554ms\n",
            "752:\tlearn: 1481.4897376\ttotal: 1.68s\tremaining: 552ms\n",
            "753:\tlearn: 1480.6698025\ttotal: 1.68s\tremaining: 549ms\n",
            "754:\tlearn: 1480.1352485\ttotal: 1.69s\tremaining: 547ms\n",
            "755:\tlearn: 1479.4421895\ttotal: 1.69s\tremaining: 545ms\n",
            "756:\tlearn: 1479.0443118\ttotal: 1.69s\tremaining: 542ms\n",
            "757:\tlearn: 1478.5472154\ttotal: 1.69s\tremaining: 540ms\n",
            "758:\tlearn: 1478.2617329\ttotal: 1.69s\tremaining: 538ms\n",
            "759:\tlearn: 1478.0570969\ttotal: 1.69s\tremaining: 535ms\n",
            "760:\tlearn: 1477.6051465\ttotal: 1.7s\tremaining: 533ms\n",
            "761:\tlearn: 1477.1409845\ttotal: 1.7s\tremaining: 530ms\n",
            "762:\tlearn: 1477.1366944\ttotal: 1.7s\tremaining: 528ms\n",
            "763:\tlearn: 1477.1338892\ttotal: 1.7s\tremaining: 526ms\n",
            "764:\tlearn: 1476.9078288\ttotal: 1.7s\tremaining: 523ms\n",
            "765:\tlearn: 1476.5919388\ttotal: 1.7s\tremaining: 521ms\n",
            "766:\tlearn: 1476.5171377\ttotal: 1.71s\tremaining: 518ms\n",
            "767:\tlearn: 1476.3300476\ttotal: 1.71s\tremaining: 516ms\n",
            "768:\tlearn: 1475.6407964\ttotal: 1.71s\tremaining: 514ms\n",
            "769:\tlearn: 1475.1979300\ttotal: 1.71s\tremaining: 511ms\n",
            "770:\tlearn: 1474.6973566\ttotal: 1.72s\tremaining: 511ms\n",
            "771:\tlearn: 1474.1779198\ttotal: 1.72s\tremaining: 508ms\n",
            "772:\tlearn: 1473.6828310\ttotal: 1.72s\tremaining: 506ms\n",
            "773:\tlearn: 1473.6801323\ttotal: 1.72s\tremaining: 504ms\n",
            "774:\tlearn: 1473.1537735\ttotal: 1.73s\tremaining: 501ms\n",
            "775:\tlearn: 1472.9480038\ttotal: 1.73s\tremaining: 499ms\n",
            "776:\tlearn: 1472.2181126\ttotal: 1.73s\tremaining: 497ms\n",
            "777:\tlearn: 1471.7818301\ttotal: 1.73s\tremaining: 494ms\n",
            "778:\tlearn: 1471.3164175\ttotal: 1.73s\tremaining: 492ms\n",
            "779:\tlearn: 1471.3137378\ttotal: 1.74s\tremaining: 490ms\n",
            "780:\tlearn: 1470.9590602\ttotal: 1.74s\tremaining: 487ms\n",
            "781:\tlearn: 1470.4539331\ttotal: 1.74s\tremaining: 485ms\n",
            "782:\tlearn: 1470.1037079\ttotal: 1.74s\tremaining: 483ms\n",
            "783:\tlearn: 1469.1716415\ttotal: 1.74s\tremaining: 480ms\n",
            "784:\tlearn: 1468.9403614\ttotal: 1.75s\tremaining: 478ms\n",
            "785:\tlearn: 1468.9365348\ttotal: 1.75s\tremaining: 476ms\n",
            "786:\tlearn: 1468.8198865\ttotal: 1.75s\tremaining: 473ms\n",
            "787:\tlearn: 1468.2589813\ttotal: 1.75s\tremaining: 471ms\n",
            "788:\tlearn: 1467.7694094\ttotal: 1.75s\tremaining: 469ms\n",
            "789:\tlearn: 1467.2378348\ttotal: 1.75s\tremaining: 466ms\n",
            "790:\tlearn: 1466.6867476\ttotal: 1.76s\tremaining: 464ms\n",
            "791:\tlearn: 1466.4481266\ttotal: 1.76s\tremaining: 462ms\n",
            "792:\tlearn: 1466.0195469\ttotal: 1.76s\tremaining: 460ms\n",
            "793:\tlearn: 1466.0162516\ttotal: 1.76s\tremaining: 457ms\n",
            "794:\tlearn: 1466.0121060\ttotal: 1.76s\tremaining: 455ms\n",
            "795:\tlearn: 1465.7921216\ttotal: 1.76s\tremaining: 452ms\n",
            "796:\tlearn: 1465.3405539\ttotal: 1.77s\tremaining: 450ms\n",
            "797:\tlearn: 1464.9464200\ttotal: 1.77s\tremaining: 448ms\n",
            "798:\tlearn: 1464.4432390\ttotal: 1.77s\tremaining: 446ms\n",
            "799:\tlearn: 1464.4407305\ttotal: 1.77s\tremaining: 443ms\n",
            "800:\tlearn: 1464.1203185\ttotal: 1.77s\tremaining: 441ms\n",
            "801:\tlearn: 1463.7842593\ttotal: 1.78s\tremaining: 439ms\n",
            "802:\tlearn: 1463.4886130\ttotal: 1.78s\tremaining: 436ms\n",
            "803:\tlearn: 1463.2387683\ttotal: 1.78s\tremaining: 434ms\n",
            "804:\tlearn: 1462.8313578\ttotal: 1.78s\tremaining: 432ms\n",
            "805:\tlearn: 1462.6017868\ttotal: 1.78s\tremaining: 430ms\n",
            "806:\tlearn: 1462.4316515\ttotal: 1.79s\tremaining: 427ms\n",
            "807:\tlearn: 1461.8332496\ttotal: 1.79s\tremaining: 425ms\n",
            "808:\tlearn: 1461.6465642\ttotal: 1.79s\tremaining: 423ms\n",
            "809:\tlearn: 1461.4781258\ttotal: 1.79s\tremaining: 420ms\n",
            "810:\tlearn: 1461.1209006\ttotal: 1.79s\tremaining: 418ms\n",
            "811:\tlearn: 1460.7002941\ttotal: 1.79s\tremaining: 416ms\n",
            "812:\tlearn: 1460.3450874\ttotal: 1.8s\tremaining: 413ms\n",
            "813:\tlearn: 1459.8216877\ttotal: 1.8s\tremaining: 411ms\n",
            "814:\tlearn: 1459.2279638\ttotal: 1.8s\tremaining: 409ms\n",
            "815:\tlearn: 1458.8274393\ttotal: 1.8s\tremaining: 407ms\n",
            "816:\tlearn: 1458.6059761\ttotal: 1.81s\tremaining: 405ms\n",
            "817:\tlearn: 1458.6040278\ttotal: 1.81s\tremaining: 403ms\n",
            "818:\tlearn: 1458.6003278\ttotal: 1.81s\tremaining: 401ms\n",
            "819:\tlearn: 1457.5833269\ttotal: 1.81s\tremaining: 398ms\n",
            "820:\tlearn: 1457.3004243\ttotal: 1.81s\tremaining: 396ms\n",
            "821:\tlearn: 1456.8507487\ttotal: 1.82s\tremaining: 394ms\n",
            "822:\tlearn: 1456.3956979\ttotal: 1.82s\tremaining: 391ms\n",
            "823:\tlearn: 1455.6548069\ttotal: 1.82s\tremaining: 389ms\n",
            "824:\tlearn: 1455.1132909\ttotal: 1.82s\tremaining: 387ms\n",
            "825:\tlearn: 1454.7832722\ttotal: 1.82s\tremaining: 384ms\n",
            "826:\tlearn: 1454.3364815\ttotal: 1.83s\tremaining: 382ms\n",
            "827:\tlearn: 1454.1236436\ttotal: 1.83s\tremaining: 380ms\n",
            "828:\tlearn: 1453.7228184\ttotal: 1.83s\tremaining: 378ms\n",
            "829:\tlearn: 1453.0717926\ttotal: 1.83s\tremaining: 375ms\n",
            "830:\tlearn: 1452.7422563\ttotal: 1.83s\tremaining: 373ms\n",
            "831:\tlearn: 1452.3497423\ttotal: 1.83s\tremaining: 371ms\n",
            "832:\tlearn: 1452.1931281\ttotal: 1.84s\tremaining: 368ms\n",
            "833:\tlearn: 1452.0197826\ttotal: 1.84s\tremaining: 366ms\n",
            "834:\tlearn: 1451.4269733\ttotal: 1.84s\tremaining: 364ms\n",
            "835:\tlearn: 1450.9282979\ttotal: 1.84s\tremaining: 362ms\n",
            "836:\tlearn: 1450.5972084\ttotal: 1.84s\tremaining: 359ms\n",
            "837:\tlearn: 1450.2966790\ttotal: 1.85s\tremaining: 357ms\n",
            "838:\tlearn: 1449.8151599\ttotal: 1.85s\tremaining: 355ms\n",
            "839:\tlearn: 1449.4885714\ttotal: 1.85s\tremaining: 353ms\n",
            "840:\tlearn: 1449.1391264\ttotal: 1.85s\tremaining: 350ms\n",
            "841:\tlearn: 1448.8283664\ttotal: 1.85s\tremaining: 348ms\n",
            "842:\tlearn: 1448.5122232\ttotal: 1.86s\tremaining: 346ms\n",
            "843:\tlearn: 1448.2571920\ttotal: 1.86s\tremaining: 344ms\n",
            "844:\tlearn: 1447.9988625\ttotal: 1.86s\tremaining: 341ms\n",
            "845:\tlearn: 1447.7810335\ttotal: 1.86s\tremaining: 339ms\n",
            "846:\tlearn: 1447.5391797\ttotal: 1.86s\tremaining: 337ms\n",
            "847:\tlearn: 1447.2654195\ttotal: 1.87s\tremaining: 335ms\n",
            "848:\tlearn: 1446.9389959\ttotal: 1.87s\tremaining: 332ms\n",
            "849:\tlearn: 1446.5716172\ttotal: 1.87s\tremaining: 330ms\n",
            "850:\tlearn: 1446.3622722\ttotal: 1.87s\tremaining: 328ms\n",
            "851:\tlearn: 1446.3583204\ttotal: 1.87s\tremaining: 325ms\n",
            "852:\tlearn: 1445.8831714\ttotal: 1.88s\tremaining: 323ms\n",
            "853:\tlearn: 1445.3194040\ttotal: 1.88s\tremaining: 321ms\n",
            "854:\tlearn: 1444.9692177\ttotal: 1.88s\tremaining: 319ms\n",
            "855:\tlearn: 1444.9017587\ttotal: 1.88s\tremaining: 316ms\n",
            "856:\tlearn: 1444.5609571\ttotal: 1.88s\tremaining: 314ms\n",
            "857:\tlearn: 1444.1281278\ttotal: 1.88s\tremaining: 312ms\n",
            "858:\tlearn: 1443.9967240\ttotal: 1.89s\tremaining: 310ms\n",
            "859:\tlearn: 1443.5781682\ttotal: 1.89s\tremaining: 307ms\n",
            "860:\tlearn: 1443.2678628\ttotal: 1.89s\tremaining: 305ms\n",
            "861:\tlearn: 1443.2031726\ttotal: 1.89s\tremaining: 303ms\n",
            "862:\tlearn: 1443.0320211\ttotal: 1.89s\tremaining: 301ms\n",
            "863:\tlearn: 1442.7373056\ttotal: 1.9s\tremaining: 298ms\n",
            "864:\tlearn: 1442.3124627\ttotal: 1.9s\tremaining: 296ms\n",
            "865:\tlearn: 1442.3091257\ttotal: 1.9s\tremaining: 294ms\n",
            "866:\tlearn: 1441.7809279\ttotal: 1.9s\tremaining: 292ms\n",
            "867:\tlearn: 1441.6266369\ttotal: 1.9s\tremaining: 289ms\n",
            "868:\tlearn: 1441.4770548\ttotal: 1.91s\tremaining: 288ms\n",
            "869:\tlearn: 1441.3138175\ttotal: 1.92s\tremaining: 286ms\n",
            "870:\tlearn: 1440.8453966\ttotal: 1.92s\tremaining: 284ms\n",
            "871:\tlearn: 1440.5893895\ttotal: 1.92s\tremaining: 282ms\n",
            "872:\tlearn: 1440.4814841\ttotal: 1.93s\tremaining: 281ms\n",
            "873:\tlearn: 1440.4189430\ttotal: 1.93s\tremaining: 278ms\n",
            "874:\tlearn: 1440.4168150\ttotal: 1.93s\tremaining: 276ms\n",
            "875:\tlearn: 1440.4134247\ttotal: 1.93s\tremaining: 274ms\n",
            "876:\tlearn: 1440.1888814\ttotal: 1.94s\tremaining: 272ms\n",
            "877:\tlearn: 1439.8345050\ttotal: 1.94s\tremaining: 269ms\n",
            "878:\tlearn: 1439.4806511\ttotal: 1.94s\tremaining: 267ms\n",
            "879:\tlearn: 1439.2028904\ttotal: 1.94s\tremaining: 265ms\n",
            "880:\tlearn: 1438.7472496\ttotal: 1.94s\tremaining: 263ms\n",
            "881:\tlearn: 1438.5670982\ttotal: 1.95s\tremaining: 260ms\n",
            "882:\tlearn: 1438.5641485\ttotal: 1.95s\tremaining: 258ms\n",
            "883:\tlearn: 1437.9403800\ttotal: 1.95s\tremaining: 256ms\n",
            "884:\tlearn: 1437.5493199\ttotal: 1.95s\tremaining: 254ms\n",
            "885:\tlearn: 1436.9101397\ttotal: 1.96s\tremaining: 252ms\n",
            "886:\tlearn: 1436.3980361\ttotal: 1.96s\tremaining: 249ms\n",
            "887:\tlearn: 1436.0231152\ttotal: 1.96s\tremaining: 247ms\n",
            "888:\tlearn: 1435.5457145\ttotal: 1.96s\tremaining: 245ms\n",
            "889:\tlearn: 1435.2861676\ttotal: 1.96s\tremaining: 243ms\n",
            "890:\tlearn: 1435.2842827\ttotal: 1.96s\tremaining: 240ms\n",
            "891:\tlearn: 1434.9485688\ttotal: 1.97s\tremaining: 238ms\n",
            "892:\tlearn: 1434.4647108\ttotal: 1.97s\tremaining: 236ms\n",
            "893:\tlearn: 1434.0763276\ttotal: 1.97s\tremaining: 234ms\n",
            "894:\tlearn: 1433.8096544\ttotal: 1.97s\tremaining: 231ms\n",
            "895:\tlearn: 1433.8080976\ttotal: 1.97s\tremaining: 229ms\n",
            "896:\tlearn: 1433.4302034\ttotal: 1.97s\tremaining: 227ms\n",
            "897:\tlearn: 1433.0685407\ttotal: 1.98s\tremaining: 225ms\n",
            "898:\tlearn: 1432.7477405\ttotal: 1.98s\tremaining: 222ms\n",
            "899:\tlearn: 1432.4168701\ttotal: 1.98s\tremaining: 220ms\n",
            "900:\tlearn: 1432.0883090\ttotal: 1.98s\tremaining: 218ms\n",
            "901:\tlearn: 1431.6808843\ttotal: 1.98s\tremaining: 216ms\n",
            "902:\tlearn: 1431.3136350\ttotal: 1.99s\tremaining: 213ms\n",
            "903:\tlearn: 1431.1017034\ttotal: 1.99s\tremaining: 211ms\n",
            "904:\tlearn: 1430.7038956\ttotal: 1.99s\tremaining: 209ms\n",
            "905:\tlearn: 1430.3659010\ttotal: 1.99s\tremaining: 207ms\n",
            "906:\tlearn: 1430.2852661\ttotal: 1.99s\tremaining: 204ms\n",
            "907:\tlearn: 1429.6312476\ttotal: 2s\tremaining: 202ms\n",
            "908:\tlearn: 1429.5319200\ttotal: 2s\tremaining: 200ms\n",
            "909:\tlearn: 1429.4336407\ttotal: 2s\tremaining: 198ms\n",
            "910:\tlearn: 1429.0012968\ttotal: 2s\tremaining: 196ms\n",
            "911:\tlearn: 1428.5440316\ttotal: 2s\tremaining: 193ms\n",
            "912:\tlearn: 1428.5412944\ttotal: 2s\tremaining: 191ms\n",
            "913:\tlearn: 1428.0742534\ttotal: 2.01s\tremaining: 189ms\n",
            "914:\tlearn: 1427.6730743\ttotal: 2.01s\tremaining: 187ms\n",
            "915:\tlearn: 1427.4568720\ttotal: 2.01s\tremaining: 184ms\n",
            "916:\tlearn: 1427.0954844\ttotal: 2.01s\tremaining: 182ms\n",
            "917:\tlearn: 1426.9366839\ttotal: 2.01s\tremaining: 180ms\n",
            "918:\tlearn: 1426.6813388\ttotal: 2.02s\tremaining: 178ms\n",
            "919:\tlearn: 1426.4727369\ttotal: 2.02s\tremaining: 175ms\n",
            "920:\tlearn: 1425.8065575\ttotal: 2.02s\tremaining: 173ms\n",
            "921:\tlearn: 1425.4383787\ttotal: 2.02s\tremaining: 171ms\n",
            "922:\tlearn: 1425.3379628\ttotal: 2.02s\tremaining: 169ms\n",
            "923:\tlearn: 1424.9616135\ttotal: 2.02s\tremaining: 167ms\n",
            "924:\tlearn: 1424.6244477\ttotal: 2.03s\tremaining: 164ms\n",
            "925:\tlearn: 1424.5101258\ttotal: 2.03s\tremaining: 162ms\n",
            "926:\tlearn: 1423.7127644\ttotal: 2.03s\tremaining: 160ms\n",
            "927:\tlearn: 1423.1616805\ttotal: 2.03s\tremaining: 158ms\n",
            "928:\tlearn: 1422.8866592\ttotal: 2.03s\tremaining: 155ms\n",
            "929:\tlearn: 1422.6508425\ttotal: 2.04s\tremaining: 153ms\n",
            "930:\tlearn: 1422.1944665\ttotal: 2.04s\tremaining: 151ms\n",
            "931:\tlearn: 1421.8175894\ttotal: 2.04s\tremaining: 149ms\n",
            "932:\tlearn: 1421.3839682\ttotal: 2.04s\tremaining: 147ms\n",
            "933:\tlearn: 1420.8144125\ttotal: 2.04s\tremaining: 144ms\n",
            "934:\tlearn: 1420.4211554\ttotal: 2.05s\tremaining: 142ms\n",
            "935:\tlearn: 1419.6126410\ttotal: 2.05s\tremaining: 140ms\n",
            "936:\tlearn: 1419.3165205\ttotal: 2.05s\tremaining: 138ms\n",
            "937:\tlearn: 1418.9423710\ttotal: 2.05s\tremaining: 136ms\n",
            "938:\tlearn: 1418.2763924\ttotal: 2.05s\tremaining: 133ms\n",
            "939:\tlearn: 1418.1169155\ttotal: 2.06s\tremaining: 131ms\n",
            "940:\tlearn: 1417.5612620\ttotal: 2.06s\tremaining: 129ms\n",
            "941:\tlearn: 1417.4670040\ttotal: 2.06s\tremaining: 127ms\n",
            "942:\tlearn: 1417.3760279\ttotal: 2.06s\tremaining: 125ms\n",
            "943:\tlearn: 1416.9267376\ttotal: 2.06s\tremaining: 122ms\n",
            "944:\tlearn: 1416.5505930\ttotal: 2.06s\tremaining: 120ms\n",
            "945:\tlearn: 1416.1936115\ttotal: 2.07s\tremaining: 118ms\n",
            "946:\tlearn: 1416.1115599\ttotal: 2.07s\tremaining: 116ms\n",
            "947:\tlearn: 1415.2080120\ttotal: 2.07s\tremaining: 114ms\n",
            "948:\tlearn: 1414.8647845\ttotal: 2.07s\tremaining: 111ms\n",
            "949:\tlearn: 1414.4300006\ttotal: 2.07s\tremaining: 109ms\n",
            "950:\tlearn: 1413.9990471\ttotal: 2.08s\tremaining: 107ms\n",
            "951:\tlearn: 1413.5043901\ttotal: 2.08s\tremaining: 105ms\n",
            "952:\tlearn: 1413.1756953\ttotal: 2.08s\tremaining: 103ms\n",
            "953:\tlearn: 1412.8904657\ttotal: 2.08s\tremaining: 100ms\n",
            "954:\tlearn: 1412.6445377\ttotal: 2.08s\tremaining: 98.2ms\n",
            "955:\tlearn: 1412.6417853\ttotal: 2.08s\tremaining: 96ms\n",
            "956:\tlearn: 1412.6201514\ttotal: 2.09s\tremaining: 93.8ms\n",
            "957:\tlearn: 1412.2696695\ttotal: 2.09s\tremaining: 91.6ms\n",
            "958:\tlearn: 1412.0472322\ttotal: 2.09s\tremaining: 89.4ms\n",
            "959:\tlearn: 1411.8732485\ttotal: 2.09s\tremaining: 87.2ms\n",
            "960:\tlearn: 1411.4802503\ttotal: 2.09s\tremaining: 85ms\n",
            "961:\tlearn: 1411.0777917\ttotal: 2.1s\tremaining: 82.8ms\n",
            "962:\tlearn: 1410.6046366\ttotal: 2.1s\tremaining: 80.6ms\n",
            "963:\tlearn: 1410.1885444\ttotal: 2.1s\tremaining: 78.5ms\n",
            "964:\tlearn: 1409.8607182\ttotal: 2.11s\tremaining: 76.4ms\n",
            "965:\tlearn: 1409.3551953\ttotal: 2.11s\tremaining: 74.2ms\n",
            "966:\tlearn: 1409.1930304\ttotal: 2.11s\tremaining: 72ms\n",
            "967:\tlearn: 1408.7031163\ttotal: 2.11s\tremaining: 69.8ms\n",
            "968:\tlearn: 1408.6134582\ttotal: 2.11s\tremaining: 67.6ms\n",
            "969:\tlearn: 1408.2845765\ttotal: 2.12s\tremaining: 65.4ms\n",
            "970:\tlearn: 1407.9471053\ttotal: 2.12s\tremaining: 63.3ms\n",
            "971:\tlearn: 1407.9446839\ttotal: 2.12s\tremaining: 61.1ms\n",
            "972:\tlearn: 1407.7538686\ttotal: 2.12s\tremaining: 58.9ms\n",
            "973:\tlearn: 1407.5390575\ttotal: 2.12s\tremaining: 56.7ms\n",
            "974:\tlearn: 1407.3172501\ttotal: 2.13s\tremaining: 54.5ms\n",
            "975:\tlearn: 1406.9542261\ttotal: 2.13s\tremaining: 52.3ms\n",
            "976:\tlearn: 1406.6906908\ttotal: 2.13s\tremaining: 50.1ms\n",
            "977:\tlearn: 1406.5284250\ttotal: 2.13s\tremaining: 47.9ms\n",
            "978:\tlearn: 1406.3022867\ttotal: 2.13s\tremaining: 45.8ms\n",
            "979:\tlearn: 1405.9187172\ttotal: 2.13s\tremaining: 43.6ms\n",
            "980:\tlearn: 1405.2746908\ttotal: 2.14s\tremaining: 41.4ms\n",
            "981:\tlearn: 1405.0945060\ttotal: 2.14s\tremaining: 39.2ms\n",
            "982:\tlearn: 1404.6519871\ttotal: 2.14s\tremaining: 37ms\n",
            "983:\tlearn: 1404.2592571\ttotal: 2.14s\tremaining: 34.8ms\n",
            "984:\tlearn: 1404.0541623\ttotal: 2.15s\tremaining: 32.7ms\n",
            "985:\tlearn: 1403.6960618\ttotal: 2.15s\tremaining: 30.5ms\n",
            "986:\tlearn: 1403.4109863\ttotal: 2.15s\tremaining: 28.3ms\n",
            "987:\tlearn: 1403.1374825\ttotal: 2.15s\tremaining: 26.2ms\n",
            "988:\tlearn: 1402.6220507\ttotal: 2.15s\tremaining: 24ms\n",
            "989:\tlearn: 1402.4110799\ttotal: 2.16s\tremaining: 21.8ms\n",
            "990:\tlearn: 1402.1670265\ttotal: 2.16s\tremaining: 19.6ms\n",
            "991:\tlearn: 1402.0511266\ttotal: 2.16s\tremaining: 17.4ms\n",
            "992:\tlearn: 1401.9432650\ttotal: 2.16s\tremaining: 15.2ms\n",
            "993:\tlearn: 1401.7068627\ttotal: 2.16s\tremaining: 13.1ms\n",
            "994:\tlearn: 1401.2784169\ttotal: 2.17s\tremaining: 10.9ms\n",
            "995:\tlearn: 1401.1914028\ttotal: 2.17s\tremaining: 8.71ms\n",
            "996:\tlearn: 1400.5979870\ttotal: 2.17s\tremaining: 6.53ms\n",
            "997:\tlearn: 1399.8580133\ttotal: 2.17s\tremaining: 4.35ms\n",
            "998:\tlearn: 1399.6210936\ttotal: 2.17s\tremaining: 2.17ms\n",
            "999:\tlearn: 1399.3300415\ttotal: 2.17s\tremaining: 0us\n"
          ]
        },
        {
          "output_type": "execute_result",
          "data": {
            "text/plain": [
              "<catboost.core.CatBoostRegressor at 0x7f521c5c7350>"
            ]
          },
          "metadata": {},
          "execution_count": 59
        }
      ]
    },
    {
      "cell_type": "code",
      "source": [
        "cat_pred=cat.predict(x_test)"
      ],
      "metadata": {
        "id": "ccCGzFSEzU63"
      },
      "execution_count": 60,
      "outputs": []
    },
    {
      "cell_type": "code",
      "source": [
        "r2_score(y_test,cat_pred)"
      ],
      "metadata": {
        "colab": {
          "base_uri": "https://localhost:8080/"
        },
        "id": "rsmhNWutzfp3",
        "outputId": "9d6e804c-3bc8-4624-afe3-5d0cfa672908"
      },
      "execution_count": 61,
      "outputs": [
        {
          "output_type": "execute_result",
          "data": {
            "text/plain": [
              "0.8273858089678572"
            ]
          },
          "metadata": {},
          "execution_count": 61
        }
      ]
    },
    {
      "cell_type": "code",
      "source": [
        "!pip install lightgbm"
      ],
      "metadata": {
        "colab": {
          "base_uri": "https://localhost:8080/"
        },
        "id": "-z5vycQvziu3",
        "outputId": "67d53ac8-7c4e-4cc6-e4e5-384ed9b57d9a"
      },
      "execution_count": 62,
      "outputs": [
        {
          "output_type": "stream",
          "name": "stdout",
          "text": [
            "Requirement already satisfied: lightgbm in /usr/local/lib/python3.7/dist-packages (2.2.3)\n",
            "Requirement already satisfied: scikit-learn in /usr/local/lib/python3.7/dist-packages (from lightgbm) (1.0.2)\n",
            "Requirement already satisfied: scipy in /usr/local/lib/python3.7/dist-packages (from lightgbm) (1.4.1)\n",
            "Requirement already satisfied: numpy in /usr/local/lib/python3.7/dist-packages (from lightgbm) (1.21.5)\n",
            "Requirement already satisfied: joblib>=0.11 in /usr/local/lib/python3.7/dist-packages (from scikit-learn->lightgbm) (1.1.0)\n",
            "Requirement already satisfied: threadpoolctl>=2.0.0 in /usr/local/lib/python3.7/dist-packages (from scikit-learn->lightgbm) (3.1.0)\n"
          ]
        }
      ]
    },
    {
      "cell_type": "code",
      "source": [
        "x_train[['duration_hr','duration_min']]=x_train[['duration_hr','duration_min']].astype(int)\n",
        "x_test[['duration_hr','duration_min']]=x_test[['duration_hr','duration_min']].astype(int)"
      ],
      "metadata": {
        "id": "-qspQDFMzlnQ"
      },
      "execution_count": 63,
      "outputs": []
    },
    {
      "cell_type": "code",
      "source": [
        "from lightgbm import LGBMRegressor\n",
        "lgb_model = LGBMRegressor()\n",
        "lgb_model.fit(x_train,y_train)"
      ],
      "metadata": {
        "colab": {
          "base_uri": "https://localhost:8080/"
        },
        "id": "KLpAwDzxz1UO",
        "outputId": "67b6600e-283b-4a24-f241-544261c9a2d5"
      },
      "execution_count": 64,
      "outputs": [
        {
          "output_type": "execute_result",
          "data": {
            "text/plain": [
              "LGBMRegressor()"
            ]
          },
          "metadata": {},
          "execution_count": 64
        }
      ]
    },
    {
      "cell_type": "code",
      "source": [
        "lgb_pred=lgb_model.predict(x_test)\n",
        "r2_score(y_test,lgb_pred)"
      ],
      "metadata": {
        "colab": {
          "base_uri": "https://localhost:8080/"
        },
        "id": "xEGv7lrk0Awj",
        "outputId": "22dd7dcb-db01-4ca1-aad6-f7cb0fe7a79d"
      },
      "execution_count": 65,
      "outputs": [
        {
          "output_type": "execute_result",
          "data": {
            "text/plain": [
              "0.8030064936005559"
            ]
          },
          "metadata": {},
          "execution_count": 65
        }
      ]
    },
    {
      "cell_type": "code",
      "source": [
        "!pip install xgboost"
      ],
      "metadata": {
        "colab": {
          "base_uri": "https://localhost:8080/"
        },
        "id": "qFeasvWL0FyT",
        "outputId": "0dd61fa5-f7a9-4548-9ce5-202b648abb39"
      },
      "execution_count": 66,
      "outputs": [
        {
          "output_type": "stream",
          "name": "stdout",
          "text": [
            "Requirement already satisfied: xgboost in /usr/local/lib/python3.7/dist-packages (0.90)\n",
            "Requirement already satisfied: scipy in /usr/local/lib/python3.7/dist-packages (from xgboost) (1.4.1)\n",
            "Requirement already satisfied: numpy in /usr/local/lib/python3.7/dist-packages (from xgboost) (1.21.5)\n"
          ]
        }
      ]
    },
    {
      "cell_type": "code",
      "source": [
        "import xgboost as xgb\n",
        "xgb_model=xgb.XGBRegressor() \n",
        "xgb_model.fit(x_train,y_train) \n",
        "xgb_pred=xgb_model.predict(x_test) \n",
        "r2_score(y_test,xgb_pred)"
      ],
      "metadata": {
        "colab": {
          "base_uri": "https://localhost:8080/"
        },
        "id": "liEFKZRp0NRc",
        "outputId": "87e4abbe-396c-477a-a437-de58744c6e4f"
      },
      "execution_count": 67,
      "outputs": [
        {
          "output_type": "stream",
          "name": "stdout",
          "text": [
            "[22:40:45] WARNING: /workspace/src/objective/regression_obj.cu:152: reg:linear is now deprecated in favor of reg:squarederror.\n"
          ]
        },
        {
          "output_type": "execute_result",
          "data": {
            "text/plain": [
              "0.7360850618843358"
            ]
          },
          "metadata": {},
          "execution_count": 67
        }
      ]
    },
    {
      "cell_type": "code",
      "source": [
        " #Use pickle to save our model so that we can use it later\n",
        "import pickle\n",
        "# # Saving model to disk\n",
        "pickle.dump(ET_Model,open(\"model_ET\",\"wb\"))\n",
        "model=pickle.load(open(\"model_ET\",\"rb\"))"
      ],
      "metadata": {
        "id": "ktTS0urs0k0R"
      },
      "execution_count": 68,
      "outputs": []
    },
    {
      "cell_type": "code",
      "source": [
        "deploy_df=df.drop(['Route','Additional_Info'],axis=1)"
      ],
      "metadata": {
        "id": "BNAi1M-T09OP"
      },
      "execution_count": 69,
      "outputs": []
    },
    {
      "cell_type": "code",
      "source": [
        "deploy_df.to_csv('deploy_df')"
      ],
      "metadata": {
        "id": "aexzZ6_n6r1x"
      },
      "execution_count": 71,
      "outputs": []
    },
    {
      "cell_type": "code",
      "source": [
        ""
      ],
      "metadata": {
        "id": "QwgEkKoO6wCt"
      },
      "execution_count": 70,
      "outputs": []
    }
  ]
}